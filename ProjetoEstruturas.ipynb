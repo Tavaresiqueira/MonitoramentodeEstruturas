{
 "cells": [
  {
   "cell_type": "code",
   "execution_count": 1,
   "metadata": {
    "scrolled": true
   },
   "outputs": [
    {
     "name": "stdout",
     "output_type": "stream",
     "text": [
      "A partir de qual série você deseja fazer o dataframe:V\n"
     ]
    }
   ],
   "source": [
    "import numpy as np\n",
    "from datetime import datetime\n",
    "import scipy.stats as si\n",
    "import sympy as sy\n",
    "from sympy.stats import Normal, cdf\n",
    "from sympy import init_printing\n",
    "init_printing()\n",
    "def BlackandScholesPut(S, K, T, r, sigma):\n",
    "    \n",
    "    #S: spot price\n",
    "    #K: strike price\n",
    "    #T: time to maturity\n",
    "    #r: interest rate\n",
    "    #sigma: volatility of underlying asset\n",
    "    \n",
    "    d1 = (np.log(S / K) + (r + 0.5 * sigma ** 2) * T) / (sigma * np.sqrt(T))\n",
    "    d2 = (np.log(S / K) + (r - 0.5 * sigma ** 2) * T) / (sigma * np.sqrt(T))\n",
    "    \n",
    "    put = (K * np.exp(-r * T) * si.norm.cdf(-d2, 0.0, 1.0) - S * si.norm.cdf(-d1, 0.0, 1.0))\n",
    "    \n",
    "    return put\n",
    "import pandas as pd\n",
    "import plotly.express as px\n",
    "import dash\n",
    "import plotly.graph_objs as go\n",
    "import pylab as pl\n",
    "import matplotlib.pyplot as plt\n",
    "import plotly.io as pio\n",
    "#atualizar de acordo com a semana posição dos assessores em estruturas\n",
    "DF=pd.read_excel('Posições AAI (3).xlsx')\n",
    "DF['Financeiro']=DF['Size']*DF['Price TX']\n",
    "série=str(input(\"A partir de qual série você deseja fazer o dataframe:\"))\n",
    "Série=[]\n",
    "df=[]\n",
    "for x in DF['Ticker']:\n",
    "    Série.append(x[4:5])\n",
    "DF['Série']=Série    \n",
    "DF=DF.sort_values(by='Série')\n",
    "DF=DF[DF['Série']>=f'{série}']\n",
    "Acoes_geral=[]\n",
    "for x in DF['Ticker']:\n",
    "    Acoes_geral.append(x[0:4])\n",
    "DF['Ticker Ação']=Acoes_geral\n",
    "#Mudar ocasionalmente a base de opções em aberto na B3\n",
    "Df=pd.read_excel('Pasta1.xlsx')\n",
    "Df['Strike']=Df['Strike']/1000000000000\n",
    "Df=Df.dropna()\n",
    "d=Df['Ticker Ação'].apply(lambda x:x.replace(' ',''))\n",
    "Df['Ticker Ação']=list(d)\n",
    "f=Df['Ticker Opção'].apply(lambda x:x.replace(' ',''))\n",
    "Df['Ticker Opção']=list(f)\n",
    "opcoes=list(DF['Ticker'])\n",
    "h=[]\n",
    "for x in opcoes:\n",
    "    \n",
    "    Df[Df['Ticker Opção']==x]['Strike'].apply(lambda i:h.append(i)) \n",
    "DF['Strike']=h    "
   ]
  },
  {
   "cell_type": "code",
   "execution_count": 27,
   "metadata": {
    "scrolled": true
   },
   "outputs": [
    {
     "name": "stderr",
     "output_type": "stream",
     "text": [
      "<ipython-input-27-33fda55dcd6d>:24: SettingWithCopyWarning: \n",
      "A value is trying to be set on a copy of a slice from a DataFrame\n",
      "\n",
      "See the caveats in the documentation: https://pandas.pydata.org/pandas-docs/stable/user_guide/indexing.html#returning-a-view-versus-a-copy\n",
      "  DF['Ticker Ação'][x]=str(DF['Ticker'][x][0:4])+DF['TP Opção'][x]\n"
     ]
    }
   ],
   "source": [
    "tp=[]\n",
    "for x in opcoes:\n",
    "    \n",
    "    Df[Df['Ticker Opção']==x]['Tipo de Ação'].apply(lambda i:tp.append(i)) \n",
    "DF['Tipo de Ação']=tp\n",
    "DF['Tipo de Ação']=DF['Tipo de Ação'].apply(lambda x:x.replace(' ',''))\n",
    "num=[]\n",
    "\n",
    "for x in DF.index:\n",
    "    if DF['Tipo de Ação'][x][0:3]=='PNN':\n",
    "        num.append('4')\n",
    "    elif DF['Tipo de Ação'][x][0:3]=='PNA':\n",
    "        num.append('5')\n",
    "    elif DF['Tipo de Ação'][x][0:3]=='UNT':\n",
    "        num.append('11')\n",
    "    elif DF['Tipo de Ação'][x][0:2]=='ON':\n",
    "        num.append('3')\n",
    "    elif DF['Tipo de Ação'][x][0:2]=='CI':\n",
    "        num.append('11')\n",
    "    else:\n",
    "        print(f'Opa Faltou essa {x}')\n",
    "DF['TP Opção']=num        \n",
    "for x in DF.index:\n",
    "    DF['Ticker Ação'][x]=str(DF['Ticker'][x][0:4])+DF['TP Opção'][x]"
   ]
  },
  {
   "cell_type": "code",
   "execution_count": 42,
   "metadata": {},
   "outputs": [],
   "source": [
    "vol_diaria=pd.read_excel('Voldiaria.xlsx')"
   ]
  },
  {
   "cell_type": "code",
   "execution_count": 43,
   "metadata": {
    "scrolled": true
   },
   "outputs": [],
   "source": [
    "f=list(dict.fromkeys(DF['Ticker Ação']))\n",
    "z=list(vol_diaria['Ticker'])"
   ]
  },
  {
   "cell_type": "code",
   "execution_count": 44,
   "metadata": {},
   "outputs": [
    {
     "data": {
      "image/png": "[encoded data removed]",
      "text/latex": [
       "$\\displaystyle \\left[ \\right]$"
      ],
      "text/plain": [
       "[]"
      ]
     },
     "execution_count": 44,
     "metadata": {},
     "output_type": "execute_result"
    }
   ],
   "source": [
    "list(set(f) - set(z))"
   ]
  },
  {
   "cell_type": "code",
   "execution_count": 45,
   "metadata": {
    "scrolled": true
   },
   "outputs": [],
   "source": [
    "vol_diaria=pd.read_excel('Voldiaria.xlsx')\n",
    "vol=[]\n",
    "for x in DF['Ticker Ação']:\n",
    "    for y in vol_diaria.index:\n",
    "        if x==vol_diaria['Ticker'][y]:\n",
    "            vol.append(vol_diaria['Vol'][y])\n",
    "DF['Volatilidade(%)']=vol \n",
    "vencimento=[]\n",
    "for x in DF['Série']:\n",
    "    if x=='U':\n",
    "        vencimento.append('2021-09-17')\n",
    "    elif x=='V':\n",
    "        vencimento.append('2021-10-15')\n",
    "    elif x=='W':\n",
    "        vencimento.append('2021-11-19')\n",
    "    elif x=='X':\n",
    "        vencimento.append('2021-12-17')\n",
    "    else:\n",
    "        print('deu ruim')\n",
    "DF['Data de Vencimento']=vencimento   \n",
    "from workalendar.america import Brazil\n",
    "diasuteis=[]\n",
    "for x in DF['Data de Vencimento']:\n",
    "    start_date =str(datetime.today())[0:10] \n",
    "    end_date = x\n",
    "\n",
    "    start_datetime = datetime.strptime(start_date, '%Y-%m-%d')\n",
    "    end_datetime = datetime.strptime(end_date, '%Y-%m-%d')\n",
    "\n",
    "    cal = Brazil()\n",
    "\n",
    "    diasuteis.append(cal.get_working_days_delta(start_datetime, end_datetime))\n",
    "DF['Dias Úteis']=diasuteis\n",
    "Preço=[]\n",
    "for x in DF['Ticker Ação']:\n",
    "    for y in vol_diaria.index:\n",
    "        if x==vol_diaria['Ticker'][y]:\n",
    "            Preço.append(vol_diaria['Preço'][y])\n",
    "DF['Preço Atual']=Preço\n",
    "        "
   ]
  },
  {
   "cell_type": "code",
   "execution_count": 47,
   "metadata": {},
   "outputs": [],
   "source": [
    "import yfinance\n",
    "precos=[]\n",
    "tic=[]\n",
    "for x in list(dict.fromkeys(DF['Ticker Ação'])):\n",
    "    T=yfinance.Ticker(f'{x}'+'.SA')\n",
    "    Cotação=T.history(period='1d')\n",
    "    Cotação['Close'].apply(lambda x:precos.append(x))\n",
    "    tic.append(x)\n",
    "Cotação=pd.DataFrame()\n",
    "Cotação['Preço']=precos\n",
    "Cotação['Ticker']=tic    "
   ]
  },
  {
   "cell_type": "code",
   "execution_count": 48,
   "metadata": {},
   "outputs": [],
   "source": [
    "preçogeral=[]\n",
    "for x in DF['Ticker Ação']:\n",
    "    for y in Cotação.index:\n",
    "        if x==Cotação['Ticker'][y]:\n",
    "            preçogeral.append(Cotação['Preço'][y])"
   ]
  },
  {
   "cell_type": "code",
   "execution_count": 49,
   "metadata": {},
   "outputs": [],
   "source": [
    "DF['Preço Atual']=preçogeral"
   ]
  },
  {
   "cell_type": "code",
   "execution_count": 54,
   "metadata": {},
   "outputs": [
    {
     "name": "stderr",
     "output_type": "stream",
     "text": [
      "<ipython-input-54-90843dfd9e80>:7: SettingWithCopyWarning: \n",
      "A value is trying to be set on a copy of a slice from a DataFrame.\n",
      "Try using .loc[row_indexer,col_indexer] = value instead\n",
      "\n",
      "See the caveats in the documentation: https://pandas.pydata.org/pandas-docs/stable/user_guide/indexing.html#returning-a-view-versus-a-copy\n",
      "  BPS['Valor']=Bs\n",
      "<ipython-input-54-90843dfd9e80>:18: SettingWithCopyWarning: \n",
      "A value is trying to be set on a copy of a slice from a DataFrame.\n",
      "Try using .loc[row_indexer,col_indexer] = value instead\n",
      "\n",
      "See the caveats in the documentation: https://pandas.pydata.org/pandas-docs/stable/user_guide/indexing.html#returning-a-view-versus-a-copy\n",
      "  BPS['Situação']=Situacao\n"
     ]
    }
   ],
   "source": [
    "Bs=[]\n",
    "for x in BPS.index:\n",
    "    maturidade=(BPS['Dias Úteis'][x]/252)\n",
    "    vol_ajust=(BPS['Volatilidade(%)'][x]/100)\n",
    "    juros=0.0625\n",
    "    Bs.append(BlackandScholesPut(BPS['Preço Atual'][x],BPS['Strike'][x],maturidade,juros,vol_ajust))\n",
    "BPS['Valor']=Bs    \n",
    "d=BPS['Valor']/BPS['Price TX']\n",
    "Situacao=[]\n",
    "for x in d.index:\n",
    "    if  d[x]<=0.85:\n",
    "        Situacao.append('Vale a Pena Zerar')\n",
    "    elif d[x]<=1.25 and d[x]>=0.85:\n",
    "        Situacao.append('Vale ficar de olho')\n",
    "    else:\n",
    "        Situacao.append('Aguardar') \n",
    "        \n",
    "BPS['Situação']=Situacao   "
   ]
  },
  {
   "cell_type": "code",
   "execution_count": 71,
   "metadata": {
    "scrolled": true
   },
   "outputs": [],
   "source": [
    "idx=[]\n",
    "for x in BPS['#']:\n",
    "    if BPS[BPS['#']==x]['Operação'].count()==2:\n",
    "        idx.append(x)                                                                                                 \n",
    "        "
   ]
  },
  {
   "cell_type": "code",
   "execution_count": 73,
   "metadata": {},
   "outputs": [
    {
     "ename": "IndexError",
     "evalue": "list index out of range",
     "output_type": "error",
     "traceback": [
      "\u001b[1;31m---------------------------------------------------------------------------\u001b[0m",
      "\u001b[1;31mIndexError\u001b[0m                                Traceback (most recent call last)",
      "\u001b[1;32m<ipython-input-73-8c4a0cc2c2bd>\u001b[0m in \u001b[0;36m<module>\u001b[1;34m\u001b[0m\n\u001b[0;32m      5\u001b[0m         \u001b[0mindices\u001b[0m\u001b[1;33m.\u001b[0m\u001b[0mappend\u001b[0m\u001b[1;33m(\u001b[0m\u001b[0my\u001b[0m\u001b[1;33m)\u001b[0m\u001b[1;33m\u001b[0m\u001b[1;33m\u001b[0m\u001b[0m\n\u001b[0;32m      6\u001b[0m         \u001b[0mind\u001b[0m\u001b[1;33m=\u001b[0m\u001b[0mindices\u001b[0m\u001b[1;33m[\u001b[0m\u001b[1;36m0\u001b[0m\u001b[1;33m]\u001b[0m\u001b[1;33m\u001b[0m\u001b[1;33m\u001b[0m\u001b[0m\n\u001b[1;32m----> 7\u001b[1;33m         \u001b[0mind2\u001b[0m\u001b[1;33m=\u001b[0m\u001b[0mindices\u001b[0m\u001b[1;33m[\u001b[0m\u001b[1;36m1\u001b[0m\u001b[1;33m]\u001b[0m\u001b[1;33m\u001b[0m\u001b[1;33m\u001b[0m\u001b[0m\n\u001b[0m\u001b[0;32m      8\u001b[0m         \u001b[0mvaloratual\u001b[0m\u001b[1;33m=\u001b[0m\u001b[0mdfbps\u001b[0m\u001b[1;33m[\u001b[0m\u001b[1;34m'Valor'\u001b[0m\u001b[1;33m]\u001b[0m\u001b[1;33m[\u001b[0m\u001b[0mind\u001b[0m\u001b[1;33m]\u001b[0m\u001b[1;33m-\u001b[0m\u001b[0mdfbps\u001b[0m\u001b[1;33m[\u001b[0m\u001b[1;34m'Valor'\u001b[0m\u001b[1;33m]\u001b[0m\u001b[1;33m[\u001b[0m\u001b[0mind2\u001b[0m\u001b[1;33m]\u001b[0m\u001b[1;33m\u001b[0m\u001b[1;33m\u001b[0m\u001b[0m\n\u001b[0;32m      9\u001b[0m         \u001b[0mBPS\u001b[0m\u001b[1;33m[\u001b[0m\u001b[1;34m'Valor'\u001b[0m\u001b[1;33m]\u001b[0m\u001b[1;33m[\u001b[0m\u001b[0mind\u001b[0m\u001b[1;33m]\u001b[0m\u001b[1;33m=\u001b[0m\u001b[0mvaloratual\u001b[0m\u001b[1;33m\u001b[0m\u001b[1;33m\u001b[0m\u001b[0m\n",
      "\u001b[1;31mIndexError\u001b[0m: list index out of range"
     ]
    }
   ],
   "source": [
    "for x in idx:\n",
    "    dfbps=BPS[BPS['#']==x].sort_values(by='Strike',ascending=False)\n",
    "    for y in dfbps.index:\n",
    "        indices=[]\n",
    "        indices.append(y)\n",
    "        ind=indices[0]\n",
    "        ind2=indices[1]\n",
    "        valoratual=dfbps['Valor'][ind]-dfbps['Valor'][ind2]\n",
    "        BPS['Valor'][ind]=valoratual\n",
    "        BPS['Exposição Financeira'][ind]=(BPS['Strike'][ind]-BPS['Strike'][ind2])+(BPS['Price TX'][ind]-BPS['Price TX'][ind2]) *BPS['Size'][ind]\n",
    "        BPS['Lucro ou Prejuízo (%)'][ind]=BPS['Valor'][ind]-(BPS['Price TX'][ind]-BPS['Price TX'][ind2])/(BPS['Size']*(BPS['Strike'][ind]-BPS['Strike'][ind2]))   "
   ]
  },
  {
   "cell_type": "code",
   "execution_count": 51,
   "metadata": {},
   "outputs": [],
   "source": [
    "BPS=DF[DF['Estrutura']=='Bull Put Spread']\n",
    "DS=DF[DF['Estrutura']=='Venda de Put']"
   ]
  },
  {
   "cell_type": "code",
   "execution_count": 104,
   "metadata": {},
   "outputs": [],
   "source": [
    "bps=[]\n",
    "for x in DF.index:\n",
    "    if DF['Estrutura'][x]=='Bull Put Spread':\n",
    "        bps.append(DF['#'][x])"
   ]
  },
  {
   "cell_type": "code",
   "execution_count": 7,
   "metadata": {
    "scrolled": true
   },
   "outputs": [],
   "source": [
    "Bs=[]\n",
    "for x in DF.index:\n",
    "    maturidade=(DF['Dias Úteis'][x]/252)\n",
    "    vol_ajust=(DF['Volatilidade(%)'][x]/100)\n",
    "    juros=0.0525\n",
    "    Bs.append(BlackandScholesPut(DF['Preço Atual'][x],DF['Strike'][x],maturidade,juros,vol_ajust))\n",
    "DF['Valor']=Bs    \n",
    "DF['Exposição Financeira']=DF['Size']*(DF['Preço Atual']-DF['Price TX'])\n",
    "DF['Lucro ou Prejuízo (%)']=((DF['Price TX']-DF['Valor'])/DF['Strike'])*100\n",
    "d=DF['Valor']/DF['Price TX']\n",
    "Situacao=[]\n",
    "for x in d.index:\n",
    "    if  d[x]<=0.85:\n",
    "        Situacao.append('Vale a Pena Zerar')\n",
    "    elif d[x]<=1.25 and d[x]>=0.85:\n",
    "        Situacao.append('Vale ficar de olho')\n",
    "    else:\n",
    "        Situacao.append('Aguardar') \n",
    "        \n",
    "DF['Situação']=Situacao   "
   ]
  },
  {
   "cell_type": "code",
   "execution_count": 133,
   "metadata": {},
   "outputs": [
    {
     "name": "stderr",
     "output_type": "stream",
     "text": [
      "<ipython-input-133-c4c46a9d8e2a>:12: SettingWithCopyWarning:\n",
      "\n",
      "\n",
      "A value is trying to be set on a copy of a slice from a DataFrame\n",
      "\n",
      "See the caveats in the documentation: https://pandas.pydata.org/pandas-docs/stable/user_guide/indexing.html#returning-a-view-versus-a-copy\n",
      "\n",
      "<ipython-input-133-c4c46a9d8e2a>:14: SettingWithCopyWarning:\n",
      "\n",
      "\n",
      "A value is trying to be set on a copy of a slice from a DataFrame\n",
      "\n",
      "See the caveats in the documentation: https://pandas.pydata.org/pandas-docs/stable/user_guide/indexing.html#returning-a-view-versus-a-copy\n",
      "\n",
      "<ipython-input-133-c4c46a9d8e2a>:15: SettingWithCopyWarning:\n",
      "\n",
      "\n",
      "A value is trying to be set on a copy of a slice from a DataFrame\n",
      "\n",
      "See the caveats in the documentation: https://pandas.pydata.org/pandas-docs/stable/user_guide/indexing.html#returning-a-view-versus-a-copy\n",
      "\n",
      "<ipython-input-133-c4c46a9d8e2a>:16: SettingWithCopyWarning:\n",
      "\n",
      "\n",
      "A value is trying to be set on a copy of a slice from a DataFrame\n",
      "\n",
      "See the caveats in the documentation: https://pandas.pydata.org/pandas-docs/stable/user_guide/indexing.html#returning-a-view-versus-a-copy\n",
      "\n"
     ]
    }
   ],
   "source": [
    "ndafazer=[]\n",
    "indices=[]\n",
    "for x in bps:\n",
    "    if DF[DF['#']==x]['Operação'].count()==2:\n",
    "        dfbps=DF[DF['#']==x].sort_values(by='Strike',ascending=False)\n",
    "        indices=[]\n",
    "        for y in dfbps.index:\n",
    "            indices.append(y)\n",
    "        ind=indices[0]\n",
    "        ind2=indices[1]\n",
    "        valoratual=dfbps['Valor'][ind]-dfbps['Valor'][ind2]\n",
    "        DF['Valor'][ind]=valoratual\n",
    "        ticker=DF['Ticker'][ind]\n",
    "        DF['Ticker'][ind]=f'BPS {ticker}'\n",
    "        DF['Exposição Financeira'][ind]=((DF['Strike'][ind]-DF['Strike'][ind2])-DF['Price TX'][ind])\n",
    "        DF['Lucro ou Prejuízo (%)'][ind]=((DF['Price TX'][ind]-DF['Valor'][ind])/DF['Strike'][ind])*100\n",
    "    else:\n",
    "        ndafazer.append(x)\n",
    "        \n",
    "        \n",
    "        "
   ]
  },
  {
   "cell_type": "code",
   "execution_count": 113,
   "metadata": {},
   "outputs": [
    {
     "data": {
      "image/png": "[encoded data removed]",
      "text/latex": [
       "$\\displaystyle 28.7$"
      ],
      "text/plain": [
       "28.7"
      ]
     },
     "execution_count": 113,
     "metadata": {},
     "output_type": "execute_result"
    }
   ],
   "source": [
    "DF['Strike'][ind]"
   ]
  },
  {
   "cell_type": "code",
   "execution_count": 134,
   "metadata": {
    "scrolled": true
   },
   "outputs": [
    {
     "data": {
      "text/html": [
       "<div>\n",
       "<style scoped>\n",
       "    .dataframe tbody tr th:only-of-type {\n",
       "        vertical-align: middle;\n",
       "    }\n",
       "\n",
       "    .dataframe tbody tr th {\n",
       "        vertical-align: top;\n",
       "    }\n",
       "\n",
       "    .dataframe thead th {\n",
       "        text-align: right;\n",
       "    }\n",
       "</style>\n",
       "<table border=\"1\" class=\"dataframe\">\n",
       "  <thead>\n",
       "    <tr style=\"text-align: right;\">\n",
       "      <th></th>\n",
       "      <th>#</th>\n",
       "      <th>Operação</th>\n",
       "      <th>Status</th>\n",
       "      <th>Data</th>\n",
       "      <th>Ticker</th>\n",
       "      <th>Side</th>\n",
       "      <th>Size</th>\n",
       "      <th>Price TX</th>\n",
       "      <th>Estrutura</th>\n",
       "      <th>AAI</th>\n",
       "      <th>...</th>\n",
       "      <th>Ticker Ação</th>\n",
       "      <th>Strike</th>\n",
       "      <th>Volatilidade(%)</th>\n",
       "      <th>Data de Vencimento</th>\n",
       "      <th>Dias Úteis</th>\n",
       "      <th>Preço Atual</th>\n",
       "      <th>Valor</th>\n",
       "      <th>Exposição Financeira</th>\n",
       "      <th>Lucro ou Prejuízo (%)</th>\n",
       "      <th>Situação</th>\n",
       "    </tr>\n",
       "  </thead>\n",
       "  <tbody>\n",
       "    <tr>\n",
       "      <th>513</th>\n",
       "      <td>1409</td>\n",
       "      <td>Swing Trade</td>\n",
       "      <td>Fechada</td>\n",
       "      <td>2021-08-10</td>\n",
       "      <td>BPS BPS SULA11 31.0-29.0</td>\n",
       "      <td>B</td>\n",
       "      <td>17000.0</td>\n",
       "      <td>0.50</td>\n",
       "      <td>Bull Put Spread</td>\n",
       "      <td>GABRIEL MALTA</td>\n",
       "      <td>...</td>\n",
       "      <td>SULA11</td>\n",
       "      <td>31.00</td>\n",
       "      <td>28.0</td>\n",
       "      <td>2021-10-15</td>\n",
       "      <td>13</td>\n",
       "      <td>27.370001</td>\n",
       "      <td>-3.403511</td>\n",
       "      <td>1.500000e+00</td>\n",
       "      <td>12.591972</td>\n",
       "      <td>Aguardar</td>\n",
       "    </tr>\n",
       "    <tr>\n",
       "      <th>509</th>\n",
       "      <td>1405</td>\n",
       "      <td>Swing Trade</td>\n",
       "      <td>Fechada</td>\n",
       "      <td>2021-08-05</td>\n",
       "      <td>VALEV91</td>\n",
       "      <td>S</td>\n",
       "      <td>50000.0</td>\n",
       "      <td>0.35</td>\n",
       "      <td>Bull Put Spread</td>\n",
       "      <td>GUILHERME</td>\n",
       "      <td>...</td>\n",
       "      <td>VALE3</td>\n",
       "      <td>104.91</td>\n",
       "      <td>32.5</td>\n",
       "      <td>2021-10-15</td>\n",
       "      <td>13</td>\n",
       "      <td>78.529999</td>\n",
       "      <td>26.096333</td>\n",
       "      <td>3.909000e+06</td>\n",
       "      <td>-24.541352</td>\n",
       "      <td>Aguardar</td>\n",
       "    </tr>\n",
       "    <tr>\n",
       "      <th>525</th>\n",
       "      <td>1421</td>\n",
       "      <td>Swing Trade</td>\n",
       "      <td>Fechada</td>\n",
       "      <td>2021-08-13</td>\n",
       "      <td>JBSSV345</td>\n",
       "      <td>B</td>\n",
       "      <td>75000.0</td>\n",
       "      <td>0.45</td>\n",
       "      <td>Bull Put Spread</td>\n",
       "      <td>VITOR (MESA PRIME)</td>\n",
       "      <td>...</td>\n",
       "      <td>JBSS3</td>\n",
       "      <td>32.48</td>\n",
       "      <td>34.0</td>\n",
       "      <td>2021-10-15</td>\n",
       "      <td>13</td>\n",
       "      <td>35.599998</td>\n",
       "      <td>0.140301</td>\n",
       "      <td>2.636250e+06</td>\n",
       "      <td>0.953508</td>\n",
       "      <td>Vale a Pena Zerar</td>\n",
       "    </tr>\n",
       "    <tr>\n",
       "      <th>556</th>\n",
       "      <td>1457</td>\n",
       "      <td>Swing Trade</td>\n",
       "      <td>Aberta</td>\n",
       "      <td>2021-08-23</td>\n",
       "      <td>BPS BPS BPS BPAC11 29.86-29.86</td>\n",
       "      <td>B</td>\n",
       "      <td>10000.0</td>\n",
       "      <td>0.45</td>\n",
       "      <td>Bull Put Spread</td>\n",
       "      <td>VITOR (MESA PRIME)</td>\n",
       "      <td>...</td>\n",
       "      <td>BPAC11</td>\n",
       "      <td>29.86</td>\n",
       "      <td>36.0</td>\n",
       "      <td>2021-10-15</td>\n",
       "      <td>13</td>\n",
       "      <td>26.920000</td>\n",
       "      <td>-14.900603</td>\n",
       "      <td>-4.500000e-01</td>\n",
       "      <td>51.408582</td>\n",
       "      <td>Aguardar</td>\n",
       "    </tr>\n",
       "    <tr>\n",
       "      <th>558</th>\n",
       "      <td>1457</td>\n",
       "      <td>Swing Trade</td>\n",
       "      <td>Aberta</td>\n",
       "      <td>2021-08-23</td>\n",
       "      <td>BPACV300</td>\n",
       "      <td>B</td>\n",
       "      <td>20000.0</td>\n",
       "      <td>0.45</td>\n",
       "      <td>Bull Put Spread</td>\n",
       "      <td>VITOR (MESA PRIME)</td>\n",
       "      <td>...</td>\n",
       "      <td>BPAC11</td>\n",
       "      <td>29.86</td>\n",
       "      <td>36.0</td>\n",
       "      <td>2021-10-15</td>\n",
       "      <td>13</td>\n",
       "      <td>26.920000</td>\n",
       "      <td>2.980121</td>\n",
       "      <td>5.294000e+05</td>\n",
       "      <td>-8.473277</td>\n",
       "      <td>Aguardar</td>\n",
       "    </tr>\n",
       "    <tr>\n",
       "      <th>574</th>\n",
       "      <td>1475</td>\n",
       "      <td>Swing Trade</td>\n",
       "      <td>Aberta</td>\n",
       "      <td>2021-08-27</td>\n",
       "      <td>CYREV211</td>\n",
       "      <td>B</td>\n",
       "      <td>2000.0</td>\n",
       "      <td>0.40</td>\n",
       "      <td>Bull Put Spread</td>\n",
       "      <td>GABRIEL (MESA PRIME)</td>\n",
       "      <td>...</td>\n",
       "      <td>CYRE3</td>\n",
       "      <td>21.16</td>\n",
       "      <td>49.0</td>\n",
       "      <td>2021-10-15</td>\n",
       "      <td>13</td>\n",
       "      <td>19.180000</td>\n",
       "      <td>2.165068</td>\n",
       "      <td>3.756000e+04</td>\n",
       "      <td>-8.341532</td>\n",
       "      <td>Aguardar</td>\n",
       "    </tr>\n",
       "    <tr>\n",
       "      <th>555</th>\n",
       "      <td>1459</td>\n",
       "      <td>Swing Trade</td>\n",
       "      <td>Aberta</td>\n",
       "      <td>2021-08-23</td>\n",
       "      <td>BPACV300</td>\n",
       "      <td>B</td>\n",
       "      <td>50000.0</td>\n",
       "      <td>0.45</td>\n",
       "      <td>Bull Put Spread</td>\n",
       "      <td>GUILHERME</td>\n",
       "      <td>...</td>\n",
       "      <td>BPAC11</td>\n",
       "      <td>29.86</td>\n",
       "      <td>36.0</td>\n",
       "      <td>2021-10-15</td>\n",
       "      <td>13</td>\n",
       "      <td>26.920000</td>\n",
       "      <td>2.980121</td>\n",
       "      <td>1.323500e+06</td>\n",
       "      <td>-8.473277</td>\n",
       "      <td>Aguardar</td>\n",
       "    </tr>\n",
       "    <tr>\n",
       "      <th>530</th>\n",
       "      <td>1432</td>\n",
       "      <td>Swing Trade</td>\n",
       "      <td>Aberta</td>\n",
       "      <td>2021-08-17</td>\n",
       "      <td>CYREV199</td>\n",
       "      <td>B</td>\n",
       "      <td>5000.0</td>\n",
       "      <td>0.50</td>\n",
       "      <td>Bull Put Spread</td>\n",
       "      <td>VITOR (MESA PRIME)</td>\n",
       "      <td>...</td>\n",
       "      <td>CYRE3</td>\n",
       "      <td>19.91</td>\n",
       "      <td>49.0</td>\n",
       "      <td>2021-10-15</td>\n",
       "      <td>13</td>\n",
       "      <td>19.180000</td>\n",
       "      <td>1.245804</td>\n",
       "      <td>9.340000e+04</td>\n",
       "      <td>-3.745878</td>\n",
       "      <td>Aguardar</td>\n",
       "    </tr>\n",
       "    <tr>\n",
       "      <th>526</th>\n",
       "      <td>1422</td>\n",
       "      <td>Swing Trade</td>\n",
       "      <td>Aberta</td>\n",
       "      <td>2021-08-13</td>\n",
       "      <td>LRENV322</td>\n",
       "      <td>B</td>\n",
       "      <td>2000.0</td>\n",
       "      <td>0.40</td>\n",
       "      <td>Bull Put Spread</td>\n",
       "      <td>GABRIEL MALTA</td>\n",
       "      <td>...</td>\n",
       "      <td>LREN3</td>\n",
       "      <td>41.82</td>\n",
       "      <td>34.0</td>\n",
       "      <td>2021-10-15</td>\n",
       "      <td>13</td>\n",
       "      <td>36.639999</td>\n",
       "      <td>5.125196</td>\n",
       "      <td>7.248000e+04</td>\n",
       "      <td>-11.298891</td>\n",
       "      <td>Aguardar</td>\n",
       "    </tr>\n",
       "    <tr>\n",
       "      <th>494</th>\n",
       "      <td>1390</td>\n",
       "      <td>Swing Trade</td>\n",
       "      <td>Fechada</td>\n",
       "      <td>2021-07-29</td>\n",
       "      <td>PCARV330</td>\n",
       "      <td>B</td>\n",
       "      <td>8000.0</td>\n",
       "      <td>0.40</td>\n",
       "      <td>Bull Put Spread</td>\n",
       "      <td>GABRIEL MALTA</td>\n",
       "      <td>...</td>\n",
       "      <td>PCAR3</td>\n",
       "      <td>33.08</td>\n",
       "      <td>34.0</td>\n",
       "      <td>2021-10-15</td>\n",
       "      <td>13</td>\n",
       "      <td>26.590000</td>\n",
       "      <td>6.402310</td>\n",
       "      <td>2.095200e+05</td>\n",
       "      <td>-18.144832</td>\n",
       "      <td>Aguardar</td>\n",
       "    </tr>\n",
       "    <tr>\n",
       "      <th>487</th>\n",
       "      <td>1383</td>\n",
       "      <td>Swing Trade</td>\n",
       "      <td>Fechada</td>\n",
       "      <td>2021-07-28</td>\n",
       "      <td>BBASV342</td>\n",
       "      <td>B</td>\n",
       "      <td>7000.0</td>\n",
       "      <td>0.40</td>\n",
       "      <td>Bull Put Spread</td>\n",
       "      <td>GABRIEL MALTA</td>\n",
       "      <td>...</td>\n",
       "      <td>BBAS3</td>\n",
       "      <td>33.80</td>\n",
       "      <td>29.0</td>\n",
       "      <td>2021-10-15</td>\n",
       "      <td>13</td>\n",
       "      <td>29.840000</td>\n",
       "      <td>3.894791</td>\n",
       "      <td>2.060800e+05</td>\n",
       "      <td>-10.339618</td>\n",
       "      <td>Aguardar</td>\n",
       "    </tr>\n",
       "    <tr>\n",
       "      <th>474</th>\n",
       "      <td>1371</td>\n",
       "      <td>Swing Trade</td>\n",
       "      <td>Aberta</td>\n",
       "      <td>2021-07-27</td>\n",
       "      <td>SULAV335</td>\n",
       "      <td>B</td>\n",
       "      <td>10000.0</td>\n",
       "      <td>0.40</td>\n",
       "      <td>Bull Put Spread</td>\n",
       "      <td>GABRIEL MALTA</td>\n",
       "      <td>...</td>\n",
       "      <td>SULA11</td>\n",
       "      <td>33.50</td>\n",
       "      <td>28.0</td>\n",
       "      <td>2021-10-15</td>\n",
       "      <td>13</td>\n",
       "      <td>27.370001</td>\n",
       "      <td>6.039845</td>\n",
       "      <td>2.697000e+05</td>\n",
       "      <td>-16.835357</td>\n",
       "      <td>Aguardar</td>\n",
       "    </tr>\n",
       "    <tr>\n",
       "      <th>597</th>\n",
       "      <td>1497</td>\n",
       "      <td>Swing Trade</td>\n",
       "      <td>Aberta</td>\n",
       "      <td>2021-09-08</td>\n",
       "      <td>VALEW943</td>\n",
       "      <td>S</td>\n",
       "      <td>500.0</td>\n",
       "      <td>0.40</td>\n",
       "      <td>Bull Put Spread</td>\n",
       "      <td>VITOR (MESA PRIME)</td>\n",
       "      <td>...</td>\n",
       "      <td>VALE3</td>\n",
       "      <td>94.31</td>\n",
       "      <td>32.5</td>\n",
       "      <td>2021-11-19</td>\n",
       "      <td>36</td>\n",
       "      <td>78.529999</td>\n",
       "      <td>15.436546</td>\n",
       "      <td>3.906500e+04</td>\n",
       "      <td>-15.943745</td>\n",
       "      <td>Aguardar</td>\n",
       "    </tr>\n",
       "    <tr>\n",
       "      <th>596</th>\n",
       "      <td>1496</td>\n",
       "      <td>Swing Trade</td>\n",
       "      <td>Aberta</td>\n",
       "      <td>2021-09-08</td>\n",
       "      <td>BPS BPS BPS BPAC11 27.21-25.71</td>\n",
       "      <td>B</td>\n",
       "      <td>500.0</td>\n",
       "      <td>0.35</td>\n",
       "      <td>Bull Put Spread</td>\n",
       "      <td>VITOR (MESA PRIME)</td>\n",
       "      <td>...</td>\n",
       "      <td>BPAC11</td>\n",
       "      <td>27.21</td>\n",
       "      <td>36.0</td>\n",
       "      <td>2021-11-19</td>\n",
       "      <td>36</td>\n",
       "      <td>26.920000</td>\n",
       "      <td>-3.470045</td>\n",
       "      <td>1.150000e+00</td>\n",
       "      <td>14.039122</td>\n",
       "      <td>Aguardar</td>\n",
       "    </tr>\n",
       "    <tr>\n",
       "      <th>608</th>\n",
       "      <td>1508</td>\n",
       "      <td>Swing Trade</td>\n",
       "      <td>Aberta</td>\n",
       "      <td>2021-09-10</td>\n",
       "      <td>NTCOW500</td>\n",
       "      <td>S</td>\n",
       "      <td>15000.0</td>\n",
       "      <td>0.45</td>\n",
       "      <td>Bull Put Spread</td>\n",
       "      <td>VITOR (MESA PRIME)</td>\n",
       "      <td>...</td>\n",
       "      <td>NTCO3</td>\n",
       "      <td>50.00</td>\n",
       "      <td>32.0</td>\n",
       "      <td>2021-11-19</td>\n",
       "      <td>36</td>\n",
       "      <td>46.619999</td>\n",
       "      <td>4.126370</td>\n",
       "      <td>6.925500e+05</td>\n",
       "      <td>-7.352739</td>\n",
       "      <td>Aguardar</td>\n",
       "    </tr>\n",
       "    <tr>\n",
       "      <th>593</th>\n",
       "      <td>1493</td>\n",
       "      <td>Swing Trade</td>\n",
       "      <td>Aberta</td>\n",
       "      <td>2021-09-03</td>\n",
       "      <td>BPS BPS BPS B3SA3 15.04-13.04</td>\n",
       "      <td>B</td>\n",
       "      <td>100.0</td>\n",
       "      <td>1.10</td>\n",
       "      <td>Bull Put Spread</td>\n",
       "      <td>KAYO (MESA PRIME)</td>\n",
       "      <td>...</td>\n",
       "      <td>B3SA3</td>\n",
       "      <td>15.04</td>\n",
       "      <td>35.0</td>\n",
       "      <td>2021-11-19</td>\n",
       "      <td>36</td>\n",
       "      <td>13.650000</td>\n",
       "      <td>-0.862189</td>\n",
       "      <td>9.000000e-01</td>\n",
       "      <td>13.046472</td>\n",
       "      <td>Aguardar</td>\n",
       "    </tr>\n",
       "    <tr>\n",
       "      <th>612</th>\n",
       "      <td>1512</td>\n",
       "      <td>Swing Trade</td>\n",
       "      <td>Aberta</td>\n",
       "      <td>2021-09-10</td>\n",
       "      <td>ITUBW266</td>\n",
       "      <td>S</td>\n",
       "      <td>15000.0</td>\n",
       "      <td>0.35</td>\n",
       "      <td>Bull Put Spread</td>\n",
       "      <td>VITOR (MESA PRIME)</td>\n",
       "      <td>...</td>\n",
       "      <td>ITUB4</td>\n",
       "      <td>26.70</td>\n",
       "      <td>30.0</td>\n",
       "      <td>2021-11-19</td>\n",
       "      <td>36</td>\n",
       "      <td>28.469999</td>\n",
       "      <td>0.497910</td>\n",
       "      <td>4.218000e+05</td>\n",
       "      <td>-0.553971</td>\n",
       "      <td>Aguardar</td>\n",
       "    </tr>\n",
       "    <tr>\n",
       "      <th>622</th>\n",
       "      <td>1496</td>\n",
       "      <td>Swing Trade</td>\n",
       "      <td>Aberta</td>\n",
       "      <td>2021-09-08</td>\n",
       "      <td>BPACW257</td>\n",
       "      <td>S</td>\n",
       "      <td>500.0</td>\n",
       "      <td>0.35</td>\n",
       "      <td>Bull Put Spread</td>\n",
       "      <td>VITOR (MESA PRIME)</td>\n",
       "      <td>...</td>\n",
       "      <td>BPAC11</td>\n",
       "      <td>25.71</td>\n",
       "      <td>36.0</td>\n",
       "      <td>2021-11-19</td>\n",
       "      <td>36</td>\n",
       "      <td>26.920000</td>\n",
       "      <td>0.829386</td>\n",
       "      <td>1.328500e+04</td>\n",
       "      <td>-1.864591</td>\n",
       "      <td>Aguardar</td>\n",
       "    </tr>\n",
       "    <tr>\n",
       "      <th>623</th>\n",
       "      <td>1497</td>\n",
       "      <td>Swing Trade</td>\n",
       "      <td>Aberta</td>\n",
       "      <td>2021-09-08</td>\n",
       "      <td>BPS BPS BPS VALE3 96.31-94.31</td>\n",
       "      <td>B</td>\n",
       "      <td>500.0</td>\n",
       "      <td>0.40</td>\n",
       "      <td>Bull Put Spread</td>\n",
       "      <td>VITOR (MESA PRIME)</td>\n",
       "      <td>...</td>\n",
       "      <td>VALE3</td>\n",
       "      <td>96.31</td>\n",
       "      <td>32.5</td>\n",
       "      <td>2021-11-19</td>\n",
       "      <td>36</td>\n",
       "      <td>78.529999</td>\n",
       "      <td>-75.312115</td>\n",
       "      <td>1.600000e+00</td>\n",
       "      <td>78.612932</td>\n",
       "      <td>Aguardar</td>\n",
       "    </tr>\n",
       "    <tr>\n",
       "      <th>609</th>\n",
       "      <td>1509</td>\n",
       "      <td>Swing Trade</td>\n",
       "      <td>Aberta</td>\n",
       "      <td>2021-09-10</td>\n",
       "      <td>BPACW249</td>\n",
       "      <td>S</td>\n",
       "      <td>15000.0</td>\n",
       "      <td>0.40</td>\n",
       "      <td>Bull Put Spread</td>\n",
       "      <td>VITOR (MESA PRIME)</td>\n",
       "      <td>...</td>\n",
       "      <td>BPAC11</td>\n",
       "      <td>24.96</td>\n",
       "      <td>36.0</td>\n",
       "      <td>2021-11-19</td>\n",
       "      <td>36</td>\n",
       "      <td>26.920000</td>\n",
       "      <td>0.581728</td>\n",
       "      <td>3.978000e+05</td>\n",
       "      <td>-0.728076</td>\n",
       "      <td>Aguardar</td>\n",
       "    </tr>\n",
       "    <tr>\n",
       "      <th>559</th>\n",
       "      <td>1464</td>\n",
       "      <td>Swing Trade</td>\n",
       "      <td>Aberta</td>\n",
       "      <td>2021-08-24</td>\n",
       "      <td>JBSSW320</td>\n",
       "      <td>S</td>\n",
       "      <td>20000.0</td>\n",
       "      <td>0.40</td>\n",
       "      <td>Bull Put Spread</td>\n",
       "      <td>VITOR (MESA PRIME)</td>\n",
       "      <td>...</td>\n",
       "      <td>JBSS3</td>\n",
       "      <td>31.00</td>\n",
       "      <td>34.0</td>\n",
       "      <td>2021-11-19</td>\n",
       "      <td>36</td>\n",
       "      <td>35.599998</td>\n",
       "      <td>0.271832</td>\n",
       "      <td>7.040000e+05</td>\n",
       "      <td>0.413444</td>\n",
       "      <td>Vale a Pena Zerar</td>\n",
       "    </tr>\n",
       "    <tr>\n",
       "      <th>557</th>\n",
       "      <td>1458</td>\n",
       "      <td>Swing Trade</td>\n",
       "      <td>Aberta</td>\n",
       "      <td>2021-08-23</td>\n",
       "      <td>LRENW365</td>\n",
       "      <td>B</td>\n",
       "      <td>25000.0</td>\n",
       "      <td>0.55</td>\n",
       "      <td>Bull Put Spread</td>\n",
       "      <td>GUILHERME</td>\n",
       "      <td>...</td>\n",
       "      <td>LREN3</td>\n",
       "      <td>36.50</td>\n",
       "      <td>34.0</td>\n",
       "      <td>2021-11-19</td>\n",
       "      <td>36</td>\n",
       "      <td>36.639999</td>\n",
       "      <td>1.667443</td>\n",
       "      <td>9.022500e+05</td>\n",
       "      <td>-3.061486</td>\n",
       "      <td>Aguardar</td>\n",
       "    </tr>\n",
       "    <tr>\n",
       "      <th>560</th>\n",
       "      <td>1462</td>\n",
       "      <td>Swing Trade</td>\n",
       "      <td>Aberta</td>\n",
       "      <td>2021-08-24</td>\n",
       "      <td>NTCOW540</td>\n",
       "      <td>B</td>\n",
       "      <td>20000.0</td>\n",
       "      <td>0.40</td>\n",
       "      <td>Bull Put Spread</td>\n",
       "      <td>VITOR (MESA PRIME)</td>\n",
       "      <td>...</td>\n",
       "      <td>NTCO3</td>\n",
       "      <td>54.00</td>\n",
       "      <td>32.0</td>\n",
       "      <td>2021-11-19</td>\n",
       "      <td>36</td>\n",
       "      <td>46.619999</td>\n",
       "      <td>7.349262</td>\n",
       "      <td>9.244000e+05</td>\n",
       "      <td>-12.869004</td>\n",
       "      <td>Aguardar</td>\n",
       "    </tr>\n",
       "    <tr>\n",
       "      <th>561</th>\n",
       "      <td>1463</td>\n",
       "      <td>Swing Trade</td>\n",
       "      <td>Aberta</td>\n",
       "      <td>2021-08-24</td>\n",
       "      <td>NTCOW550</td>\n",
       "      <td>B</td>\n",
       "      <td>20000.0</td>\n",
       "      <td>0.40</td>\n",
       "      <td>Bull Put Spread</td>\n",
       "      <td>VITOR (MESA PRIME)</td>\n",
       "      <td>...</td>\n",
       "      <td>NTCO3</td>\n",
       "      <td>55.00</td>\n",
       "      <td>32.0</td>\n",
       "      <td>2021-11-19</td>\n",
       "      <td>36</td>\n",
       "      <td>46.619999</td>\n",
       "      <td>8.243714</td>\n",
       "      <td>9.244000e+05</td>\n",
       "      <td>-14.261297</td>\n",
       "      <td>Aguardar</td>\n",
       "    </tr>\n",
       "    <tr>\n",
       "      <th>564</th>\n",
       "      <td>1465</td>\n",
       "      <td>Swing Trade</td>\n",
       "      <td>Aberta</td>\n",
       "      <td>2021-08-25</td>\n",
       "      <td>VALEW968</td>\n",
       "      <td>B</td>\n",
       "      <td>25000.0</td>\n",
       "      <td>0.45</td>\n",
       "      <td>Bull Put Spread</td>\n",
       "      <td>VITOR (MESA PRIME)</td>\n",
       "      <td>...</td>\n",
       "      <td>VALE3</td>\n",
       "      <td>96.81</td>\n",
       "      <td>32.5</td>\n",
       "      <td>2021-11-19</td>\n",
       "      <td>36</td>\n",
       "      <td>78.529999</td>\n",
       "      <td>17.780492</td>\n",
       "      <td>1.952000e+06</td>\n",
       "      <td>-17.901552</td>\n",
       "      <td>Aguardar</td>\n",
       "    </tr>\n",
       "    <tr>\n",
       "      <th>567</th>\n",
       "      <td>1468</td>\n",
       "      <td>Swing Trade</td>\n",
       "      <td>Aberta</td>\n",
       "      <td>2021-08-25</td>\n",
       "      <td>VALEW968</td>\n",
       "      <td>B</td>\n",
       "      <td>20000.0</td>\n",
       "      <td>0.40</td>\n",
       "      <td>Bull Put Spread</td>\n",
       "      <td>VITOR (MESA PRIME)</td>\n",
       "      <td>...</td>\n",
       "      <td>VALE3</td>\n",
       "      <td>96.81</td>\n",
       "      <td>32.5</td>\n",
       "      <td>2021-11-19</td>\n",
       "      <td>36</td>\n",
       "      <td>78.529999</td>\n",
       "      <td>17.780492</td>\n",
       "      <td>1.562600e+06</td>\n",
       "      <td>-17.953199</td>\n",
       "      <td>Aguardar</td>\n",
       "    </tr>\n",
       "    <tr>\n",
       "      <th>568</th>\n",
       "      <td>1469</td>\n",
       "      <td>Swing Trade</td>\n",
       "      <td>Aberta</td>\n",
       "      <td>2021-08-25</td>\n",
       "      <td>VALEW968</td>\n",
       "      <td>B</td>\n",
       "      <td>300.0</td>\n",
       "      <td>0.40</td>\n",
       "      <td>Bull Put Spread</td>\n",
       "      <td>KAYO (MESA PRIME)</td>\n",
       "      <td>...</td>\n",
       "      <td>VALE3</td>\n",
       "      <td>96.81</td>\n",
       "      <td>32.5</td>\n",
       "      <td>2021-11-19</td>\n",
       "      <td>36</td>\n",
       "      <td>78.529999</td>\n",
       "      <td>17.780492</td>\n",
       "      <td>2.343900e+04</td>\n",
       "      <td>-17.953199</td>\n",
       "      <td>Aguardar</td>\n",
       "    </tr>\n",
       "    <tr>\n",
       "      <th>569</th>\n",
       "      <td>1470</td>\n",
       "      <td>Swing Trade</td>\n",
       "      <td>Aberta</td>\n",
       "      <td>2021-08-26</td>\n",
       "      <td>CSNAW349</td>\n",
       "      <td>B</td>\n",
       "      <td>2000.0</td>\n",
       "      <td>0.45</td>\n",
       "      <td>Bull Put Spread</td>\n",
       "      <td>VITOR (MESA PRIME)</td>\n",
       "      <td>...</td>\n",
       "      <td>CSNA3</td>\n",
       "      <td>34.98</td>\n",
       "      <td>45.0</td>\n",
       "      <td>2021-11-19</td>\n",
       "      <td>36</td>\n",
       "      <td>30.129999</td>\n",
       "      <td>5.210460</td>\n",
       "      <td>5.936000e+04</td>\n",
       "      <td>-13.609090</td>\n",
       "      <td>Aguardar</td>\n",
       "    </tr>\n",
       "    <tr>\n",
       "      <th>575</th>\n",
       "      <td>1476</td>\n",
       "      <td>Swing Trade</td>\n",
       "      <td>Fechada</td>\n",
       "      <td>2021-08-30</td>\n",
       "      <td>ITUBW284</td>\n",
       "      <td>S</td>\n",
       "      <td>7000.0</td>\n",
       "      <td>0.30</td>\n",
       "      <td>Bull Put Spread</td>\n",
       "      <td>NADAL</td>\n",
       "      <td>...</td>\n",
       "      <td>ITUB4</td>\n",
       "      <td>28.45</td>\n",
       "      <td>30.0</td>\n",
       "      <td>2021-11-19</td>\n",
       "      <td>36</td>\n",
       "      <td>28.469999</td>\n",
       "      <td>1.168977</td>\n",
       "      <td>1.971900e+05</td>\n",
       "      <td>-3.054402</td>\n",
       "      <td>Aguardar</td>\n",
       "    </tr>\n",
       "    <tr>\n",
       "      <th>588</th>\n",
       "      <td>1488</td>\n",
       "      <td>Swing Trade</td>\n",
       "      <td>Fechada</td>\n",
       "      <td>2021-09-01</td>\n",
       "      <td>CSNAW332</td>\n",
       "      <td>S</td>\n",
       "      <td>100.0</td>\n",
       "      <td>0.35</td>\n",
       "      <td>Bull Put Spread</td>\n",
       "      <td>KAYO (MESA PRIME)</td>\n",
       "      <td>...</td>\n",
       "      <td>CSNA3</td>\n",
       "      <td>33.23</td>\n",
       "      <td>45.0</td>\n",
       "      <td>2021-11-19</td>\n",
       "      <td>36</td>\n",
       "      <td>30.129999</td>\n",
       "      <td>3.858855</td>\n",
       "      <td>2.978000e+03</td>\n",
       "      <td>-10.559300</td>\n",
       "      <td>Aguardar</td>\n",
       "    </tr>\n",
       "    <tr>\n",
       "      <th>581</th>\n",
       "      <td>1482</td>\n",
       "      <td>Swing Trade</td>\n",
       "      <td>Aberta</td>\n",
       "      <td>2021-08-31</td>\n",
       "      <td>CYREW204</td>\n",
       "      <td>B</td>\n",
       "      <td>25000.0</td>\n",
       "      <td>0.35</td>\n",
       "      <td>Bull Put Spread</td>\n",
       "      <td>VITOR (MESA PRIME)</td>\n",
       "      <td>...</td>\n",
       "      <td>CYRE3</td>\n",
       "      <td>20.41</td>\n",
       "      <td>49.0</td>\n",
       "      <td>2021-11-19</td>\n",
       "      <td>36</td>\n",
       "      <td>19.180000</td>\n",
       "      <td>2.056292</td>\n",
       "      <td>4.707500e+05</td>\n",
       "      <td>-8.360078</td>\n",
       "      <td>Aguardar</td>\n",
       "    </tr>\n",
       "    <tr>\n",
       "      <th>580</th>\n",
       "      <td>1481</td>\n",
       "      <td>Swing Trade</td>\n",
       "      <td>Aberta</td>\n",
       "      <td>2021-08-31</td>\n",
       "      <td>GGBRW266</td>\n",
       "      <td>S</td>\n",
       "      <td>10000.0</td>\n",
       "      <td>0.35</td>\n",
       "      <td>Bull Put Spread</td>\n",
       "      <td>VITOR (MESA PRIME)</td>\n",
       "      <td>...</td>\n",
       "      <td>GGBR4</td>\n",
       "      <td>26.69</td>\n",
       "      <td>34.0</td>\n",
       "      <td>2021-11-19</td>\n",
       "      <td>36</td>\n",
       "      <td>26.809999</td>\n",
       "      <td>1.211561</td>\n",
       "      <td>2.646000e+05</td>\n",
       "      <td>-3.228028</td>\n",
       "      <td>Aguardar</td>\n",
       "    </tr>\n",
       "    <tr>\n",
       "      <th>579</th>\n",
       "      <td>1480</td>\n",
       "      <td>Swing Trade</td>\n",
       "      <td>Aberta</td>\n",
       "      <td>2021-08-31</td>\n",
       "      <td>CSNAW352</td>\n",
       "      <td>B</td>\n",
       "      <td>15000.0</td>\n",
       "      <td>0.35</td>\n",
       "      <td>Bull Put Spread</td>\n",
       "      <td>VITOR (MESA PRIME)</td>\n",
       "      <td>...</td>\n",
       "      <td>CSNA3</td>\n",
       "      <td>35.23</td>\n",
       "      <td>45.0</td>\n",
       "      <td>2021-11-19</td>\n",
       "      <td>36</td>\n",
       "      <td>30.129999</td>\n",
       "      <td>5.415474</td>\n",
       "      <td>4.467000e+05</td>\n",
       "      <td>-14.378297</td>\n",
       "      <td>Aguardar</td>\n",
       "    </tr>\n",
       "    <tr>\n",
       "      <th>578</th>\n",
       "      <td>1479</td>\n",
       "      <td>Swing Trade</td>\n",
       "      <td>Aberta</td>\n",
       "      <td>2021-08-30</td>\n",
       "      <td>VALEW968</td>\n",
       "      <td>S</td>\n",
       "      <td>10000.0</td>\n",
       "      <td>0.30</td>\n",
       "      <td>Bull Put Spread</td>\n",
       "      <td>VITINHO</td>\n",
       "      <td>...</td>\n",
       "      <td>VALE3</td>\n",
       "      <td>96.81</td>\n",
       "      <td>32.5</td>\n",
       "      <td>2021-11-19</td>\n",
       "      <td>36</td>\n",
       "      <td>78.529999</td>\n",
       "      <td>17.780492</td>\n",
       "      <td>7.823000e+05</td>\n",
       "      <td>-18.056494</td>\n",
       "      <td>Aguardar</td>\n",
       "    </tr>\n",
       "    <tr>\n",
       "      <th>576</th>\n",
       "      <td>1477</td>\n",
       "      <td>Swing Trade</td>\n",
       "      <td>Fechada</td>\n",
       "      <td>2021-08-30</td>\n",
       "      <td>VALEW968</td>\n",
       "      <td>S</td>\n",
       "      <td>23500.0</td>\n",
       "      <td>0.30</td>\n",
       "      <td>Bull Put Spread</td>\n",
       "      <td>VITOR (MESA PRIME)</td>\n",
       "      <td>...</td>\n",
       "      <td>VALE3</td>\n",
       "      <td>96.81</td>\n",
       "      <td>32.5</td>\n",
       "      <td>2021-11-19</td>\n",
       "      <td>36</td>\n",
       "      <td>78.529999</td>\n",
       "      <td>17.780492</td>\n",
       "      <td>1.838405e+06</td>\n",
       "      <td>-18.056494</td>\n",
       "      <td>Aguardar</td>\n",
       "    </tr>\n",
       "  </tbody>\n",
       "</table>\n",
       "<p>35 rows × 22 columns</p>\n",
       "</div>"
      ],
      "text/plain": [
       "        #     Operação   Status       Data                          Ticker  \\\n",
       "513  1409  Swing Trade  Fechada 2021-08-10        BPS BPS SULA11 31.0-29.0   \n",
       "509  1405  Swing Trade  Fechada 2021-08-05                         VALEV91   \n",
       "525  1421  Swing Trade  Fechada 2021-08-13                        JBSSV345   \n",
       "556  1457  Swing Trade   Aberta 2021-08-23  BPS BPS BPS BPAC11 29.86-29.86   \n",
       "558  1457  Swing Trade   Aberta 2021-08-23                        BPACV300   \n",
       "574  1475  Swing Trade   Aberta 2021-08-27                        CYREV211   \n",
       "555  1459  Swing Trade   Aberta 2021-08-23                        BPACV300   \n",
       "530  1432  Swing Trade   Aberta 2021-08-17                        CYREV199   \n",
       "526  1422  Swing Trade   Aberta 2021-08-13                        LRENV322   \n",
       "494  1390  Swing Trade  Fechada 2021-07-29                        PCARV330   \n",
       "487  1383  Swing Trade  Fechada 2021-07-28                        BBASV342   \n",
       "474  1371  Swing Trade   Aberta 2021-07-27                        SULAV335   \n",
       "597  1497  Swing Trade   Aberta 2021-09-08                        VALEW943   \n",
       "596  1496  Swing Trade   Aberta 2021-09-08  BPS BPS BPS BPAC11 27.21-25.71   \n",
       "608  1508  Swing Trade   Aberta 2021-09-10                        NTCOW500   \n",
       "593  1493  Swing Trade   Aberta 2021-09-03   BPS BPS BPS B3SA3 15.04-13.04   \n",
       "612  1512  Swing Trade   Aberta 2021-09-10                        ITUBW266   \n",
       "622  1496  Swing Trade   Aberta 2021-09-08                        BPACW257   \n",
       "623  1497  Swing Trade   Aberta 2021-09-08   BPS BPS BPS VALE3 96.31-94.31   \n",
       "609  1509  Swing Trade   Aberta 2021-09-10                        BPACW249   \n",
       "559  1464  Swing Trade   Aberta 2021-08-24                        JBSSW320   \n",
       "557  1458  Swing Trade   Aberta 2021-08-23                        LRENW365   \n",
       "560  1462  Swing Trade   Aberta 2021-08-24                        NTCOW540   \n",
       "561  1463  Swing Trade   Aberta 2021-08-24                        NTCOW550   \n",
       "564  1465  Swing Trade   Aberta 2021-08-25                        VALEW968   \n",
       "567  1468  Swing Trade   Aberta 2021-08-25                        VALEW968   \n",
       "568  1469  Swing Trade   Aberta 2021-08-25                        VALEW968   \n",
       "569  1470  Swing Trade   Aberta 2021-08-26                        CSNAW349   \n",
       "575  1476  Swing Trade  Fechada 2021-08-30                        ITUBW284   \n",
       "588  1488  Swing Trade  Fechada 2021-09-01                        CSNAW332   \n",
       "581  1482  Swing Trade   Aberta 2021-08-31                        CYREW204   \n",
       "580  1481  Swing Trade   Aberta 2021-08-31                        GGBRW266   \n",
       "579  1480  Swing Trade   Aberta 2021-08-31                        CSNAW352   \n",
       "578  1479  Swing Trade   Aberta 2021-08-30                        VALEW968   \n",
       "576  1477  Swing Trade  Fechada 2021-08-30                        VALEW968   \n",
       "\n",
       "    Side     Size  Price TX        Estrutura                   AAI  ...  \\\n",
       "513    B  17000.0      0.50  Bull Put Spread         GABRIEL MALTA  ...   \n",
       "509    S  50000.0      0.35  Bull Put Spread             GUILHERME  ...   \n",
       "525    B  75000.0      0.45  Bull Put Spread    VITOR (MESA PRIME)  ...   \n",
       "556    B  10000.0      0.45  Bull Put Spread    VITOR (MESA PRIME)  ...   \n",
       "558    B  20000.0      0.45  Bull Put Spread    VITOR (MESA PRIME)  ...   \n",
       "574    B   2000.0      0.40  Bull Put Spread  GABRIEL (MESA PRIME)  ...   \n",
       "555    B  50000.0      0.45  Bull Put Spread             GUILHERME  ...   \n",
       "530    B   5000.0      0.50  Bull Put Spread    VITOR (MESA PRIME)  ...   \n",
       "526    B   2000.0      0.40  Bull Put Spread         GABRIEL MALTA  ...   \n",
       "494    B   8000.0      0.40  Bull Put Spread         GABRIEL MALTA  ...   \n",
       "487    B   7000.0      0.40  Bull Put Spread         GABRIEL MALTA  ...   \n",
       "474    B  10000.0      0.40  Bull Put Spread         GABRIEL MALTA  ...   \n",
       "597    S    500.0      0.40  Bull Put Spread    VITOR (MESA PRIME)  ...   \n",
       "596    B    500.0      0.35  Bull Put Spread    VITOR (MESA PRIME)  ...   \n",
       "608    S  15000.0      0.45  Bull Put Spread    VITOR (MESA PRIME)  ...   \n",
       "593    B    100.0      1.10  Bull Put Spread     KAYO (MESA PRIME)  ...   \n",
       "612    S  15000.0      0.35  Bull Put Spread    VITOR (MESA PRIME)  ...   \n",
       "622    S    500.0      0.35  Bull Put Spread    VITOR (MESA PRIME)  ...   \n",
       "623    B    500.0      0.40  Bull Put Spread    VITOR (MESA PRIME)  ...   \n",
       "609    S  15000.0      0.40  Bull Put Spread    VITOR (MESA PRIME)  ...   \n",
       "559    S  20000.0      0.40  Bull Put Spread    VITOR (MESA PRIME)  ...   \n",
       "557    B  25000.0      0.55  Bull Put Spread             GUILHERME  ...   \n",
       "560    B  20000.0      0.40  Bull Put Spread    VITOR (MESA PRIME)  ...   \n",
       "561    B  20000.0      0.40  Bull Put Spread    VITOR (MESA PRIME)  ...   \n",
       "564    B  25000.0      0.45  Bull Put Spread    VITOR (MESA PRIME)  ...   \n",
       "567    B  20000.0      0.40  Bull Put Spread    VITOR (MESA PRIME)  ...   \n",
       "568    B    300.0      0.40  Bull Put Spread     KAYO (MESA PRIME)  ...   \n",
       "569    B   2000.0      0.45  Bull Put Spread    VITOR (MESA PRIME)  ...   \n",
       "575    S   7000.0      0.30  Bull Put Spread                 NADAL  ...   \n",
       "588    S    100.0      0.35  Bull Put Spread     KAYO (MESA PRIME)  ...   \n",
       "581    B  25000.0      0.35  Bull Put Spread    VITOR (MESA PRIME)  ...   \n",
       "580    S  10000.0      0.35  Bull Put Spread    VITOR (MESA PRIME)  ...   \n",
       "579    B  15000.0      0.35  Bull Put Spread    VITOR (MESA PRIME)  ...   \n",
       "578    S  10000.0      0.30  Bull Put Spread               VITINHO  ...   \n",
       "576    S  23500.0      0.30  Bull Put Spread    VITOR (MESA PRIME)  ...   \n",
       "\n",
       "     Ticker Ação  Strike Volatilidade(%)  Data de Vencimento  Dias Úteis  \\\n",
       "513       SULA11   31.00            28.0          2021-10-15          13   \n",
       "509        VALE3  104.91            32.5          2021-10-15          13   \n",
       "525        JBSS3   32.48            34.0          2021-10-15          13   \n",
       "556       BPAC11   29.86            36.0          2021-10-15          13   \n",
       "558       BPAC11   29.86            36.0          2021-10-15          13   \n",
       "574        CYRE3   21.16            49.0          2021-10-15          13   \n",
       "555       BPAC11   29.86            36.0          2021-10-15          13   \n",
       "530        CYRE3   19.91            49.0          2021-10-15          13   \n",
       "526        LREN3   41.82            34.0          2021-10-15          13   \n",
       "494        PCAR3   33.08            34.0          2021-10-15          13   \n",
       "487        BBAS3   33.80            29.0          2021-10-15          13   \n",
       "474       SULA11   33.50            28.0          2021-10-15          13   \n",
       "597        VALE3   94.31            32.5          2021-11-19          36   \n",
       "596       BPAC11   27.21            36.0          2021-11-19          36   \n",
       "608        NTCO3   50.00            32.0          2021-11-19          36   \n",
       "593        B3SA3   15.04            35.0          2021-11-19          36   \n",
       "612        ITUB4   26.70            30.0          2021-11-19          36   \n",
       "622       BPAC11   25.71            36.0          2021-11-19          36   \n",
       "623        VALE3   96.31            32.5          2021-11-19          36   \n",
       "609       BPAC11   24.96            36.0          2021-11-19          36   \n",
       "559        JBSS3   31.00            34.0          2021-11-19          36   \n",
       "557        LREN3   36.50            34.0          2021-11-19          36   \n",
       "560        NTCO3   54.00            32.0          2021-11-19          36   \n",
       "561        NTCO3   55.00            32.0          2021-11-19          36   \n",
       "564        VALE3   96.81            32.5          2021-11-19          36   \n",
       "567        VALE3   96.81            32.5          2021-11-19          36   \n",
       "568        VALE3   96.81            32.5          2021-11-19          36   \n",
       "569        CSNA3   34.98            45.0          2021-11-19          36   \n",
       "575        ITUB4   28.45            30.0          2021-11-19          36   \n",
       "588        CSNA3   33.23            45.0          2021-11-19          36   \n",
       "581        CYRE3   20.41            49.0          2021-11-19          36   \n",
       "580        GGBR4   26.69            34.0          2021-11-19          36   \n",
       "579        CSNA3   35.23            45.0          2021-11-19          36   \n",
       "578        VALE3   96.81            32.5          2021-11-19          36   \n",
       "576        VALE3   96.81            32.5          2021-11-19          36   \n",
       "\n",
       "    Preço Atual      Valor  Exposição Financeira  Lucro ou Prejuízo (%)  \\\n",
       "513   27.370001  -3.403511          1.500000e+00              12.591972   \n",
       "509   78.529999  26.096333          3.909000e+06             -24.541352   \n",
       "525   35.599998   0.140301          2.636250e+06               0.953508   \n",
       "556   26.920000 -14.900603         -4.500000e-01              51.408582   \n",
       "558   26.920000   2.980121          5.294000e+05              -8.473277   \n",
       "574   19.180000   2.165068          3.756000e+04              -8.341532   \n",
       "555   26.920000   2.980121          1.323500e+06              -8.473277   \n",
       "530   19.180000   1.245804          9.340000e+04              -3.745878   \n",
       "526   36.639999   5.125196          7.248000e+04             -11.298891   \n",
       "494   26.590000   6.402310          2.095200e+05             -18.144832   \n",
       "487   29.840000   3.894791          2.060800e+05             -10.339618   \n",
       "474   27.370001   6.039845          2.697000e+05             -16.835357   \n",
       "597   78.529999  15.436546          3.906500e+04             -15.943745   \n",
       "596   26.920000  -3.470045          1.150000e+00              14.039122   \n",
       "608   46.619999   4.126370          6.925500e+05              -7.352739   \n",
       "593   13.650000  -0.862189          9.000000e-01              13.046472   \n",
       "612   28.469999   0.497910          4.218000e+05              -0.553971   \n",
       "622   26.920000   0.829386          1.328500e+04              -1.864591   \n",
       "623   78.529999 -75.312115          1.600000e+00              78.612932   \n",
       "609   26.920000   0.581728          3.978000e+05              -0.728076   \n",
       "559   35.599998   0.271832          7.040000e+05               0.413444   \n",
       "557   36.639999   1.667443          9.022500e+05              -3.061486   \n",
       "560   46.619999   7.349262          9.244000e+05             -12.869004   \n",
       "561   46.619999   8.243714          9.244000e+05             -14.261297   \n",
       "564   78.529999  17.780492          1.952000e+06             -17.901552   \n",
       "567   78.529999  17.780492          1.562600e+06             -17.953199   \n",
       "568   78.529999  17.780492          2.343900e+04             -17.953199   \n",
       "569   30.129999   5.210460          5.936000e+04             -13.609090   \n",
       "575   28.469999   1.168977          1.971900e+05              -3.054402   \n",
       "588   30.129999   3.858855          2.978000e+03             -10.559300   \n",
       "581   19.180000   2.056292          4.707500e+05              -8.360078   \n",
       "580   26.809999   1.211561          2.646000e+05              -3.228028   \n",
       "579   30.129999   5.415474          4.467000e+05             -14.378297   \n",
       "578   78.529999  17.780492          7.823000e+05             -18.056494   \n",
       "576   78.529999  17.780492          1.838405e+06             -18.056494   \n",
       "\n",
       "              Situação  \n",
       "513           Aguardar  \n",
       "509           Aguardar  \n",
       "525  Vale a Pena Zerar  \n",
       "556           Aguardar  \n",
       "558           Aguardar  \n",
       "574           Aguardar  \n",
       "555           Aguardar  \n",
       "530           Aguardar  \n",
       "526           Aguardar  \n",
       "494           Aguardar  \n",
       "487           Aguardar  \n",
       "474           Aguardar  \n",
       "597           Aguardar  \n",
       "596           Aguardar  \n",
       "608           Aguardar  \n",
       "593           Aguardar  \n",
       "612           Aguardar  \n",
       "622           Aguardar  \n",
       "623           Aguardar  \n",
       "609           Aguardar  \n",
       "559  Vale a Pena Zerar  \n",
       "557           Aguardar  \n",
       "560           Aguardar  \n",
       "561           Aguardar  \n",
       "564           Aguardar  \n",
       "567           Aguardar  \n",
       "568           Aguardar  \n",
       "569           Aguardar  \n",
       "575           Aguardar  \n",
       "588           Aguardar  \n",
       "581           Aguardar  \n",
       "580           Aguardar  \n",
       "579           Aguardar  \n",
       "578           Aguardar  \n",
       "576           Aguardar  \n",
       "\n",
       "[35 rows x 22 columns]"
      ]
     },
     "execution_count": 134,
     "metadata": {},
     "output_type": "execute_result"
    }
   ],
   "source": [
    "d=DF.dropna()\n",
    "d[d['Estrutura']=='Bull Put Spread']"
   ]
  },
  {
   "cell_type": "code",
   "execution_count": 17,
   "metadata": {},
   "outputs": [],
   "source": [
    "assessor=['xxxxxxxxxx']"
   ]
  },
  {
   "cell_type": "code",
   "execution_count": 33,
   "metadata": {},
   "outputs": [
    {
     "data": {
      "application/vnd.plotly.v1+json": {
       "config": {
        "plotlyServerURL": "https://plot.ly"
       },
       "data": [
        {
         "hovertemplate": "<b>%{hovertext}</b><br><br>Ticker Ação=ITUB4<br>Volatilidade(%)=%{x}<br>Lucro ou Prejuízo (%)=%{y}<br>Exposição Financeira=%{marker.size}<br>Ticker=%{text}<extra></extra>",
         "hovertext": [
          "ITUBV326",
          "ITUBW321",
          "ITUBW284",
          "ITUBW286"
         ],
         "legendgroup": "ITUB4",
         "marker": {
          "color": "#636efa",
          "size": [
           326639.9963378906,
           160002.87661258306,
           113079.99877929688,
           284199.9969482422
          ],
          "sizemode": "area",
          "sizeref": 342.6562604904175,
          "symbol": "circle"
         },
         "mode": "markers+text",
         "name": "ITUB4",
         "orientation": "v",
         "showlegend": true,
         "text": [
          "ITUBV326",
          "ITUBW321",
          "ITUBW284",
          "ITUBW286"
         ],
         "type": "scatter",
         "x": [
          30,
          30,
          30,
          30
         ],
         "xaxis": "x",
         "y": [
          -6.2954109284779305,
          -1.3979850079478047,
          -1.5429221101218127,
          -2.4547291483289237
         ],
         "yaxis": "y"
        },
        {
         "hovertemplate": "<b>%{hovertext}</b><br><br>Ticker Ação=VALE3<br>Volatilidade(%)=%{x}<br>Lucro ou Prejuízo (%)=%{y}<br>Exposição Financeira=%{marker.size}<br>Ticker=%{text}<extra></extra>",
         "hovertext": [
          "VALEV91",
          "VALEV95",
          "VALEV91",
          "VALEV91",
          "VALEV91",
          "VALEW943",
          "VALEW948",
          "VALEW948"
         ],
         "legendgroup": "VALE3",
         "marker": {
          "color": "#EF553B",
          "size": [
           150040,
           138000,
           413113.14814814815,
           112950,
           150800,
           447000,
           298560,
           74550
          ],
          "sizemode": "area",
          "sizeref": 342.6562604904175,
          "symbol": "circle"
         },
         "mode": "markers+text",
         "name": "VALE3",
         "orientation": "v",
         "showlegend": true,
         "text": [
          "VALEV91",
          "VALEV95",
          "VALEV91",
          "VALEV91",
          "VALEV91",
          "VALEW943",
          "VALEW948",
          "VALEW948"
         ],
         "type": "scatter",
         "x": [
          32.5,
          32.5,
          32.5,
          32.5,
          32.5,
          32.5,
          32.5,
          32.5
         ],
         "xaxis": "x",
         "y": [
          -26.39391665595843,
          -24.935643566306815,
          -26.481116619242663,
          -26.660812090140112,
          -26.75613188806214,
          -17.291348143891568,
          -17.85388376336467,
          -17.758957067868415
         ],
         "yaxis": "y"
        },
        {
         "hovertemplate": "<b>%{hovertext}</b><br><br>Ticker Ação=WEGE3<br>Volatilidade(%)=%{x}<br>Lucro ou Prejuízo (%)=%{y}<br>Exposição Financeira=%{marker.size}<br>Ticker=%{text}<extra></extra>",
         "hovertext": [
          "WEGEV404"
         ],
         "legendgroup": "WEGE3",
         "marker": {
          "color": "#00cc96",
          "size": [
           68279.99877929688
          ],
          "sizemode": "area",
          "sizeref": 342.6562604904175,
          "symbol": "circle"
         },
         "mode": "markers+text",
         "name": "WEGE3",
         "orientation": "v",
         "showlegend": true,
         "text": [
          "WEGEV404"
         ],
         "type": "scatter",
         "x": [
          32.5
         ],
         "xaxis": "x",
         "y": [
          10.166914112857823
         ],
         "yaxis": "y"
        },
        {
         "hovertemplate": "<b>%{hovertext}</b><br><br>Ticker Ação=GGBR4<br>Volatilidade(%)=%{x}<br>Lucro ou Prejuízo (%)=%{y}<br>Exposição Financeira=%{marker.size}<br>Ticker=%{text}<extra></extra>",
         "hovertext": [
          "GGBRV308",
          "GGBRV308",
          "GGBRV306",
          "GGBRV301",
          "GGBRV303",
          "GGBRV311"
         ],
         "legendgroup": "GGBR4",
         "marker": {
          "color": "#ab63fa",
          "size": [
           117221.42399379188,
           46888.56959751675,
           46819.99816894531,
           121249.99542236328,
           71579.99725341797,
           97039.99633789062
          ],
          "sizemode": "area",
          "sizeref": 342.6562604904175,
          "symbol": "circle"
         },
         "mode": "markers+text",
         "name": "GGBR4",
         "orientation": "v",
         "showlegend": true,
         "text": [
          "GGBRV308",
          "GGBRV308",
          "GGBRV306",
          "GGBRV301",
          "GGBRV303",
          "GGBRV311"
         ],
         "type": "scatter",
         "x": [
          34,
          34,
          34,
          34,
          34,
          34
         ],
         "xaxis": "x",
         "y": [
          -5.8599303767631215,
          -5.8599303767631215,
          -4.978785571560728,
          -6.260731422510609,
          -5.712065798986446,
          -9.287186585531327
         ],
         "yaxis": "y"
        },
        {
         "hovertemplate": "<b>%{hovertext}</b><br><br>Ticker Ação=MGLU3<br>Volatilidade(%)=%{x}<br>Lucro ou Prejuízo (%)=%{y}<br>Exposição Financeira=%{marker.size}<br>Ticker=%{text}<extra></extra>",
         "hovertext": [
          "MGLUV214",
          "MGLUV254",
          "MGLUV214",
          "MGLUW169",
          "MGLUW169"
         ],
         "legendgroup": "MGLU3",
         "marker": {
          "color": "#FFA15A",
          "size": [
           23220.0008392334,
           41300.002098083496,
           548250.016784668,
           293461.0091896057,
           301620.0092315674
          ],
          "sizemode": "area",
          "sizeref": 342.6562604904175,
          "symbol": "circle"
         },
         "mode": "markers+text",
         "name": "MGLU3",
         "orientation": "v",
         "showlegend": true,
         "text": [
          "MGLUV214",
          "MGLUV254",
          "MGLUV214",
          "MGLUW169",
          "MGLUW169"
         ],
         "type": "scatter",
         "x": [
          41,
          41,
          41,
          41,
          41
         ],
         "xaxis": "x",
         "y": [
          -22.873097140876627,
          -21.797006910808538,
          -32.636720801798845,
          -13.404286710305929,
          -15.228620659096649
         ],
         "yaxis": "y"
        },
        {
         "hovertemplate": "<b>%{hovertext}</b><br><br>Ticker Ação=USIM5<br>Volatilidade(%)=%{x}<br>Lucro ou Prejuízo (%)=%{y}<br>Exposição Financeira=%{marker.size}<br>Ticker=%{text}<extra></extra>",
         "hovertext": [
          "USIMV175"
         ],
         "legendgroup": "USIM5",
         "marker": {
          "color": "#19d3f3",
          "size": [
           153500.00381469727
          ],
          "sizemode": "area",
          "sizeref": 342.6562604904175,
          "symbol": "circle"
         },
         "mode": "markers+text",
         "name": "USIM5",
         "orientation": "v",
         "showlegend": true,
         "text": [
          "USIMV175"
         ],
         "type": "scatter",
         "x": [
          48
         ],
         "xaxis": "x",
         "y": [
          -4.816458330266869
         ],
         "yaxis": "y"
        },
        {
         "hovertemplate": "<b>%{hovertext}</b><br><br>Ticker Ação=PETR4<br>Volatilidade(%)=%{x}<br>Lucro ou Prejuízo (%)=%{y}<br>Exposição Financeira=%{marker.size}<br>Ticker=%{text}<extra></extra>",
         "hovertext": [
          "PETRV238"
         ],
         "legendgroup": "PETR4",
         "marker": {
          "color": "#FF6692",
          "size": [
           134866.66628519696
          ],
          "sizemode": "area",
          "sizeref": 342.6562604904175,
          "symbol": "circle"
         },
         "mode": "markers+text",
         "name": "PETR4",
         "orientation": "v",
         "showlegend": true,
         "text": [
          "PETRV238"
         ],
         "type": "scatter",
         "x": [
          36
         ],
         "xaxis": "x",
         "y": [
          1.511003735044164
         ],
         "yaxis": "y"
        },
        {
         "hovertemplate": "<b>%{hovertext}</b><br><br>Ticker Ação=BBDC4<br>Volatilidade(%)=%{x}<br>Lucro ou Prejuízo (%)=%{y}<br>Exposição Financeira=%{marker.size}<br>Ticker=%{text}<extra></extra>",
         "hovertext": [
          "BBDCV220",
          "BBDCW244",
          "BBDCW270",
          "BBDCW244"
         ],
         "legendgroup": "BBDC4",
         "marker": {
          "color": "#B6E880",
          "size": [
           138492.93904024054,
           188473.03155501263,
           137399.99771118164,
           188473.03155501263
          ],
          "sizemode": "area",
          "sizeref": 342.6562604904175,
          "symbol": "circle"
         },
         "mode": "markers+text",
         "name": "BBDC4",
         "orientation": "v",
         "showlegend": true,
         "text": [
          "BBDCV220",
          "BBDCW244",
          "BBDCW270",
          "BBDCW244"
         ],
         "type": "scatter",
         "x": [
          30,
          30,
          30,
          30
         ],
         "xaxis": "x",
         "y": [
          -1.2885441915927565,
          -2.1196627527153273,
          -1.1899517195750207,
          -2.1196627527153273
         ],
         "yaxis": "y"
        },
        {
         "hovertemplate": "<b>%{hovertext}</b><br><br>Ticker Ação=CSNA3<br>Volatilidade(%)=%{x}<br>Lucro ou Prejuízo (%)=%{y}<br>Exposição Financeira=%{marker.size}<br>Ticker=%{text}<extra></extra>",
         "hovertext": [
          "CSNAV450",
          "CSNAV450",
          "CSNAW357"
         ],
         "legendgroup": "CSNA3",
         "marker": {
          "color": "#FF97FF",
          "size": [
           76618.00132751465,
           79260.00137329102,
           54040.000915527344
          ],
          "sizemode": "area",
          "sizeref": 342.6562604904175,
          "symbol": "circle"
         },
         "mode": "markers+text",
         "name": "CSNA3",
         "orientation": "v",
         "showlegend": true,
         "text": [
          "CSNAV450",
          "CSNAV450",
          "CSNAW357"
         ],
         "type": "scatter",
         "x": [
          45,
          45,
          45
         ],
         "xaxis": "x",
         "y": [
          -33.18065444320747,
          -33.18065444320747,
          -19.915592205646266
         ],
         "yaxis": "y"
        },
        {
         "hovertemplate": "<b>%{hovertext}</b><br><br>Ticker Ação=NTCO3<br>Volatilidade(%)=%{x}<br>Lucro ou Prejuízo (%)=%{y}<br>Exposição Financeira=%{marker.size}<br>Ticker=%{text}<extra></extra>",
         "hovertext": [
          "NTCOV585",
          "NTCOW550"
         ],
         "legendgroup": "NTCO3",
         "marker": {
          "color": "#FECB52",
          "size": [
           469872.84371606563,
           41529.998779296875
          ],
          "sizemode": "area",
          "sizeref": 342.6562604904175,
          "symbol": "circle"
         },
         "mode": "markers+text",
         "name": "NTCO3",
         "orientation": "v",
         "showlegend": true,
         "text": [
          "NTCOV585",
          "NTCOW550"
         ],
         "type": "scatter",
         "x": [
          32,
          32
         ],
         "xaxis": "x",
         "y": [
          -17.131436643406637,
          -9.519376676661889
         ],
         "yaxis": "y"
        },
        {
         "hovertemplate": "<b>%{hovertext}</b><br><br>Ticker Ação=LREN3<br>Volatilidade(%)=%{x}<br>Lucro ou Prejuízo (%)=%{y}<br>Exposição Financeira=%{marker.size}<br>Ticker=%{text}<extra></extra>",
         "hovertext": [
          "LRENW445"
         ],
         "legendgroup": "LREN3",
         "marker": {
          "color": "#636efa",
          "size": [
           174181.63540233267
          ],
          "sizemode": "area",
          "sizeref": 342.6562604904175,
          "symbol": "circle"
         },
         "mode": "markers+text",
         "name": "LREN3",
         "orientation": "v",
         "showlegend": true,
         "text": [
          "LRENW445"
         ],
         "type": "scatter",
         "x": [
          34
         ],
         "xaxis": "x",
         "y": [
          -5.756910195682209
         ],
         "yaxis": "y"
        },
        {
         "hovertemplate": "<b>%{hovertext}</b><br><br>Ticker Ação=BRDT3<br>Volatilidade(%)=%{x}<br>Lucro ou Prejuízo (%)=%{y}<br>Exposição Financeira=%{marker.size}<br>Ticker=%{text}<extra></extra>",
         "hovertext": [
          "BRDTW250"
         ],
         "legendgroup": "BRDT3",
         "marker": {
          "color": "#EF553B",
          "size": [
           187439.99938964844
          ],
          "sizemode": "area",
          "sizeref": 342.6562604904175,
          "symbol": "circle"
         },
         "mode": "markers+text",
         "name": "BRDT3",
         "orientation": "v",
         "showlegend": true,
         "text": [
          "BRDTW250"
         ],
         "type": "scatter",
         "x": [
          35
         ],
         "xaxis": "x",
         "y": [
          -4.976064496403655
         ],
         "yaxis": "y"
        }
       ],
       "layout": {
        "legend": {
         "itemsizing": "constant",
         "title": {
          "text": "Ticker Ação"
         },
         "tracegroupgap": 0
        },
        "template": {
         "data": {
          "bar": [
           {
            "error_x": {
             "color": "#f2f5fa"
            },
            "error_y": {
             "color": "#f2f5fa"
            },
            "marker": {
             "line": {
              "color": "rgb(17,17,17)",
              "width": 0.5
             },
             "pattern": {
              "fillmode": "overlay",
              "size": 10,
              "solidity": 0.2
             }
            },
            "type": "bar"
           }
          ],
          "barpolar": [
           {
            "marker": {
             "line": {
              "color": "rgb(17,17,17)",
              "width": 0.5
             },
             "pattern": {
              "fillmode": "overlay",
              "size": 10,
              "solidity": 0.2
             }
            },
            "type": "barpolar"
           }
          ],
          "carpet": [
           {
            "aaxis": {
             "endlinecolor": "#A2B1C6",
             "gridcolor": "#506784",
             "linecolor": "#506784",
             "minorgridcolor": "#506784",
             "startlinecolor": "#A2B1C6"
            },
            "baxis": {
             "endlinecolor": "#A2B1C6",
             "gridcolor": "#506784",
             "linecolor": "#506784",
             "minorgridcolor": "#506784",
             "startlinecolor": "#A2B1C6"
            },
            "type": "carpet"
           }
          ],
          "choropleth": [
           {
            "colorbar": {
             "outlinewidth": 0,
             "ticks": ""
            },
            "type": "choropleth"
           }
          ],
          "contour": [
           {
            "colorbar": {
             "outlinewidth": 0,
             "ticks": ""
            },
            "colorscale": [
             [
              0,
              "#0d0887"
             ],
             [
              0.1111111111111111,
              "#46039f"
             ],
             [
              0.2222222222222222,
              "#7201a8"
             ],
             [
              0.3333333333333333,
              "#9c179e"
             ],
             [
              0.4444444444444444,
              "#bd3786"
             ],
             [
              0.5555555555555556,
              "#d8576b"
             ],
             [
              0.6666666666666666,
              "#ed7953"
             ],
             [
              0.7777777777777778,
              "#fb9f3a"
             ],
             [
              0.8888888888888888,
              "#fdca26"
             ],
             [
              1,
              "#f0f921"
             ]
            ],
            "type": "contour"
           }
          ],
          "contourcarpet": [
           {
            "colorbar": {
             "outlinewidth": 0,
             "ticks": ""
            },
            "type": "contourcarpet"
           }
          ],
          "heatmap": [
           {
            "colorbar": {
             "outlinewidth": 0,
             "ticks": ""
            },
            "colorscale": [
             [
              0,
              "#0d0887"
             ],
             [
              0.1111111111111111,
              "#46039f"
             ],
             [
              0.2222222222222222,
              "#7201a8"
             ],
             [
              0.3333333333333333,
              "#9c179e"
             ],
             [
              0.4444444444444444,
              "#bd3786"
             ],
             [
              0.5555555555555556,
              "#d8576b"
             ],
             [
              0.6666666666666666,
              "#ed7953"
             ],
             [
              0.7777777777777778,
              "#fb9f3a"
             ],
             [
              0.8888888888888888,
              "#fdca26"
             ],
             [
              1,
              "#f0f921"
             ]
            ],
            "type": "heatmap"
           }
          ],
          "heatmapgl": [
           {
            "colorbar": {
             "outlinewidth": 0,
             "ticks": ""
            },
            "colorscale": [
             [
              0,
              "#0d0887"
             ],
             [
              0.1111111111111111,
              "#46039f"
             ],
             [
              0.2222222222222222,
              "#7201a8"
             ],
             [
              0.3333333333333333,
              "#9c179e"
             ],
             [
              0.4444444444444444,
              "#bd3786"
             ],
             [
              0.5555555555555556,
              "#d8576b"
             ],
             [
              0.6666666666666666,
              "#ed7953"
             ],
             [
              0.7777777777777778,
              "#fb9f3a"
             ],
             [
              0.8888888888888888,
              "#fdca26"
             ],
             [
              1,
              "#f0f921"
             ]
            ],
            "type": "heatmapgl"
           }
          ],
          "histogram": [
           {
            "marker": {
             "pattern": {
              "fillmode": "overlay",
              "size": 10,
              "solidity": 0.2
             }
            },
            "type": "histogram"
           }
          ],
          "histogram2d": [
           {
            "colorbar": {
             "outlinewidth": 0,
             "ticks": ""
            },
            "colorscale": [
             [
              0,
              "#0d0887"
             ],
             [
              0.1111111111111111,
              "#46039f"
             ],
             [
              0.2222222222222222,
              "#7201a8"
             ],
             [
              0.3333333333333333,
              "#9c179e"
             ],
             [
              0.4444444444444444,
              "#bd3786"
             ],
             [
              0.5555555555555556,
              "#d8576b"
             ],
             [
              0.6666666666666666,
              "#ed7953"
             ],
             [
              0.7777777777777778,
              "#fb9f3a"
             ],
             [
              0.8888888888888888,
              "#fdca26"
             ],
             [
              1,
              "#f0f921"
             ]
            ],
            "type": "histogram2d"
           }
          ],
          "histogram2dcontour": [
           {
            "colorbar": {
             "outlinewidth": 0,
             "ticks": ""
            },
            "colorscale": [
             [
              0,
              "#0d0887"
             ],
             [
              0.1111111111111111,
              "#46039f"
             ],
             [
              0.2222222222222222,
              "#7201a8"
             ],
             [
              0.3333333333333333,
              "#9c179e"
             ],
             [
              0.4444444444444444,
              "#bd3786"
             ],
             [
              0.5555555555555556,
              "#d8576b"
             ],
             [
              0.6666666666666666,
              "#ed7953"
             ],
             [
              0.7777777777777778,
              "#fb9f3a"
             ],
             [
              0.8888888888888888,
              "#fdca26"
             ],
             [
              1,
              "#f0f921"
             ]
            ],
            "type": "histogram2dcontour"
           }
          ],
          "mesh3d": [
           {
            "colorbar": {
             "outlinewidth": 0,
             "ticks": ""
            },
            "type": "mesh3d"
           }
          ],
          "parcoords": [
           {
            "line": {
             "colorbar": {
              "outlinewidth": 0,
              "ticks": ""
             }
            },
            "type": "parcoords"
           }
          ],
          "pie": [
           {
            "automargin": true,
            "type": "pie"
           }
          ],
          "scatter": [
           {
            "marker": {
             "line": {
              "color": "#283442"
             }
            },
            "type": "scatter"
           }
          ],
          "scatter3d": [
           {
            "line": {
             "colorbar": {
              "outlinewidth": 0,
              "ticks": ""
             }
            },
            "marker": {
             "colorbar": {
              "outlinewidth": 0,
              "ticks": ""
             }
            },
            "type": "scatter3d"
           }
          ],
          "scattercarpet": [
           {
            "marker": {
             "colorbar": {
              "outlinewidth": 0,
              "ticks": ""
             }
            },
            "type": "scattercarpet"
           }
          ],
          "scattergeo": [
           {
            "marker": {
             "colorbar": {
              "outlinewidth": 0,
              "ticks": ""
             }
            },
            "type": "scattergeo"
           }
          ],
          "scattergl": [
           {
            "marker": {
             "line": {
              "color": "#283442"
             }
            },
            "type": "scattergl"
           }
          ],
          "scattermapbox": [
           {
            "marker": {
             "colorbar": {
              "outlinewidth": 0,
              "ticks": ""
             }
            },
            "type": "scattermapbox"
           }
          ],
          "scatterpolar": [
           {
            "marker": {
             "colorbar": {
              "outlinewidth": 0,
              "ticks": ""
             }
            },
            "type": "scatterpolar"
           }
          ],
          "scatterpolargl": [
           {
            "marker": {
             "colorbar": {
              "outlinewidth": 0,
              "ticks": ""
             }
            },
            "type": "scatterpolargl"
           }
          ],
          "scatterternary": [
           {
            "marker": {
             "colorbar": {
              "outlinewidth": 0,
              "ticks": ""
             }
            },
            "type": "scatterternary"
           }
          ],
          "surface": [
           {
            "colorbar": {
             "outlinewidth": 0,
             "ticks": ""
            },
            "colorscale": [
             [
              0,
              "#0d0887"
             ],
             [
              0.1111111111111111,
              "#46039f"
             ],
             [
              0.2222222222222222,
              "#7201a8"
             ],
             [
              0.3333333333333333,
              "#9c179e"
             ],
             [
              0.4444444444444444,
              "#bd3786"
             ],
             [
              0.5555555555555556,
              "#d8576b"
             ],
             [
              0.6666666666666666,
              "#ed7953"
             ],
             [
              0.7777777777777778,
              "#fb9f3a"
             ],
             [
              0.8888888888888888,
              "#fdca26"
             ],
             [
              1,
              "#f0f921"
             ]
            ],
            "type": "surface"
           }
          ],
          "table": [
           {
            "cells": {
             "fill": {
              "color": "#506784"
             },
             "line": {
              "color": "rgb(17,17,17)"
             }
            },
            "header": {
             "fill": {
              "color": "#2a3f5f"
             },
             "line": {
              "color": "rgb(17,17,17)"
             }
            },
            "type": "table"
           }
          ]
         },
         "layout": {
          "annotationdefaults": {
           "arrowcolor": "#f2f5fa",
           "arrowhead": 0,
           "arrowwidth": 1
          },
          "autotypenumbers": "strict",
          "coloraxis": {
           "colorbar": {
            "outlinewidth": 0,
            "ticks": ""
           }
          },
          "colorscale": {
           "diverging": [
            [
             0,
             "#8e0152"
            ],
            [
             0.1,
             "#c51b7d"
            ],
            [
             0.2,
             "#de77ae"
            ],
            [
             0.3,
             "#f1b6da"
            ],
            [
             0.4,
             "#fde0ef"
            ],
            [
             0.5,
             "#f7f7f7"
            ],
            [
             0.6,
             "#e6f5d0"
            ],
            [
             0.7,
             "#b8e186"
            ],
            [
             0.8,
             "#7fbc41"
            ],
            [
             0.9,
             "#4d9221"
            ],
            [
             1,
             "#276419"
            ]
           ],
           "sequential": [
            [
             0,
             "#0d0887"
            ],
            [
             0.1111111111111111,
             "#46039f"
            ],
            [
             0.2222222222222222,
             "#7201a8"
            ],
            [
             0.3333333333333333,
             "#9c179e"
            ],
            [
             0.4444444444444444,
             "#bd3786"
            ],
            [
             0.5555555555555556,
             "#d8576b"
            ],
            [
             0.6666666666666666,
             "#ed7953"
            ],
            [
             0.7777777777777778,
             "#fb9f3a"
            ],
            [
             0.8888888888888888,
             "#fdca26"
            ],
            [
             1,
             "#f0f921"
            ]
           ],
           "sequentialminus": [
            [
             0,
             "#0d0887"
            ],
            [
             0.1111111111111111,
             "#46039f"
            ],
            [
             0.2222222222222222,
             "#7201a8"
            ],
            [
             0.3333333333333333,
             "#9c179e"
            ],
            [
             0.4444444444444444,
             "#bd3786"
            ],
            [
             0.5555555555555556,
             "#d8576b"
            ],
            [
             0.6666666666666666,
             "#ed7953"
            ],
            [
             0.7777777777777778,
             "#fb9f3a"
            ],
            [
             0.8888888888888888,
             "#fdca26"
            ],
            [
             1,
             "#f0f921"
            ]
           ]
          },
          "colorway": [
           "#636efa",
           "#EF553B",
           "#00cc96",
           "#ab63fa",
           "#FFA15A",
           "#19d3f3",
           "#FF6692",
           "#B6E880",
           "#FF97FF",
           "#FECB52"
          ],
          "font": {
           "color": "#f2f5fa"
          },
          "geo": {
           "bgcolor": "rgb(17,17,17)",
           "lakecolor": "rgb(17,17,17)",
           "landcolor": "rgb(17,17,17)",
           "showlakes": true,
           "showland": true,
           "subunitcolor": "#506784"
          },
          "hoverlabel": {
           "align": "left"
          },
          "hovermode": "closest",
          "mapbox": {
           "style": "dark"
          },
          "paper_bgcolor": "rgb(17,17,17)",
          "plot_bgcolor": "rgb(17,17,17)",
          "polar": {
           "angularaxis": {
            "gridcolor": "#506784",
            "linecolor": "#506784",
            "ticks": ""
           },
           "bgcolor": "rgb(17,17,17)",
           "radialaxis": {
            "gridcolor": "#506784",
            "linecolor": "#506784",
            "ticks": ""
           }
          },
          "scene": {
           "xaxis": {
            "backgroundcolor": "rgb(17,17,17)",
            "gridcolor": "#506784",
            "gridwidth": 2,
            "linecolor": "#506784",
            "showbackground": true,
            "ticks": "",
            "zerolinecolor": "#C8D4E3"
           },
           "yaxis": {
            "backgroundcolor": "rgb(17,17,17)",
            "gridcolor": "#506784",
            "gridwidth": 2,
            "linecolor": "#506784",
            "showbackground": true,
            "ticks": "",
            "zerolinecolor": "#C8D4E3"
           },
           "zaxis": {
            "backgroundcolor": "rgb(17,17,17)",
            "gridcolor": "#506784",
            "gridwidth": 2,
            "linecolor": "#506784",
            "showbackground": true,
            "ticks": "",
            "zerolinecolor": "#C8D4E3"
           }
          },
          "shapedefaults": {
           "line": {
            "color": "#f2f5fa"
           }
          },
          "sliderdefaults": {
           "bgcolor": "#C8D4E3",
           "bordercolor": "rgb(17,17,17)",
           "borderwidth": 1,
           "tickwidth": 0
          },
          "ternary": {
           "aaxis": {
            "gridcolor": "#506784",
            "linecolor": "#506784",
            "ticks": ""
           },
           "baxis": {
            "gridcolor": "#506784",
            "linecolor": "#506784",
            "ticks": ""
           },
           "bgcolor": "rgb(17,17,17)",
           "caxis": {
            "gridcolor": "#506784",
            "linecolor": "#506784",
            "ticks": ""
           }
          },
          "title": {
           "x": 0.05
          },
          "updatemenudefaults": {
           "bgcolor": "#506784",
           "borderwidth": 0
          },
          "xaxis": {
           "automargin": true,
           "gridcolor": "#283442",
           "linecolor": "#506784",
           "ticks": "",
           "title": {
            "standoff": 15
           },
           "zerolinecolor": "#283442",
           "zerolinewidth": 2
          },
          "yaxis": {
           "automargin": true,
           "gridcolor": "#283442",
           "linecolor": "#506784",
           "ticks": "",
           "title": {
            "standoff": 15
           },
           "zerolinecolor": "#283442",
           "zerolinewidth": 2
          }
         }
        },
        "title": {
         "text": "NADAL"
        },
        "xaxis": {
         "anchor": "y",
         "domain": [
          0,
          1
         ],
         "title": {
          "text": "Volatilidade(%)"
         },
         "type": "log"
        },
        "yaxis": {
         "anchor": "x",
         "domain": [
          0,
          1
         ],
         "title": {
          "text": "Lucro ou Prejuízo (%)"
         }
        }
       }
      },
      "text/html": [
       "<div>                            <div id=\"c19dc1e4-d5c1-4fa0-9022-1f33faa90fc8\" class=\"plotly-graph-div\" style=\"height:525px; width:100%;\"></div>            <script type=\"text/javascript\">                require([\"plotly\"], function(Plotly) {                    window.PLOTLYENV=window.PLOTLYENV || {};                                    if (document.getElementById(\"c19dc1e4-d5c1-4fa0-9022-1f33faa90fc8\")) {                    Plotly.newPlot(                        \"c19dc1e4-d5c1-4fa0-9022-1f33faa90fc8\",                        [{\"hovertemplate\":\"<b>%{hovertext}</b><br><br>Ticker A\\u00e7\\u00e3o=ITUB4<br>Volatilidade(%)=%{x}<br>Lucro ou Preju\\u00edzo (%)=%{y}<br>Exposi\\u00e7\\u00e3o Financeira=%{marker.size}<br>Ticker=%{text}<extra></extra>\",\"hovertext\":[\"ITUBV326\",\"ITUBW321\",\"ITUBW284\",\"ITUBW286\"],\"legendgroup\":\"ITUB4\",\"marker\":{\"color\":\"#636efa\",\"size\":[326639.9963378906,160002.87661258306,113079.99877929688,284199.9969482422],\"sizemode\":\"area\",\"sizeref\":342.6562604904175,\"symbol\":\"circle\"},\"mode\":\"markers+text\",\"name\":\"ITUB4\",\"orientation\":\"v\",\"showlegend\":true,\"text\":[\"ITUBV326\",\"ITUBW321\",\"ITUBW284\",\"ITUBW286\"],\"type\":\"scatter\",\"x\":[30.0,30.0,30.0,30.0],\"xaxis\":\"x\",\"y\":[-6.2954109284779305,-1.3979850079478047,-1.5429221101218127,-2.4547291483289237],\"yaxis\":\"y\"},{\"hovertemplate\":\"<b>%{hovertext}</b><br><br>Ticker A\\u00e7\\u00e3o=VALE3<br>Volatilidade(%)=%{x}<br>Lucro ou Preju\\u00edzo (%)=%{y}<br>Exposi\\u00e7\\u00e3o Financeira=%{marker.size}<br>Ticker=%{text}<extra></extra>\",\"hovertext\":[\"VALEV91\",\"VALEV95\",\"VALEV91\",\"VALEV91\",\"VALEV91\",\"VALEW943\",\"VALEW948\",\"VALEW948\"],\"legendgroup\":\"VALE3\",\"marker\":{\"color\":\"#EF553B\",\"size\":[150040.0,138000.0,413113.14814814815,112950.0,150800.0,447000.0,298560.0,74550.0],\"sizemode\":\"area\",\"sizeref\":342.6562604904175,\"symbol\":\"circle\"},\"mode\":\"markers+text\",\"name\":\"VALE3\",\"orientation\":\"v\",\"showlegend\":true,\"text\":[\"VALEV91\",\"VALEV95\",\"VALEV91\",\"VALEV91\",\"VALEV91\",\"VALEW943\",\"VALEW948\",\"VALEW948\"],\"type\":\"scatter\",\"x\":[32.5,32.5,32.5,32.5,32.5,32.5,32.5,32.5],\"xaxis\":\"x\",\"y\":[-26.39391665595843,-24.935643566306815,-26.481116619242663,-26.660812090140112,-26.75613188806214,-17.291348143891568,-17.85388376336467,-17.758957067868415],\"yaxis\":\"y\"},{\"hovertemplate\":\"<b>%{hovertext}</b><br><br>Ticker A\\u00e7\\u00e3o=WEGE3<br>Volatilidade(%)=%{x}<br>Lucro ou Preju\\u00edzo (%)=%{y}<br>Exposi\\u00e7\\u00e3o Financeira=%{marker.size}<br>Ticker=%{text}<extra></extra>\",\"hovertext\":[\"WEGEV404\"],\"legendgroup\":\"WEGE3\",\"marker\":{\"color\":\"#00cc96\",\"size\":[68279.99877929688],\"sizemode\":\"area\",\"sizeref\":342.6562604904175,\"symbol\":\"circle\"},\"mode\":\"markers+text\",\"name\":\"WEGE3\",\"orientation\":\"v\",\"showlegend\":true,\"text\":[\"WEGEV404\"],\"type\":\"scatter\",\"x\":[32.5],\"xaxis\":\"x\",\"y\":[10.166914112857823],\"yaxis\":\"y\"},{\"hovertemplate\":\"<b>%{hovertext}</b><br><br>Ticker A\\u00e7\\u00e3o=GGBR4<br>Volatilidade(%)=%{x}<br>Lucro ou Preju\\u00edzo (%)=%{y}<br>Exposi\\u00e7\\u00e3o Financeira=%{marker.size}<br>Ticker=%{text}<extra></extra>\",\"hovertext\":[\"GGBRV308\",\"GGBRV308\",\"GGBRV306\",\"GGBRV301\",\"GGBRV303\",\"GGBRV311\"],\"legendgroup\":\"GGBR4\",\"marker\":{\"color\":\"#ab63fa\",\"size\":[117221.42399379188,46888.56959751675,46819.99816894531,121249.99542236328,71579.99725341797,97039.99633789062],\"sizemode\":\"area\",\"sizeref\":342.6562604904175,\"symbol\":\"circle\"},\"mode\":\"markers+text\",\"name\":\"GGBR4\",\"orientation\":\"v\",\"showlegend\":true,\"text\":[\"GGBRV308\",\"GGBRV308\",\"GGBRV306\",\"GGBRV301\",\"GGBRV303\",\"GGBRV311\"],\"type\":\"scatter\",\"x\":[34.0,34.0,34.0,34.0,34.0,34.0],\"xaxis\":\"x\",\"y\":[-5.8599303767631215,-5.8599303767631215,-4.978785571560728,-6.260731422510609,-5.712065798986446,-9.287186585531327],\"yaxis\":\"y\"},{\"hovertemplate\":\"<b>%{hovertext}</b><br><br>Ticker A\\u00e7\\u00e3o=MGLU3<br>Volatilidade(%)=%{x}<br>Lucro ou Preju\\u00edzo (%)=%{y}<br>Exposi\\u00e7\\u00e3o Financeira=%{marker.size}<br>Ticker=%{text}<extra></extra>\",\"hovertext\":[\"MGLUV214\",\"MGLUV254\",\"MGLUV214\",\"MGLUW169\",\"MGLUW169\"],\"legendgroup\":\"MGLU3\",\"marker\":{\"color\":\"#FFA15A\",\"size\":[23220.0008392334,41300.002098083496,548250.016784668,293461.0091896057,301620.0092315674],\"sizemode\":\"area\",\"sizeref\":342.6562604904175,\"symbol\":\"circle\"},\"mode\":\"markers+text\",\"name\":\"MGLU3\",\"orientation\":\"v\",\"showlegend\":true,\"text\":[\"MGLUV214\",\"MGLUV254\",\"MGLUV214\",\"MGLUW169\",\"MGLUW169\"],\"type\":\"scatter\",\"x\":[41.0,41.0,41.0,41.0,41.0],\"xaxis\":\"x\",\"y\":[-22.873097140876627,-21.797006910808538,-32.636720801798845,-13.404286710305929,-15.228620659096649],\"yaxis\":\"y\"},{\"hovertemplate\":\"<b>%{hovertext}</b><br><br>Ticker A\\u00e7\\u00e3o=USIM5<br>Volatilidade(%)=%{x}<br>Lucro ou Preju\\u00edzo (%)=%{y}<br>Exposi\\u00e7\\u00e3o Financeira=%{marker.size}<br>Ticker=%{text}<extra></extra>\",\"hovertext\":[\"USIMV175\"],\"legendgroup\":\"USIM5\",\"marker\":{\"color\":\"#19d3f3\",\"size\":[153500.00381469727],\"sizemode\":\"area\",\"sizeref\":342.6562604904175,\"symbol\":\"circle\"},\"mode\":\"markers+text\",\"name\":\"USIM5\",\"orientation\":\"v\",\"showlegend\":true,\"text\":[\"USIMV175\"],\"type\":\"scatter\",\"x\":[48.0],\"xaxis\":\"x\",\"y\":[-4.816458330266869],\"yaxis\":\"y\"},{\"hovertemplate\":\"<b>%{hovertext}</b><br><br>Ticker A\\u00e7\\u00e3o=PETR4<br>Volatilidade(%)=%{x}<br>Lucro ou Preju\\u00edzo (%)=%{y}<br>Exposi\\u00e7\\u00e3o Financeira=%{marker.size}<br>Ticker=%{text}<extra></extra>\",\"hovertext\":[\"PETRV238\"],\"legendgroup\":\"PETR4\",\"marker\":{\"color\":\"#FF6692\",\"size\":[134866.66628519696],\"sizemode\":\"area\",\"sizeref\":342.6562604904175,\"symbol\":\"circle\"},\"mode\":\"markers+text\",\"name\":\"PETR4\",\"orientation\":\"v\",\"showlegend\":true,\"text\":[\"PETRV238\"],\"type\":\"scatter\",\"x\":[36.0],\"xaxis\":\"x\",\"y\":[1.511003735044164],\"yaxis\":\"y\"},{\"hovertemplate\":\"<b>%{hovertext}</b><br><br>Ticker A\\u00e7\\u00e3o=BBDC4<br>Volatilidade(%)=%{x}<br>Lucro ou Preju\\u00edzo (%)=%{y}<br>Exposi\\u00e7\\u00e3o Financeira=%{marker.size}<br>Ticker=%{text}<extra></extra>\",\"hovertext\":[\"BBDCV220\",\"BBDCW244\",\"BBDCW270\",\"BBDCW244\"],\"legendgroup\":\"BBDC4\",\"marker\":{\"color\":\"#B6E880\",\"size\":[138492.93904024054,188473.03155501263,137399.99771118164,188473.03155501263],\"sizemode\":\"area\",\"sizeref\":342.6562604904175,\"symbol\":\"circle\"},\"mode\":\"markers+text\",\"name\":\"BBDC4\",\"orientation\":\"v\",\"showlegend\":true,\"text\":[\"BBDCV220\",\"BBDCW244\",\"BBDCW270\",\"BBDCW244\"],\"type\":\"scatter\",\"x\":[30.0,30.0,30.0,30.0],\"xaxis\":\"x\",\"y\":[-1.2885441915927565,-2.1196627527153273,-1.1899517195750207,-2.1196627527153273],\"yaxis\":\"y\"},{\"hovertemplate\":\"<b>%{hovertext}</b><br><br>Ticker A\\u00e7\\u00e3o=CSNA3<br>Volatilidade(%)=%{x}<br>Lucro ou Preju\\u00edzo (%)=%{y}<br>Exposi\\u00e7\\u00e3o Financeira=%{marker.size}<br>Ticker=%{text}<extra></extra>\",\"hovertext\":[\"CSNAV450\",\"CSNAV450\",\"CSNAW357\"],\"legendgroup\":\"CSNA3\",\"marker\":{\"color\":\"#FF97FF\",\"size\":[76618.00132751465,79260.00137329102,54040.000915527344],\"sizemode\":\"area\",\"sizeref\":342.6562604904175,\"symbol\":\"circle\"},\"mode\":\"markers+text\",\"name\":\"CSNA3\",\"orientation\":\"v\",\"showlegend\":true,\"text\":[\"CSNAV450\",\"CSNAV450\",\"CSNAW357\"],\"type\":\"scatter\",\"x\":[45.0,45.0,45.0],\"xaxis\":\"x\",\"y\":[-33.18065444320747,-33.18065444320747,-19.915592205646266],\"yaxis\":\"y\"},{\"hovertemplate\":\"<b>%{hovertext}</b><br><br>Ticker A\\u00e7\\u00e3o=NTCO3<br>Volatilidade(%)=%{x}<br>Lucro ou Preju\\u00edzo (%)=%{y}<br>Exposi\\u00e7\\u00e3o Financeira=%{marker.size}<br>Ticker=%{text}<extra></extra>\",\"hovertext\":[\"NTCOV585\",\"NTCOW550\"],\"legendgroup\":\"NTCO3\",\"marker\":{\"color\":\"#FECB52\",\"size\":[469872.84371606563,41529.998779296875],\"sizemode\":\"area\",\"sizeref\":342.6562604904175,\"symbol\":\"circle\"},\"mode\":\"markers+text\",\"name\":\"NTCO3\",\"orientation\":\"v\",\"showlegend\":true,\"text\":[\"NTCOV585\",\"NTCOW550\"],\"type\":\"scatter\",\"x\":[32.0,32.0],\"xaxis\":\"x\",\"y\":[-17.131436643406637,-9.519376676661889],\"yaxis\":\"y\"},{\"hovertemplate\":\"<b>%{hovertext}</b><br><br>Ticker A\\u00e7\\u00e3o=LREN3<br>Volatilidade(%)=%{x}<br>Lucro ou Preju\\u00edzo (%)=%{y}<br>Exposi\\u00e7\\u00e3o Financeira=%{marker.size}<br>Ticker=%{text}<extra></extra>\",\"hovertext\":[\"LRENW445\"],\"legendgroup\":\"LREN3\",\"marker\":{\"color\":\"#636efa\",\"size\":[174181.63540233267],\"sizemode\":\"area\",\"sizeref\":342.6562604904175,\"symbol\":\"circle\"},\"mode\":\"markers+text\",\"name\":\"LREN3\",\"orientation\":\"v\",\"showlegend\":true,\"text\":[\"LRENW445\"],\"type\":\"scatter\",\"x\":[34.0],\"xaxis\":\"x\",\"y\":[-5.756910195682209],\"yaxis\":\"y\"},{\"hovertemplate\":\"<b>%{hovertext}</b><br><br>Ticker A\\u00e7\\u00e3o=BRDT3<br>Volatilidade(%)=%{x}<br>Lucro ou Preju\\u00edzo (%)=%{y}<br>Exposi\\u00e7\\u00e3o Financeira=%{marker.size}<br>Ticker=%{text}<extra></extra>\",\"hovertext\":[\"BRDTW250\"],\"legendgroup\":\"BRDT3\",\"marker\":{\"color\":\"#EF553B\",\"size\":[187439.99938964844],\"sizemode\":\"area\",\"sizeref\":342.6562604904175,\"symbol\":\"circle\"},\"mode\":\"markers+text\",\"name\":\"BRDT3\",\"orientation\":\"v\",\"showlegend\":true,\"text\":[\"BRDTW250\"],\"type\":\"scatter\",\"x\":[35.0],\"xaxis\":\"x\",\"y\":[-4.976064496403655],\"yaxis\":\"y\"}],                        {\"legend\":{\"itemsizing\":\"constant\",\"title\":{\"text\":\"Ticker A\\u00e7\\u00e3o\"},\"tracegroupgap\":0},\"template\":{\"data\":{\"bar\":[{\"error_x\":{\"color\":\"#f2f5fa\"},\"error_y\":{\"color\":\"#f2f5fa\"},\"marker\":{\"line\":{\"color\":\"rgb(17,17,17)\",\"width\":0.5},\"pattern\":{\"fillmode\":\"overlay\",\"size\":10,\"solidity\":0.2}},\"type\":\"bar\"}],\"barpolar\":[{\"marker\":{\"line\":{\"color\":\"rgb(17,17,17)\",\"width\":0.5},\"pattern\":{\"fillmode\":\"overlay\",\"size\":10,\"solidity\":0.2}},\"type\":\"barpolar\"}],\"carpet\":[{\"aaxis\":{\"endlinecolor\":\"#A2B1C6\",\"gridcolor\":\"#506784\",\"linecolor\":\"#506784\",\"minorgridcolor\":\"#506784\",\"startlinecolor\":\"#A2B1C6\"},\"baxis\":{\"endlinecolor\":\"#A2B1C6\",\"gridcolor\":\"#506784\",\"linecolor\":\"#506784\",\"minorgridcolor\":\"#506784\",\"startlinecolor\":\"#A2B1C6\"},\"type\":\"carpet\"}],\"choropleth\":[{\"colorbar\":{\"outlinewidth\":0,\"ticks\":\"\"},\"type\":\"choropleth\"}],\"contour\":[{\"colorbar\":{\"outlinewidth\":0,\"ticks\":\"\"},\"colorscale\":[[0.0,\"#0d0887\"],[0.1111111111111111,\"#46039f\"],[0.2222222222222222,\"#7201a8\"],[0.3333333333333333,\"#9c179e\"],[0.4444444444444444,\"#bd3786\"],[0.5555555555555556,\"#d8576b\"],[0.6666666666666666,\"#ed7953\"],[0.7777777777777778,\"#fb9f3a\"],[0.8888888888888888,\"#fdca26\"],[1.0,\"#f0f921\"]],\"type\":\"contour\"}],\"contourcarpet\":[{\"colorbar\":{\"outlinewidth\":0,\"ticks\":\"\"},\"type\":\"contourcarpet\"}],\"heatmap\":[{\"colorbar\":{\"outlinewidth\":0,\"ticks\":\"\"},\"colorscale\":[[0.0,\"#0d0887\"],[0.1111111111111111,\"#46039f\"],[0.2222222222222222,\"#7201a8\"],[0.3333333333333333,\"#9c179e\"],[0.4444444444444444,\"#bd3786\"],[0.5555555555555556,\"#d8576b\"],[0.6666666666666666,\"#ed7953\"],[0.7777777777777778,\"#fb9f3a\"],[0.8888888888888888,\"#fdca26\"],[1.0,\"#f0f921\"]],\"type\":\"heatmap\"}],\"heatmapgl\":[{\"colorbar\":{\"outlinewidth\":0,\"ticks\":\"\"},\"colorscale\":[[0.0,\"#0d0887\"],[0.1111111111111111,\"#46039f\"],[0.2222222222222222,\"#7201a8\"],[0.3333333333333333,\"#9c179e\"],[0.4444444444444444,\"#bd3786\"],[0.5555555555555556,\"#d8576b\"],[0.6666666666666666,\"#ed7953\"],[0.7777777777777778,\"#fb9f3a\"],[0.8888888888888888,\"#fdca26\"],[1.0,\"#f0f921\"]],\"type\":\"heatmapgl\"}],\"histogram\":[{\"marker\":{\"pattern\":{\"fillmode\":\"overlay\",\"size\":10,\"solidity\":0.2}},\"type\":\"histogram\"}],\"histogram2d\":[{\"colorbar\":{\"outlinewidth\":0,\"ticks\":\"\"},\"colorscale\":[[0.0,\"#0d0887\"],[0.1111111111111111,\"#46039f\"],[0.2222222222222222,\"#7201a8\"],[0.3333333333333333,\"#9c179e\"],[0.4444444444444444,\"#bd3786\"],[0.5555555555555556,\"#d8576b\"],[0.6666666666666666,\"#ed7953\"],[0.7777777777777778,\"#fb9f3a\"],[0.8888888888888888,\"#fdca26\"],[1.0,\"#f0f921\"]],\"type\":\"histogram2d\"}],\"histogram2dcontour\":[{\"colorbar\":{\"outlinewidth\":0,\"ticks\":\"\"},\"colorscale\":[[0.0,\"#0d0887\"],[0.1111111111111111,\"#46039f\"],[0.2222222222222222,\"#7201a8\"],[0.3333333333333333,\"#9c179e\"],[0.4444444444444444,\"#bd3786\"],[0.5555555555555556,\"#d8576b\"],[0.6666666666666666,\"#ed7953\"],[0.7777777777777778,\"#fb9f3a\"],[0.8888888888888888,\"#fdca26\"],[1.0,\"#f0f921\"]],\"type\":\"histogram2dcontour\"}],\"mesh3d\":[{\"colorbar\":{\"outlinewidth\":0,\"ticks\":\"\"},\"type\":\"mesh3d\"}],\"parcoords\":[{\"line\":{\"colorbar\":{\"outlinewidth\":0,\"ticks\":\"\"}},\"type\":\"parcoords\"}],\"pie\":[{\"automargin\":true,\"type\":\"pie\"}],\"scatter\":[{\"marker\":{\"line\":{\"color\":\"#283442\"}},\"type\":\"scatter\"}],\"scatter3d\":[{\"line\":{\"colorbar\":{\"outlinewidth\":0,\"ticks\":\"\"}},\"marker\":{\"colorbar\":{\"outlinewidth\":0,\"ticks\":\"\"}},\"type\":\"scatter3d\"}],\"scattercarpet\":[{\"marker\":{\"colorbar\":{\"outlinewidth\":0,\"ticks\":\"\"}},\"type\":\"scattercarpet\"}],\"scattergeo\":[{\"marker\":{\"colorbar\":{\"outlinewidth\":0,\"ticks\":\"\"}},\"type\":\"scattergeo\"}],\"scattergl\":[{\"marker\":{\"line\":{\"color\":\"#283442\"}},\"type\":\"scattergl\"}],\"scattermapbox\":[{\"marker\":{\"colorbar\":{\"outlinewidth\":0,\"ticks\":\"\"}},\"type\":\"scattermapbox\"}],\"scatterpolar\":[{\"marker\":{\"colorbar\":{\"outlinewidth\":0,\"ticks\":\"\"}},\"type\":\"scatterpolar\"}],\"scatterpolargl\":[{\"marker\":{\"colorbar\":{\"outlinewidth\":0,\"ticks\":\"\"}},\"type\":\"scatterpolargl\"}],\"scatterternary\":[{\"marker\":{\"colorbar\":{\"outlinewidth\":0,\"ticks\":\"\"}},\"type\":\"scatterternary\"}],\"surface\":[{\"colorbar\":{\"outlinewidth\":0,\"ticks\":\"\"},\"colorscale\":[[0.0,\"#0d0887\"],[0.1111111111111111,\"#46039f\"],[0.2222222222222222,\"#7201a8\"],[0.3333333333333333,\"#9c179e\"],[0.4444444444444444,\"#bd3786\"],[0.5555555555555556,\"#d8576b\"],[0.6666666666666666,\"#ed7953\"],[0.7777777777777778,\"#fb9f3a\"],[0.8888888888888888,\"#fdca26\"],[1.0,\"#f0f921\"]],\"type\":\"surface\"}],\"table\":[{\"cells\":{\"fill\":{\"color\":\"#506784\"},\"line\":{\"color\":\"rgb(17,17,17)\"}},\"header\":{\"fill\":{\"color\":\"#2a3f5f\"},\"line\":{\"color\":\"rgb(17,17,17)\"}},\"type\":\"table\"}]},\"layout\":{\"annotationdefaults\":{\"arrowcolor\":\"#f2f5fa\",\"arrowhead\":0,\"arrowwidth\":1},\"autotypenumbers\":\"strict\",\"coloraxis\":{\"colorbar\":{\"outlinewidth\":0,\"ticks\":\"\"}},\"colorscale\":{\"diverging\":[[0,\"#8e0152\"],[0.1,\"#c51b7d\"],[0.2,\"#de77ae\"],[0.3,\"#f1b6da\"],[0.4,\"#fde0ef\"],[0.5,\"#f7f7f7\"],[0.6,\"#e6f5d0\"],[0.7,\"#b8e186\"],[0.8,\"#7fbc41\"],[0.9,\"#4d9221\"],[1,\"#276419\"]],\"sequential\":[[0.0,\"#0d0887\"],[0.1111111111111111,\"#46039f\"],[0.2222222222222222,\"#7201a8\"],[0.3333333333333333,\"#9c179e\"],[0.4444444444444444,\"#bd3786\"],[0.5555555555555556,\"#d8576b\"],[0.6666666666666666,\"#ed7953\"],[0.7777777777777778,\"#fb9f3a\"],[0.8888888888888888,\"#fdca26\"],[1.0,\"#f0f921\"]],\"sequentialminus\":[[0.0,\"#0d0887\"],[0.1111111111111111,\"#46039f\"],[0.2222222222222222,\"#7201a8\"],[0.3333333333333333,\"#9c179e\"],[0.4444444444444444,\"#bd3786\"],[0.5555555555555556,\"#d8576b\"],[0.6666666666666666,\"#ed7953\"],[0.7777777777777778,\"#fb9f3a\"],[0.8888888888888888,\"#fdca26\"],[1.0,\"#f0f921\"]]},\"colorway\":[\"#636efa\",\"#EF553B\",\"#00cc96\",\"#ab63fa\",\"#FFA15A\",\"#19d3f3\",\"#FF6692\",\"#B6E880\",\"#FF97FF\",\"#FECB52\"],\"font\":{\"color\":\"#f2f5fa\"},\"geo\":{\"bgcolor\":\"rgb(17,17,17)\",\"lakecolor\":\"rgb(17,17,17)\",\"landcolor\":\"rgb(17,17,17)\",\"showlakes\":true,\"showland\":true,\"subunitcolor\":\"#506784\"},\"hoverlabel\":{\"align\":\"left\"},\"hovermode\":\"closest\",\"mapbox\":{\"style\":\"dark\"},\"paper_bgcolor\":\"rgb(17,17,17)\",\"plot_bgcolor\":\"rgb(17,17,17)\",\"polar\":{\"angularaxis\":{\"gridcolor\":\"#506784\",\"linecolor\":\"#506784\",\"ticks\":\"\"},\"bgcolor\":\"rgb(17,17,17)\",\"radialaxis\":{\"gridcolor\":\"#506784\",\"linecolor\":\"#506784\",\"ticks\":\"\"}},\"scene\":{\"xaxis\":{\"backgroundcolor\":\"rgb(17,17,17)\",\"gridcolor\":\"#506784\",\"gridwidth\":2,\"linecolor\":\"#506784\",\"showbackground\":true,\"ticks\":\"\",\"zerolinecolor\":\"#C8D4E3\"},\"yaxis\":{\"backgroundcolor\":\"rgb(17,17,17)\",\"gridcolor\":\"#506784\",\"gridwidth\":2,\"linecolor\":\"#506784\",\"showbackground\":true,\"ticks\":\"\",\"zerolinecolor\":\"#C8D4E3\"},\"zaxis\":{\"backgroundcolor\":\"rgb(17,17,17)\",\"gridcolor\":\"#506784\",\"gridwidth\":2,\"linecolor\":\"#506784\",\"showbackground\":true,\"ticks\":\"\",\"zerolinecolor\":\"#C8D4E3\"}},\"shapedefaults\":{\"line\":{\"color\":\"#f2f5fa\"}},\"sliderdefaults\":{\"bgcolor\":\"#C8D4E3\",\"bordercolor\":\"rgb(17,17,17)\",\"borderwidth\":1,\"tickwidth\":0},\"ternary\":{\"aaxis\":{\"gridcolor\":\"#506784\",\"linecolor\":\"#506784\",\"ticks\":\"\"},\"baxis\":{\"gridcolor\":\"#506784\",\"linecolor\":\"#506784\",\"ticks\":\"\"},\"bgcolor\":\"rgb(17,17,17)\",\"caxis\":{\"gridcolor\":\"#506784\",\"linecolor\":\"#506784\",\"ticks\":\"\"}},\"title\":{\"x\":0.05},\"updatemenudefaults\":{\"bgcolor\":\"#506784\",\"borderwidth\":0},\"xaxis\":{\"automargin\":true,\"gridcolor\":\"#283442\",\"linecolor\":\"#506784\",\"ticks\":\"\",\"title\":{\"standoff\":15},\"zerolinecolor\":\"#283442\",\"zerolinewidth\":2},\"yaxis\":{\"automargin\":true,\"gridcolor\":\"#283442\",\"linecolor\":\"#506784\",\"ticks\":\"\",\"title\":{\"standoff\":15},\"zerolinecolor\":\"#283442\",\"zerolinewidth\":2}}},\"title\":{\"text\":\"NADAL\"},\"xaxis\":{\"anchor\":\"y\",\"domain\":[0.0,1.0],\"title\":{\"text\":\"Volatilidade(%)\"},\"type\":\"log\"},\"yaxis\":{\"anchor\":\"x\",\"domain\":[0.0,1.0],\"title\":{\"text\":\"Lucro ou Preju\\u00edzo (%)\"}}},                        {\"responsive\": true}                    ).then(function(){\n",
       "                            \n",
       "var gd = document.getElementById('c19dc1e4-d5c1-4fa0-9022-1f33faa90fc8');\n",
       "var x = new MutationObserver(function (mutations, observer) {{\n",
       "        var display = window.getComputedStyle(gd).display;\n",
       "        if (!display || display === 'none') {{\n",
       "            console.log([gd, 'removed!']);\n",
       "            Plotly.purge(gd);\n",
       "            observer.disconnect();\n",
       "        }}\n",
       "}});\n",
       "\n",
       "// Listen for the removal of the full notebook cells\n",
       "var notebookContainer = gd.closest('#notebook-container');\n",
       "if (notebookContainer) {{\n",
       "    x.observe(notebookContainer, {childList: true});\n",
       "}}\n",
       "\n",
       "// Listen for the clearing of the current output cell\n",
       "var outputEl = gd.closest('.output');\n",
       "if (outputEl) {{\n",
       "    x.observe(outputEl, {childList: true});\n",
       "}}\n",
       "\n",
       "                        })                };                });            </script>        </div>"
      ]
     },
     "metadata": {},
     "output_type": "display_data"
    },
    {
     "data": {
      "application/vnd.plotly.v1+json": {
       "config": {
        "plotlyServerURL": "https://plot.ly"
       },
       "data": [
        {
         "branchvalues": "total",
         "domain": {
          "x": [
           0,
           1
          ],
          "y": [
           0,
           1
          ]
         },
         "hovertemplate": "labels=%{label}<br>Exposição Financeira=%{value}<br>parent=%{parent}<br>id=%{id}<extra></extra>",
         "ids": [
          "Vale a Pena Zerar/PETRV238",
          "Vale a Pena Zerar/WEGEV404",
          "Vale a Pena Zerar"
         ],
         "labels": [
          "PETRV238",
          "WEGEV404",
          "Vale a Pena Zerar"
         ],
         "name": "",
         "parents": [
          "Vale a Pena Zerar",
          "Vale a Pena Zerar",
          ""
         ],
         "type": "sunburst",
         "values": [
          134866.66628519696,
          68279.99877929688,
          203146.66506449383
         ]
        }
       ],
       "layout": {
        "legend": {
         "tracegroupgap": 0
        },
        "margin": {
         "t": 60
        },
        "template": {
         "data": {
          "bar": [
           {
            "error_x": {
             "color": "#2a3f5f"
            },
            "error_y": {
             "color": "#2a3f5f"
            },
            "marker": {
             "line": {
              "color": "#E5ECF6",
              "width": 0.5
             },
             "pattern": {
              "fillmode": "overlay",
              "size": 10,
              "solidity": 0.2
             }
            },
            "type": "bar"
           }
          ],
          "barpolar": [
           {
            "marker": {
             "line": {
              "color": "#E5ECF6",
              "width": 0.5
             },
             "pattern": {
              "fillmode": "overlay",
              "size": 10,
              "solidity": 0.2
             }
            },
            "type": "barpolar"
           }
          ],
          "carpet": [
           {
            "aaxis": {
             "endlinecolor": "#2a3f5f",
             "gridcolor": "white",
             "linecolor": "white",
             "minorgridcolor": "white",
             "startlinecolor": "#2a3f5f"
            },
            "baxis": {
             "endlinecolor": "#2a3f5f",
             "gridcolor": "white",
             "linecolor": "white",
             "minorgridcolor": "white",
             "startlinecolor": "#2a3f5f"
            },
            "type": "carpet"
           }
          ],
          "choropleth": [
           {
            "colorbar": {
             "outlinewidth": 0,
             "ticks": ""
            },
            "type": "choropleth"
           }
          ],
          "contour": [
           {
            "colorbar": {
             "outlinewidth": 0,
             "ticks": ""
            },
            "colorscale": [
             [
              0,
              "#0d0887"
             ],
             [
              0.1111111111111111,
              "#46039f"
             ],
             [
              0.2222222222222222,
              "#7201a8"
             ],
             [
              0.3333333333333333,
              "#9c179e"
             ],
             [
              0.4444444444444444,
              "#bd3786"
             ],
             [
              0.5555555555555556,
              "#d8576b"
             ],
             [
              0.6666666666666666,
              "#ed7953"
             ],
             [
              0.7777777777777778,
              "#fb9f3a"
             ],
             [
              0.8888888888888888,
              "#fdca26"
             ],
             [
              1,
              "#f0f921"
             ]
            ],
            "type": "contour"
           }
          ],
          "contourcarpet": [
           {
            "colorbar": {
             "outlinewidth": 0,
             "ticks": ""
            },
            "type": "contourcarpet"
           }
          ],
          "heatmap": [
           {
            "colorbar": {
             "outlinewidth": 0,
             "ticks": ""
            },
            "colorscale": [
             [
              0,
              "#0d0887"
             ],
             [
              0.1111111111111111,
              "#46039f"
             ],
             [
              0.2222222222222222,
              "#7201a8"
             ],
             [
              0.3333333333333333,
              "#9c179e"
             ],
             [
              0.4444444444444444,
              "#bd3786"
             ],
             [
              0.5555555555555556,
              "#d8576b"
             ],
             [
              0.6666666666666666,
              "#ed7953"
             ],
             [
              0.7777777777777778,
              "#fb9f3a"
             ],
             [
              0.8888888888888888,
              "#fdca26"
             ],
             [
              1,
              "#f0f921"
             ]
            ],
            "type": "heatmap"
           }
          ],
          "heatmapgl": [
           {
            "colorbar": {
             "outlinewidth": 0,
             "ticks": ""
            },
            "colorscale": [
             [
              0,
              "#0d0887"
             ],
             [
              0.1111111111111111,
              "#46039f"
             ],
             [
              0.2222222222222222,
              "#7201a8"
             ],
             [
              0.3333333333333333,
              "#9c179e"
             ],
             [
              0.4444444444444444,
              "#bd3786"
             ],
             [
              0.5555555555555556,
              "#d8576b"
             ],
             [
              0.6666666666666666,
              "#ed7953"
             ],
             [
              0.7777777777777778,
              "#fb9f3a"
             ],
             [
              0.8888888888888888,
              "#fdca26"
             ],
             [
              1,
              "#f0f921"
             ]
            ],
            "type": "heatmapgl"
           }
          ],
          "histogram": [
           {
            "marker": {
             "pattern": {
              "fillmode": "overlay",
              "size": 10,
              "solidity": 0.2
             }
            },
            "type": "histogram"
           }
          ],
          "histogram2d": [
           {
            "colorbar": {
             "outlinewidth": 0,
             "ticks": ""
            },
            "colorscale": [
             [
              0,
              "#0d0887"
             ],
             [
              0.1111111111111111,
              "#46039f"
             ],
             [
              0.2222222222222222,
              "#7201a8"
             ],
             [
              0.3333333333333333,
              "#9c179e"
             ],
             [
              0.4444444444444444,
              "#bd3786"
             ],
             [
              0.5555555555555556,
              "#d8576b"
             ],
             [
              0.6666666666666666,
              "#ed7953"
             ],
             [
              0.7777777777777778,
              "#fb9f3a"
             ],
             [
              0.8888888888888888,
              "#fdca26"
             ],
             [
              1,
              "#f0f921"
             ]
            ],
            "type": "histogram2d"
           }
          ],
          "histogram2dcontour": [
           {
            "colorbar": {
             "outlinewidth": 0,
             "ticks": ""
            },
            "colorscale": [
             [
              0,
              "#0d0887"
             ],
             [
              0.1111111111111111,
              "#46039f"
             ],
             [
              0.2222222222222222,
              "#7201a8"
             ],
             [
              0.3333333333333333,
              "#9c179e"
             ],
             [
              0.4444444444444444,
              "#bd3786"
             ],
             [
              0.5555555555555556,
              "#d8576b"
             ],
             [
              0.6666666666666666,
              "#ed7953"
             ],
             [
              0.7777777777777778,
              "#fb9f3a"
             ],
             [
              0.8888888888888888,
              "#fdca26"
             ],
             [
              1,
              "#f0f921"
             ]
            ],
            "type": "histogram2dcontour"
           }
          ],
          "mesh3d": [
           {
            "colorbar": {
             "outlinewidth": 0,
             "ticks": ""
            },
            "type": "mesh3d"
           }
          ],
          "parcoords": [
           {
            "line": {
             "colorbar": {
              "outlinewidth": 0,
              "ticks": ""
             }
            },
            "type": "parcoords"
           }
          ],
          "pie": [
           {
            "automargin": true,
            "type": "pie"
           }
          ],
          "scatter": [
           {
            "marker": {
             "colorbar": {
              "outlinewidth": 0,
              "ticks": ""
             }
            },
            "type": "scatter"
           }
          ],
          "scatter3d": [
           {
            "line": {
             "colorbar": {
              "outlinewidth": 0,
              "ticks": ""
             }
            },
            "marker": {
             "colorbar": {
              "outlinewidth": 0,
              "ticks": ""
             }
            },
            "type": "scatter3d"
           }
          ],
          "scattercarpet": [
           {
            "marker": {
             "colorbar": {
              "outlinewidth": 0,
              "ticks": ""
             }
            },
            "type": "scattercarpet"
           }
          ],
          "scattergeo": [
           {
            "marker": {
             "colorbar": {
              "outlinewidth": 0,
              "ticks": ""
             }
            },
            "type": "scattergeo"
           }
          ],
          "scattergl": [
           {
            "marker": {
             "colorbar": {
              "outlinewidth": 0,
              "ticks": ""
             }
            },
            "type": "scattergl"
           }
          ],
          "scattermapbox": [
           {
            "marker": {
             "colorbar": {
              "outlinewidth": 0,
              "ticks": ""
             }
            },
            "type": "scattermapbox"
           }
          ],
          "scatterpolar": [
           {
            "marker": {
             "colorbar": {
              "outlinewidth": 0,
              "ticks": ""
             }
            },
            "type": "scatterpolar"
           }
          ],
          "scatterpolargl": [
           {
            "marker": {
             "colorbar": {
              "outlinewidth": 0,
              "ticks": ""
             }
            },
            "type": "scatterpolargl"
           }
          ],
          "scatterternary": [
           {
            "marker": {
             "colorbar": {
              "outlinewidth": 0,
              "ticks": ""
             }
            },
            "type": "scatterternary"
           }
          ],
          "surface": [
           {
            "colorbar": {
             "outlinewidth": 0,
             "ticks": ""
            },
            "colorscale": [
             [
              0,
              "#0d0887"
             ],
             [
              0.1111111111111111,
              "#46039f"
             ],
             [
              0.2222222222222222,
              "#7201a8"
             ],
             [
              0.3333333333333333,
              "#9c179e"
             ],
             [
              0.4444444444444444,
              "#bd3786"
             ],
             [
              0.5555555555555556,
              "#d8576b"
             ],
             [
              0.6666666666666666,
              "#ed7953"
             ],
             [
              0.7777777777777778,
              "#fb9f3a"
             ],
             [
              0.8888888888888888,
              "#fdca26"
             ],
             [
              1,
              "#f0f921"
             ]
            ],
            "type": "surface"
           }
          ],
          "table": [
           {
            "cells": {
             "fill": {
              "color": "#EBF0F8"
             },
             "line": {
              "color": "white"
             }
            },
            "header": {
             "fill": {
              "color": "#C8D4E3"
             },
             "line": {
              "color": "white"
             }
            },
            "type": "table"
           }
          ]
         },
         "layout": {
          "annotationdefaults": {
           "arrowcolor": "#2a3f5f",
           "arrowhead": 0,
           "arrowwidth": 1
          },
          "autotypenumbers": "strict",
          "coloraxis": {
           "colorbar": {
            "outlinewidth": 0,
            "ticks": ""
           }
          },
          "colorscale": {
           "diverging": [
            [
             0,
             "#8e0152"
            ],
            [
             0.1,
             "#c51b7d"
            ],
            [
             0.2,
             "#de77ae"
            ],
            [
             0.3,
             "#f1b6da"
            ],
            [
             0.4,
             "#fde0ef"
            ],
            [
             0.5,
             "#f7f7f7"
            ],
            [
             0.6,
             "#e6f5d0"
            ],
            [
             0.7,
             "#b8e186"
            ],
            [
             0.8,
             "#7fbc41"
            ],
            [
             0.9,
             "#4d9221"
            ],
            [
             1,
             "#276419"
            ]
           ],
           "sequential": [
            [
             0,
             "#0d0887"
            ],
            [
             0.1111111111111111,
             "#46039f"
            ],
            [
             0.2222222222222222,
             "#7201a8"
            ],
            [
             0.3333333333333333,
             "#9c179e"
            ],
            [
             0.4444444444444444,
             "#bd3786"
            ],
            [
             0.5555555555555556,
             "#d8576b"
            ],
            [
             0.6666666666666666,
             "#ed7953"
            ],
            [
             0.7777777777777778,
             "#fb9f3a"
            ],
            [
             0.8888888888888888,
             "#fdca26"
            ],
            [
             1,
             "#f0f921"
            ]
           ],
           "sequentialminus": [
            [
             0,
             "#0d0887"
            ],
            [
             0.1111111111111111,
             "#46039f"
            ],
            [
             0.2222222222222222,
             "#7201a8"
            ],
            [
             0.3333333333333333,
             "#9c179e"
            ],
            [
             0.4444444444444444,
             "#bd3786"
            ],
            [
             0.5555555555555556,
             "#d8576b"
            ],
            [
             0.6666666666666666,
             "#ed7953"
            ],
            [
             0.7777777777777778,
             "#fb9f3a"
            ],
            [
             0.8888888888888888,
             "#fdca26"
            ],
            [
             1,
             "#f0f921"
            ]
           ]
          },
          "colorway": [
           "#636efa",
           "#EF553B",
           "#00cc96",
           "#ab63fa",
           "#FFA15A",
           "#19d3f3",
           "#FF6692",
           "#B6E880",
           "#FF97FF",
           "#FECB52"
          ],
          "font": {
           "color": "#2a3f5f"
          },
          "geo": {
           "bgcolor": "white",
           "lakecolor": "white",
           "landcolor": "#E5ECF6",
           "showlakes": true,
           "showland": true,
           "subunitcolor": "white"
          },
          "hoverlabel": {
           "align": "left"
          },
          "hovermode": "closest",
          "mapbox": {
           "style": "light"
          },
          "paper_bgcolor": "white",
          "plot_bgcolor": "#E5ECF6",
          "polar": {
           "angularaxis": {
            "gridcolor": "white",
            "linecolor": "white",
            "ticks": ""
           },
           "bgcolor": "#E5ECF6",
           "radialaxis": {
            "gridcolor": "white",
            "linecolor": "white",
            "ticks": ""
           }
          },
          "scene": {
           "xaxis": {
            "backgroundcolor": "#E5ECF6",
            "gridcolor": "white",
            "gridwidth": 2,
            "linecolor": "white",
            "showbackground": true,
            "ticks": "",
            "zerolinecolor": "white"
           },
           "yaxis": {
            "backgroundcolor": "#E5ECF6",
            "gridcolor": "white",
            "gridwidth": 2,
            "linecolor": "white",
            "showbackground": true,
            "ticks": "",
            "zerolinecolor": "white"
           },
           "zaxis": {
            "backgroundcolor": "#E5ECF6",
            "gridcolor": "white",
            "gridwidth": 2,
            "linecolor": "white",
            "showbackground": true,
            "ticks": "",
            "zerolinecolor": "white"
           }
          },
          "shapedefaults": {
           "line": {
            "color": "#2a3f5f"
           }
          },
          "ternary": {
           "aaxis": {
            "gridcolor": "white",
            "linecolor": "white",
            "ticks": ""
           },
           "baxis": {
            "gridcolor": "white",
            "linecolor": "white",
            "ticks": ""
           },
           "bgcolor": "#E5ECF6",
           "caxis": {
            "gridcolor": "white",
            "linecolor": "white",
            "ticks": ""
           }
          },
          "title": {
           "x": 0.05
          },
          "xaxis": {
           "automargin": true,
           "gridcolor": "white",
           "linecolor": "white",
           "ticks": "",
           "title": {
            "standoff": 15
           },
           "zerolinecolor": "white",
           "zerolinewidth": 2
          },
          "yaxis": {
           "automargin": true,
           "gridcolor": "white",
           "linecolor": "white",
           "ticks": "",
           "title": {
            "standoff": 15
           },
           "zerolinecolor": "white",
           "zerolinewidth": 2
          }
         }
        }
       }
      },
      "text/html": [
       "<div>                            <div id=\"322feb5e-d428-46f4-b176-d3cdadcea48e\" class=\"plotly-graph-div\" style=\"height:525px; width:100%;\"></div>            <script type=\"text/javascript\">                require([\"plotly\"], function(Plotly) {                    window.PLOTLYENV=window.PLOTLYENV || {};                                    if (document.getElementById(\"322feb5e-d428-46f4-b176-d3cdadcea48e\")) {                    Plotly.newPlot(                        \"322feb5e-d428-46f4-b176-d3cdadcea48e\",                        [{\"branchvalues\":\"total\",\"domain\":{\"x\":[0.0,1.0],\"y\":[0.0,1.0]},\"hovertemplate\":\"labels=%{label}<br>Exposi\\u00e7\\u00e3o Financeira=%{value}<br>parent=%{parent}<br>id=%{id}<extra></extra>\",\"ids\":[\"Vale a Pena Zerar/PETRV238\",\"Vale a Pena Zerar/WEGEV404\",\"Vale a Pena Zerar\"],\"labels\":[\"PETRV238\",\"WEGEV404\",\"Vale a Pena Zerar\"],\"name\":\"\",\"parents\":[\"Vale a Pena Zerar\",\"Vale a Pena Zerar\",\"\"],\"type\":\"sunburst\",\"values\":[134866.66628519696,68279.99877929688,203146.66506449383]}],                        {\"legend\":{\"tracegroupgap\":0},\"margin\":{\"t\":60},\"template\":{\"data\":{\"bar\":[{\"error_x\":{\"color\":\"#2a3f5f\"},\"error_y\":{\"color\":\"#2a3f5f\"},\"marker\":{\"line\":{\"color\":\"#E5ECF6\",\"width\":0.5},\"pattern\":{\"fillmode\":\"overlay\",\"size\":10,\"solidity\":0.2}},\"type\":\"bar\"}],\"barpolar\":[{\"marker\":{\"line\":{\"color\":\"#E5ECF6\",\"width\":0.5},\"pattern\":{\"fillmode\":\"overlay\",\"size\":10,\"solidity\":0.2}},\"type\":\"barpolar\"}],\"carpet\":[{\"aaxis\":{\"endlinecolor\":\"#2a3f5f\",\"gridcolor\":\"white\",\"linecolor\":\"white\",\"minorgridcolor\":\"white\",\"startlinecolor\":\"#2a3f5f\"},\"baxis\":{\"endlinecolor\":\"#2a3f5f\",\"gridcolor\":\"white\",\"linecolor\":\"white\",\"minorgridcolor\":\"white\",\"startlinecolor\":\"#2a3f5f\"},\"type\":\"carpet\"}],\"choropleth\":[{\"colorbar\":{\"outlinewidth\":0,\"ticks\":\"\"},\"type\":\"choropleth\"}],\"contour\":[{\"colorbar\":{\"outlinewidth\":0,\"ticks\":\"\"},\"colorscale\":[[0.0,\"#0d0887\"],[0.1111111111111111,\"#46039f\"],[0.2222222222222222,\"#7201a8\"],[0.3333333333333333,\"#9c179e\"],[0.4444444444444444,\"#bd3786\"],[0.5555555555555556,\"#d8576b\"],[0.6666666666666666,\"#ed7953\"],[0.7777777777777778,\"#fb9f3a\"],[0.8888888888888888,\"#fdca26\"],[1.0,\"#f0f921\"]],\"type\":\"contour\"}],\"contourcarpet\":[{\"colorbar\":{\"outlinewidth\":0,\"ticks\":\"\"},\"type\":\"contourcarpet\"}],\"heatmap\":[{\"colorbar\":{\"outlinewidth\":0,\"ticks\":\"\"},\"colorscale\":[[0.0,\"#0d0887\"],[0.1111111111111111,\"#46039f\"],[0.2222222222222222,\"#7201a8\"],[0.3333333333333333,\"#9c179e\"],[0.4444444444444444,\"#bd3786\"],[0.5555555555555556,\"#d8576b\"],[0.6666666666666666,\"#ed7953\"],[0.7777777777777778,\"#fb9f3a\"],[0.8888888888888888,\"#fdca26\"],[1.0,\"#f0f921\"]],\"type\":\"heatmap\"}],\"heatmapgl\":[{\"colorbar\":{\"outlinewidth\":0,\"ticks\":\"\"},\"colorscale\":[[0.0,\"#0d0887\"],[0.1111111111111111,\"#46039f\"],[0.2222222222222222,\"#7201a8\"],[0.3333333333333333,\"#9c179e\"],[0.4444444444444444,\"#bd3786\"],[0.5555555555555556,\"#d8576b\"],[0.6666666666666666,\"#ed7953\"],[0.7777777777777778,\"#fb9f3a\"],[0.8888888888888888,\"#fdca26\"],[1.0,\"#f0f921\"]],\"type\":\"heatmapgl\"}],\"histogram\":[{\"marker\":{\"pattern\":{\"fillmode\":\"overlay\",\"size\":10,\"solidity\":0.2}},\"type\":\"histogram\"}],\"histogram2d\":[{\"colorbar\":{\"outlinewidth\":0,\"ticks\":\"\"},\"colorscale\":[[0.0,\"#0d0887\"],[0.1111111111111111,\"#46039f\"],[0.2222222222222222,\"#7201a8\"],[0.3333333333333333,\"#9c179e\"],[0.4444444444444444,\"#bd3786\"],[0.5555555555555556,\"#d8576b\"],[0.6666666666666666,\"#ed7953\"],[0.7777777777777778,\"#fb9f3a\"],[0.8888888888888888,\"#fdca26\"],[1.0,\"#f0f921\"]],\"type\":\"histogram2d\"}],\"histogram2dcontour\":[{\"colorbar\":{\"outlinewidth\":0,\"ticks\":\"\"},\"colorscale\":[[0.0,\"#0d0887\"],[0.1111111111111111,\"#46039f\"],[0.2222222222222222,\"#7201a8\"],[0.3333333333333333,\"#9c179e\"],[0.4444444444444444,\"#bd3786\"],[0.5555555555555556,\"#d8576b\"],[0.6666666666666666,\"#ed7953\"],[0.7777777777777778,\"#fb9f3a\"],[0.8888888888888888,\"#fdca26\"],[1.0,\"#f0f921\"]],\"type\":\"histogram2dcontour\"}],\"mesh3d\":[{\"colorbar\":{\"outlinewidth\":0,\"ticks\":\"\"},\"type\":\"mesh3d\"}],\"parcoords\":[{\"line\":{\"colorbar\":{\"outlinewidth\":0,\"ticks\":\"\"}},\"type\":\"parcoords\"}],\"pie\":[{\"automargin\":true,\"type\":\"pie\"}],\"scatter\":[{\"marker\":{\"colorbar\":{\"outlinewidth\":0,\"ticks\":\"\"}},\"type\":\"scatter\"}],\"scatter3d\":[{\"line\":{\"colorbar\":{\"outlinewidth\":0,\"ticks\":\"\"}},\"marker\":{\"colorbar\":{\"outlinewidth\":0,\"ticks\":\"\"}},\"type\":\"scatter3d\"}],\"scattercarpet\":[{\"marker\":{\"colorbar\":{\"outlinewidth\":0,\"ticks\":\"\"}},\"type\":\"scattercarpet\"}],\"scattergeo\":[{\"marker\":{\"colorbar\":{\"outlinewidth\":0,\"ticks\":\"\"}},\"type\":\"scattergeo\"}],\"scattergl\":[{\"marker\":{\"colorbar\":{\"outlinewidth\":0,\"ticks\":\"\"}},\"type\":\"scattergl\"}],\"scattermapbox\":[{\"marker\":{\"colorbar\":{\"outlinewidth\":0,\"ticks\":\"\"}},\"type\":\"scattermapbox\"}],\"scatterpolar\":[{\"marker\":{\"colorbar\":{\"outlinewidth\":0,\"ticks\":\"\"}},\"type\":\"scatterpolar\"}],\"scatterpolargl\":[{\"marker\":{\"colorbar\":{\"outlinewidth\":0,\"ticks\":\"\"}},\"type\":\"scatterpolargl\"}],\"scatterternary\":[{\"marker\":{\"colorbar\":{\"outlinewidth\":0,\"ticks\":\"\"}},\"type\":\"scatterternary\"}],\"surface\":[{\"colorbar\":{\"outlinewidth\":0,\"ticks\":\"\"},\"colorscale\":[[0.0,\"#0d0887\"],[0.1111111111111111,\"#46039f\"],[0.2222222222222222,\"#7201a8\"],[0.3333333333333333,\"#9c179e\"],[0.4444444444444444,\"#bd3786\"],[0.5555555555555556,\"#d8576b\"],[0.6666666666666666,\"#ed7953\"],[0.7777777777777778,\"#fb9f3a\"],[0.8888888888888888,\"#fdca26\"],[1.0,\"#f0f921\"]],\"type\":\"surface\"}],\"table\":[{\"cells\":{\"fill\":{\"color\":\"#EBF0F8\"},\"line\":{\"color\":\"white\"}},\"header\":{\"fill\":{\"color\":\"#C8D4E3\"},\"line\":{\"color\":\"white\"}},\"type\":\"table\"}]},\"layout\":{\"annotationdefaults\":{\"arrowcolor\":\"#2a3f5f\",\"arrowhead\":0,\"arrowwidth\":1},\"autotypenumbers\":\"strict\",\"coloraxis\":{\"colorbar\":{\"outlinewidth\":0,\"ticks\":\"\"}},\"colorscale\":{\"diverging\":[[0,\"#8e0152\"],[0.1,\"#c51b7d\"],[0.2,\"#de77ae\"],[0.3,\"#f1b6da\"],[0.4,\"#fde0ef\"],[0.5,\"#f7f7f7\"],[0.6,\"#e6f5d0\"],[0.7,\"#b8e186\"],[0.8,\"#7fbc41\"],[0.9,\"#4d9221\"],[1,\"#276419\"]],\"sequential\":[[0.0,\"#0d0887\"],[0.1111111111111111,\"#46039f\"],[0.2222222222222222,\"#7201a8\"],[0.3333333333333333,\"#9c179e\"],[0.4444444444444444,\"#bd3786\"],[0.5555555555555556,\"#d8576b\"],[0.6666666666666666,\"#ed7953\"],[0.7777777777777778,\"#fb9f3a\"],[0.8888888888888888,\"#fdca26\"],[1.0,\"#f0f921\"]],\"sequentialminus\":[[0.0,\"#0d0887\"],[0.1111111111111111,\"#46039f\"],[0.2222222222222222,\"#7201a8\"],[0.3333333333333333,\"#9c179e\"],[0.4444444444444444,\"#bd3786\"],[0.5555555555555556,\"#d8576b\"],[0.6666666666666666,\"#ed7953\"],[0.7777777777777778,\"#fb9f3a\"],[0.8888888888888888,\"#fdca26\"],[1.0,\"#f0f921\"]]},\"colorway\":[\"#636efa\",\"#EF553B\",\"#00cc96\",\"#ab63fa\",\"#FFA15A\",\"#19d3f3\",\"#FF6692\",\"#B6E880\",\"#FF97FF\",\"#FECB52\"],\"font\":{\"color\":\"#2a3f5f\"},\"geo\":{\"bgcolor\":\"white\",\"lakecolor\":\"white\",\"landcolor\":\"#E5ECF6\",\"showlakes\":true,\"showland\":true,\"subunitcolor\":\"white\"},\"hoverlabel\":{\"align\":\"left\"},\"hovermode\":\"closest\",\"mapbox\":{\"style\":\"light\"},\"paper_bgcolor\":\"white\",\"plot_bgcolor\":\"#E5ECF6\",\"polar\":{\"angularaxis\":{\"gridcolor\":\"white\",\"linecolor\":\"white\",\"ticks\":\"\"},\"bgcolor\":\"#E5ECF6\",\"radialaxis\":{\"gridcolor\":\"white\",\"linecolor\":\"white\",\"ticks\":\"\"}},\"scene\":{\"xaxis\":{\"backgroundcolor\":\"#E5ECF6\",\"gridcolor\":\"white\",\"gridwidth\":2,\"linecolor\":\"white\",\"showbackground\":true,\"ticks\":\"\",\"zerolinecolor\":\"white\"},\"yaxis\":{\"backgroundcolor\":\"#E5ECF6\",\"gridcolor\":\"white\",\"gridwidth\":2,\"linecolor\":\"white\",\"showbackground\":true,\"ticks\":\"\",\"zerolinecolor\":\"white\"},\"zaxis\":{\"backgroundcolor\":\"#E5ECF6\",\"gridcolor\":\"white\",\"gridwidth\":2,\"linecolor\":\"white\",\"showbackground\":true,\"ticks\":\"\",\"zerolinecolor\":\"white\"}},\"shapedefaults\":{\"line\":{\"color\":\"#2a3f5f\"}},\"ternary\":{\"aaxis\":{\"gridcolor\":\"white\",\"linecolor\":\"white\",\"ticks\":\"\"},\"baxis\":{\"gridcolor\":\"white\",\"linecolor\":\"white\",\"ticks\":\"\"},\"bgcolor\":\"#E5ECF6\",\"caxis\":{\"gridcolor\":\"white\",\"linecolor\":\"white\",\"ticks\":\"\"}},\"title\":{\"x\":0.05},\"xaxis\":{\"automargin\":true,\"gridcolor\":\"white\",\"linecolor\":\"white\",\"ticks\":\"\",\"title\":{\"standoff\":15},\"zerolinecolor\":\"white\",\"zerolinewidth\":2},\"yaxis\":{\"automargin\":true,\"gridcolor\":\"white\",\"linecolor\":\"white\",\"ticks\":\"\",\"title\":{\"standoff\":15},\"zerolinecolor\":\"white\",\"zerolinewidth\":2}}}},                        {\"responsive\": true}                    ).then(function(){\n",
       "                            \n",
       "var gd = document.getElementById('322feb5e-d428-46f4-b176-d3cdadcea48e');\n",
       "var x = new MutationObserver(function (mutations, observer) {{\n",
       "        var display = window.getComputedStyle(gd).display;\n",
       "        if (!display || display === 'none') {{\n",
       "            console.log([gd, 'removed!']);\n",
       "            Plotly.purge(gd);\n",
       "            observer.disconnect();\n",
       "        }}\n",
       "}});\n",
       "\n",
       "// Listen for the removal of the full notebook cells\n",
       "var notebookContainer = gd.closest('#notebook-container');\n",
       "if (notebookContainer) {{\n",
       "    x.observe(notebookContainer, {childList: true});\n",
       "}}\n",
       "\n",
       "// Listen for the clearing of the current output cell\n",
       "var outputEl = gd.closest('.output');\n",
       "if (outputEl) {{\n",
       "    x.observe(outputEl, {childList: true});\n",
       "}}\n",
       "\n",
       "                        })                };                });            </script>        </div>"
      ]
     },
     "metadata": {},
     "output_type": "display_data"
    },
    {
     "data": {
      "application/vnd.plotly.v1+json": {
       "config": {
        "plotlyServerURL": "https://plot.ly"
       },
       "data": [
        {
         "hovertemplate": "<b>%{hovertext}</b><br><br>Ticker Ação=PCAR3<br>Volatilidade(%)=%{x}<br>Lucro ou Prejuízo (%)=%{y}<br>Exposição Financeira=%{marker.size}<br>Ticker=%{text}<extra></extra>",
         "hovertext": [
          "PCARV350",
          "PCARV335"
         ],
         "legendgroup": "PCAR3",
         "marker": {
          "color": "#636efa",
          "size": [
           2453.000030517578,
           2458.000030517578
          ],
          "sizemode": "area",
          "sizeref": 2.103749990463257,
          "symbol": "circle"
         },
         "mode": "markers+text",
         "name": "PCAR3",
         "orientation": "v",
         "showlegend": true,
         "text": [
          "PCARV350",
          "PCARV335"
         ],
         "type": "scatter",
         "x": [
          34,
          34
         ],
         "xaxis": "x",
         "y": [
          -24.714086571021948,
          -21.51029939144935
         ],
         "yaxis": "y"
        },
        {
         "hovertemplate": "<b>%{hovertext}</b><br><br>Ticker Ação=CSNA3<br>Volatilidade(%)=%{x}<br>Lucro ou Prejuízo (%)=%{y}<br>Exposição Financeira=%{marker.size}<br>Ticker=%{text}<extra></extra>",
         "hovertext": [
          "CSNAW347"
         ],
         "legendgroup": "CSNA3",
         "marker": {
          "color": "#EF553B",
          "size": [
           2661.000045776367
          ],
          "sizemode": "area",
          "sizeref": 2.103749990463257,
          "symbol": "circle"
         },
         "mode": "markers+text",
         "name": "CSNA3",
         "orientation": "v",
         "showlegend": true,
         "text": [
          "CSNAW347"
         ],
         "type": "scatter",
         "x": [
          45
         ],
         "xaxis": "x",
         "y": [
          -16.649019886932326
         ],
         "yaxis": "y"
        },
        {
         "hovertemplate": "<b>%{hovertext}</b><br><br>Ticker Ação=LREN3<br>Volatilidade(%)=%{x}<br>Lucro ou Prejuízo (%)=%{y}<br>Exposição Financeira=%{marker.size}<br>Ticker=%{text}<extra></extra>",
         "hovertext": [
          "LRENW365"
         ],
         "legendgroup": "LREN3",
         "marker": {
          "color": "#00cc96",
          "size": [
           3365.999984741211
          ],
          "sizemode": "area",
          "sizeref": 2.103749990463257,
          "symbol": "circle"
         },
         "mode": "markers+text",
         "name": "LREN3",
         "orientation": "v",
         "showlegend": true,
         "text": [
          "LRENW365"
         ],
         "type": "scatter",
         "x": [
          34
         ],
         "xaxis": "x",
         "y": [
          -4.569142347376671
         ],
         "yaxis": "y"
        }
       ],
       "layout": {
        "legend": {
         "itemsizing": "constant",
         "title": {
          "text": "Ticker Ação"
         },
         "tracegroupgap": 0
        },
        "template": {
         "data": {
          "bar": [
           {
            "error_x": {
             "color": "#f2f5fa"
            },
            "error_y": {
             "color": "#f2f5fa"
            },
            "marker": {
             "line": {
              "color": "rgb(17,17,17)",
              "width": 0.5
             },
             "pattern": {
              "fillmode": "overlay",
              "size": 10,
              "solidity": 0.2
             }
            },
            "type": "bar"
           }
          ],
          "barpolar": [
           {
            "marker": {
             "line": {
              "color": "rgb(17,17,17)",
              "width": 0.5
             },
             "pattern": {
              "fillmode": "overlay",
              "size": 10,
              "solidity": 0.2
             }
            },
            "type": "barpolar"
           }
          ],
          "carpet": [
           {
            "aaxis": {
             "endlinecolor": "#A2B1C6",
             "gridcolor": "#506784",
             "linecolor": "#506784",
             "minorgridcolor": "#506784",
             "startlinecolor": "#A2B1C6"
            },
            "baxis": {
             "endlinecolor": "#A2B1C6",
             "gridcolor": "#506784",
             "linecolor": "#506784",
             "minorgridcolor": "#506784",
             "startlinecolor": "#A2B1C6"
            },
            "type": "carpet"
           }
          ],
          "choropleth": [
           {
            "colorbar": {
             "outlinewidth": 0,
             "ticks": ""
            },
            "type": "choropleth"
           }
          ],
          "contour": [
           {
            "colorbar": {
             "outlinewidth": 0,
             "ticks": ""
            },
            "colorscale": [
             [
              0,
              "#0d0887"
             ],
             [
              0.1111111111111111,
              "#46039f"
             ],
             [
              0.2222222222222222,
              "#7201a8"
             ],
             [
              0.3333333333333333,
              "#9c179e"
             ],
             [
              0.4444444444444444,
              "#bd3786"
             ],
             [
              0.5555555555555556,
              "#d8576b"
             ],
             [
              0.6666666666666666,
              "#ed7953"
             ],
             [
              0.7777777777777778,
              "#fb9f3a"
             ],
             [
              0.8888888888888888,
              "#fdca26"
             ],
             [
              1,
              "#f0f921"
             ]
            ],
            "type": "contour"
           }
          ],
          "contourcarpet": [
           {
            "colorbar": {
             "outlinewidth": 0,
             "ticks": ""
            },
            "type": "contourcarpet"
           }
          ],
          "heatmap": [
           {
            "colorbar": {
             "outlinewidth": 0,
             "ticks": ""
            },
            "colorscale": [
             [
              0,
              "#0d0887"
             ],
             [
              0.1111111111111111,
              "#46039f"
             ],
             [
              0.2222222222222222,
              "#7201a8"
             ],
             [
              0.3333333333333333,
              "#9c179e"
             ],
             [
              0.4444444444444444,
              "#bd3786"
             ],
             [
              0.5555555555555556,
              "#d8576b"
             ],
             [
              0.6666666666666666,
              "#ed7953"
             ],
             [
              0.7777777777777778,
              "#fb9f3a"
             ],
             [
              0.8888888888888888,
              "#fdca26"
             ],
             [
              1,
              "#f0f921"
             ]
            ],
            "type": "heatmap"
           }
          ],
          "heatmapgl": [
           {
            "colorbar": {
             "outlinewidth": 0,
             "ticks": ""
            },
            "colorscale": [
             [
              0,
              "#0d0887"
             ],
             [
              0.1111111111111111,
              "#46039f"
             ],
             [
              0.2222222222222222,
              "#7201a8"
             ],
             [
              0.3333333333333333,
              "#9c179e"
             ],
             [
              0.4444444444444444,
              "#bd3786"
             ],
             [
              0.5555555555555556,
              "#d8576b"
             ],
             [
              0.6666666666666666,
              "#ed7953"
             ],
             [
              0.7777777777777778,
              "#fb9f3a"
             ],
             [
              0.8888888888888888,
              "#fdca26"
             ],
             [
              1,
              "#f0f921"
             ]
            ],
            "type": "heatmapgl"
           }
          ],
          "histogram": [
           {
            "marker": {
             "pattern": {
              "fillmode": "overlay",
              "size": 10,
              "solidity": 0.2
             }
            },
            "type": "histogram"
           }
          ],
          "histogram2d": [
           {
            "colorbar": {
             "outlinewidth": 0,
             "ticks": ""
            },
            "colorscale": [
             [
              0,
              "#0d0887"
             ],
             [
              0.1111111111111111,
              "#46039f"
             ],
             [
              0.2222222222222222,
              "#7201a8"
             ],
             [
              0.3333333333333333,
              "#9c179e"
             ],
             [
              0.4444444444444444,
              "#bd3786"
             ],
             [
              0.5555555555555556,
              "#d8576b"
             ],
             [
              0.6666666666666666,
              "#ed7953"
             ],
             [
              0.7777777777777778,
              "#fb9f3a"
             ],
             [
              0.8888888888888888,
              "#fdca26"
             ],
             [
              1,
              "#f0f921"
             ]
            ],
            "type": "histogram2d"
           }
          ],
          "histogram2dcontour": [
           {
            "colorbar": {
             "outlinewidth": 0,
             "ticks": ""
            },
            "colorscale": [
             [
              0,
              "#0d0887"
             ],
             [
              0.1111111111111111,
              "#46039f"
             ],
             [
              0.2222222222222222,
              "#7201a8"
             ],
             [
              0.3333333333333333,
              "#9c179e"
             ],
             [
              0.4444444444444444,
              "#bd3786"
             ],
             [
              0.5555555555555556,
              "#d8576b"
             ],
             [
              0.6666666666666666,
              "#ed7953"
             ],
             [
              0.7777777777777778,
              "#fb9f3a"
             ],
             [
              0.8888888888888888,
              "#fdca26"
             ],
             [
              1,
              "#f0f921"
             ]
            ],
            "type": "histogram2dcontour"
           }
          ],
          "mesh3d": [
           {
            "colorbar": {
             "outlinewidth": 0,
             "ticks": ""
            },
            "type": "mesh3d"
           }
          ],
          "parcoords": [
           {
            "line": {
             "colorbar": {
              "outlinewidth": 0,
              "ticks": ""
             }
            },
            "type": "parcoords"
           }
          ],
          "pie": [
           {
            "automargin": true,
            "type": "pie"
           }
          ],
          "scatter": [
           {
            "marker": {
             "line": {
              "color": "#283442"
             }
            },
            "type": "scatter"
           }
          ],
          "scatter3d": [
           {
            "line": {
             "colorbar": {
              "outlinewidth": 0,
              "ticks": ""
             }
            },
            "marker": {
             "colorbar": {
              "outlinewidth": 0,
              "ticks": ""
             }
            },
            "type": "scatter3d"
           }
          ],
          "scattercarpet": [
           {
            "marker": {
             "colorbar": {
              "outlinewidth": 0,
              "ticks": ""
             }
            },
            "type": "scattercarpet"
           }
          ],
          "scattergeo": [
           {
            "marker": {
             "colorbar": {
              "outlinewidth": 0,
              "ticks": ""
             }
            },
            "type": "scattergeo"
           }
          ],
          "scattergl": [
           {
            "marker": {
             "line": {
              "color": "#283442"
             }
            },
            "type": "scattergl"
           }
          ],
          "scattermapbox": [
           {
            "marker": {
             "colorbar": {
              "outlinewidth": 0,
              "ticks": ""
             }
            },
            "type": "scattermapbox"
           }
          ],
          "scatterpolar": [
           {
            "marker": {
             "colorbar": {
              "outlinewidth": 0,
              "ticks": ""
             }
            },
            "type": "scatterpolar"
           }
          ],
          "scatterpolargl": [
           {
            "marker": {
             "colorbar": {
              "outlinewidth": 0,
              "ticks": ""
             }
            },
            "type": "scatterpolargl"
           }
          ],
          "scatterternary": [
           {
            "marker": {
             "colorbar": {
              "outlinewidth": 0,
              "ticks": ""
             }
            },
            "type": "scatterternary"
           }
          ],
          "surface": [
           {
            "colorbar": {
             "outlinewidth": 0,
             "ticks": ""
            },
            "colorscale": [
             [
              0,
              "#0d0887"
             ],
             [
              0.1111111111111111,
              "#46039f"
             ],
             [
              0.2222222222222222,
              "#7201a8"
             ],
             [
              0.3333333333333333,
              "#9c179e"
             ],
             [
              0.4444444444444444,
              "#bd3786"
             ],
             [
              0.5555555555555556,
              "#d8576b"
             ],
             [
              0.6666666666666666,
              "#ed7953"
             ],
             [
              0.7777777777777778,
              "#fb9f3a"
             ],
             [
              0.8888888888888888,
              "#fdca26"
             ],
             [
              1,
              "#f0f921"
             ]
            ],
            "type": "surface"
           }
          ],
          "table": [
           {
            "cells": {
             "fill": {
              "color": "#506784"
             },
             "line": {
              "color": "rgb(17,17,17)"
             }
            },
            "header": {
             "fill": {
              "color": "#2a3f5f"
             },
             "line": {
              "color": "rgb(17,17,17)"
             }
            },
            "type": "table"
           }
          ]
         },
         "layout": {
          "annotationdefaults": {
           "arrowcolor": "#f2f5fa",
           "arrowhead": 0,
           "arrowwidth": 1
          },
          "autotypenumbers": "strict",
          "coloraxis": {
           "colorbar": {
            "outlinewidth": 0,
            "ticks": ""
           }
          },
          "colorscale": {
           "diverging": [
            [
             0,
             "#8e0152"
            ],
            [
             0.1,
             "#c51b7d"
            ],
            [
             0.2,
             "#de77ae"
            ],
            [
             0.3,
             "#f1b6da"
            ],
            [
             0.4,
             "#fde0ef"
            ],
            [
             0.5,
             "#f7f7f7"
            ],
            [
             0.6,
             "#e6f5d0"
            ],
            [
             0.7,
             "#b8e186"
            ],
            [
             0.8,
             "#7fbc41"
            ],
            [
             0.9,
             "#4d9221"
            ],
            [
             1,
             "#276419"
            ]
           ],
           "sequential": [
            [
             0,
             "#0d0887"
            ],
            [
             0.1111111111111111,
             "#46039f"
            ],
            [
             0.2222222222222222,
             "#7201a8"
            ],
            [
             0.3333333333333333,
             "#9c179e"
            ],
            [
             0.4444444444444444,
             "#bd3786"
            ],
            [
             0.5555555555555556,
             "#d8576b"
            ],
            [
             0.6666666666666666,
             "#ed7953"
            ],
            [
             0.7777777777777778,
             "#fb9f3a"
            ],
            [
             0.8888888888888888,
             "#fdca26"
            ],
            [
             1,
             "#f0f921"
            ]
           ],
           "sequentialminus": [
            [
             0,
             "#0d0887"
            ],
            [
             0.1111111111111111,
             "#46039f"
            ],
            [
             0.2222222222222222,
             "#7201a8"
            ],
            [
             0.3333333333333333,
             "#9c179e"
            ],
            [
             0.4444444444444444,
             "#bd3786"
            ],
            [
             0.5555555555555556,
             "#d8576b"
            ],
            [
             0.6666666666666666,
             "#ed7953"
            ],
            [
             0.7777777777777778,
             "#fb9f3a"
            ],
            [
             0.8888888888888888,
             "#fdca26"
            ],
            [
             1,
             "#f0f921"
            ]
           ]
          },
          "colorway": [
           "#636efa",
           "#EF553B",
           "#00cc96",
           "#ab63fa",
           "#FFA15A",
           "#19d3f3",
           "#FF6692",
           "#B6E880",
           "#FF97FF",
           "#FECB52"
          ],
          "font": {
           "color": "#f2f5fa"
          },
          "geo": {
           "bgcolor": "rgb(17,17,17)",
           "lakecolor": "rgb(17,17,17)",
           "landcolor": "rgb(17,17,17)",
           "showlakes": true,
           "showland": true,
           "subunitcolor": "#506784"
          },
          "hoverlabel": {
           "align": "left"
          },
          "hovermode": "closest",
          "mapbox": {
           "style": "dark"
          },
          "paper_bgcolor": "rgb(17,17,17)",
          "plot_bgcolor": "rgb(17,17,17)",
          "polar": {
           "angularaxis": {
            "gridcolor": "#506784",
            "linecolor": "#506784",
            "ticks": ""
           },
           "bgcolor": "rgb(17,17,17)",
           "radialaxis": {
            "gridcolor": "#506784",
            "linecolor": "#506784",
            "ticks": ""
           }
          },
          "scene": {
           "xaxis": {
            "backgroundcolor": "rgb(17,17,17)",
            "gridcolor": "#506784",
            "gridwidth": 2,
            "linecolor": "#506784",
            "showbackground": true,
            "ticks": "",
            "zerolinecolor": "#C8D4E3"
           },
           "yaxis": {
            "backgroundcolor": "rgb(17,17,17)",
            "gridcolor": "#506784",
            "gridwidth": 2,
            "linecolor": "#506784",
            "showbackground": true,
            "ticks": "",
            "zerolinecolor": "#C8D4E3"
           },
           "zaxis": {
            "backgroundcolor": "rgb(17,17,17)",
            "gridcolor": "#506784",
            "gridwidth": 2,
            "linecolor": "#506784",
            "showbackground": true,
            "ticks": "",
            "zerolinecolor": "#C8D4E3"
           }
          },
          "shapedefaults": {
           "line": {
            "color": "#f2f5fa"
           }
          },
          "sliderdefaults": {
           "bgcolor": "#C8D4E3",
           "bordercolor": "rgb(17,17,17)",
           "borderwidth": 1,
           "tickwidth": 0
          },
          "ternary": {
           "aaxis": {
            "gridcolor": "#506784",
            "linecolor": "#506784",
            "ticks": ""
           },
           "baxis": {
            "gridcolor": "#506784",
            "linecolor": "#506784",
            "ticks": ""
           },
           "bgcolor": "rgb(17,17,17)",
           "caxis": {
            "gridcolor": "#506784",
            "linecolor": "#506784",
            "ticks": ""
           }
          },
          "title": {
           "x": 0.05
          },
          "updatemenudefaults": {
           "bgcolor": "#506784",
           "borderwidth": 0
          },
          "xaxis": {
           "automargin": true,
           "gridcolor": "#283442",
           "linecolor": "#506784",
           "ticks": "",
           "title": {
            "standoff": 15
           },
           "zerolinecolor": "#283442",
           "zerolinewidth": 2
          },
          "yaxis": {
           "automargin": true,
           "gridcolor": "#283442",
           "linecolor": "#506784",
           "ticks": "",
           "title": {
            "standoff": 15
           },
           "zerolinecolor": "#283442",
           "zerolinewidth": 2
          }
         }
        },
        "title": {
         "text": "KAYO (MESA PRIME)"
        },
        "xaxis": {
         "anchor": "y",
         "domain": [
          0,
          1
         ],
         "title": {
          "text": "Volatilidade(%)"
         },
         "type": "log"
        },
        "yaxis": {
         "anchor": "x",
         "domain": [
          0,
          1
         ],
         "title": {
          "text": "Lucro ou Prejuízo (%)"
         }
        }
       }
      },
      "text/html": [
       "<div>                            <div id=\"4e6013c8-aa59-48f7-a3d9-8723a501e654\" class=\"plotly-graph-div\" style=\"height:525px; width:100%;\"></div>            <script type=\"text/javascript\">                require([\"plotly\"], function(Plotly) {                    window.PLOTLYENV=window.PLOTLYENV || {};                                    if (document.getElementById(\"4e6013c8-aa59-48f7-a3d9-8723a501e654\")) {                    Plotly.newPlot(                        \"4e6013c8-aa59-48f7-a3d9-8723a501e654\",                        [{\"hovertemplate\":\"<b>%{hovertext}</b><br><br>Ticker A\\u00e7\\u00e3o=PCAR3<br>Volatilidade(%)=%{x}<br>Lucro ou Preju\\u00edzo (%)=%{y}<br>Exposi\\u00e7\\u00e3o Financeira=%{marker.size}<br>Ticker=%{text}<extra></extra>\",\"hovertext\":[\"PCARV350\",\"PCARV335\"],\"legendgroup\":\"PCAR3\",\"marker\":{\"color\":\"#636efa\",\"size\":[2453.000030517578,2458.000030517578],\"sizemode\":\"area\",\"sizeref\":2.103749990463257,\"symbol\":\"circle\"},\"mode\":\"markers+text\",\"name\":\"PCAR3\",\"orientation\":\"v\",\"showlegend\":true,\"text\":[\"PCARV350\",\"PCARV335\"],\"type\":\"scatter\",\"x\":[34.0,34.0],\"xaxis\":\"x\",\"y\":[-24.714086571021948,-21.51029939144935],\"yaxis\":\"y\"},{\"hovertemplate\":\"<b>%{hovertext}</b><br><br>Ticker A\\u00e7\\u00e3o=CSNA3<br>Volatilidade(%)=%{x}<br>Lucro ou Preju\\u00edzo (%)=%{y}<br>Exposi\\u00e7\\u00e3o Financeira=%{marker.size}<br>Ticker=%{text}<extra></extra>\",\"hovertext\":[\"CSNAW347\"],\"legendgroup\":\"CSNA3\",\"marker\":{\"color\":\"#EF553B\",\"size\":[2661.000045776367],\"sizemode\":\"area\",\"sizeref\":2.103749990463257,\"symbol\":\"circle\"},\"mode\":\"markers+text\",\"name\":\"CSNA3\",\"orientation\":\"v\",\"showlegend\":true,\"text\":[\"CSNAW347\"],\"type\":\"scatter\",\"x\":[45.0],\"xaxis\":\"x\",\"y\":[-16.649019886932326],\"yaxis\":\"y\"},{\"hovertemplate\":\"<b>%{hovertext}</b><br><br>Ticker A\\u00e7\\u00e3o=LREN3<br>Volatilidade(%)=%{x}<br>Lucro ou Preju\\u00edzo (%)=%{y}<br>Exposi\\u00e7\\u00e3o Financeira=%{marker.size}<br>Ticker=%{text}<extra></extra>\",\"hovertext\":[\"LRENW365\"],\"legendgroup\":\"LREN3\",\"marker\":{\"color\":\"#00cc96\",\"size\":[3365.999984741211],\"sizemode\":\"area\",\"sizeref\":2.103749990463257,\"symbol\":\"circle\"},\"mode\":\"markers+text\",\"name\":\"LREN3\",\"orientation\":\"v\",\"showlegend\":true,\"text\":[\"LRENW365\"],\"type\":\"scatter\",\"x\":[34.0],\"xaxis\":\"x\",\"y\":[-4.569142347376671],\"yaxis\":\"y\"}],                        {\"legend\":{\"itemsizing\":\"constant\",\"title\":{\"text\":\"Ticker A\\u00e7\\u00e3o\"},\"tracegroupgap\":0},\"template\":{\"data\":{\"bar\":[{\"error_x\":{\"color\":\"#f2f5fa\"},\"error_y\":{\"color\":\"#f2f5fa\"},\"marker\":{\"line\":{\"color\":\"rgb(17,17,17)\",\"width\":0.5},\"pattern\":{\"fillmode\":\"overlay\",\"size\":10,\"solidity\":0.2}},\"type\":\"bar\"}],\"barpolar\":[{\"marker\":{\"line\":{\"color\":\"rgb(17,17,17)\",\"width\":0.5},\"pattern\":{\"fillmode\":\"overlay\",\"size\":10,\"solidity\":0.2}},\"type\":\"barpolar\"}],\"carpet\":[{\"aaxis\":{\"endlinecolor\":\"#A2B1C6\",\"gridcolor\":\"#506784\",\"linecolor\":\"#506784\",\"minorgridcolor\":\"#506784\",\"startlinecolor\":\"#A2B1C6\"},\"baxis\":{\"endlinecolor\":\"#A2B1C6\",\"gridcolor\":\"#506784\",\"linecolor\":\"#506784\",\"minorgridcolor\":\"#506784\",\"startlinecolor\":\"#A2B1C6\"},\"type\":\"carpet\"}],\"choropleth\":[{\"colorbar\":{\"outlinewidth\":0,\"ticks\":\"\"},\"type\":\"choropleth\"}],\"contour\":[{\"colorbar\":{\"outlinewidth\":0,\"ticks\":\"\"},\"colorscale\":[[0.0,\"#0d0887\"],[0.1111111111111111,\"#46039f\"],[0.2222222222222222,\"#7201a8\"],[0.3333333333333333,\"#9c179e\"],[0.4444444444444444,\"#bd3786\"],[0.5555555555555556,\"#d8576b\"],[0.6666666666666666,\"#ed7953\"],[0.7777777777777778,\"#fb9f3a\"],[0.8888888888888888,\"#fdca26\"],[1.0,\"#f0f921\"]],\"type\":\"contour\"}],\"contourcarpet\":[{\"colorbar\":{\"outlinewidth\":0,\"ticks\":\"\"},\"type\":\"contourcarpet\"}],\"heatmap\":[{\"colorbar\":{\"outlinewidth\":0,\"ticks\":\"\"},\"colorscale\":[[0.0,\"#0d0887\"],[0.1111111111111111,\"#46039f\"],[0.2222222222222222,\"#7201a8\"],[0.3333333333333333,\"#9c179e\"],[0.4444444444444444,\"#bd3786\"],[0.5555555555555556,\"#d8576b\"],[0.6666666666666666,\"#ed7953\"],[0.7777777777777778,\"#fb9f3a\"],[0.8888888888888888,\"#fdca26\"],[1.0,\"#f0f921\"]],\"type\":\"heatmap\"}],\"heatmapgl\":[{\"colorbar\":{\"outlinewidth\":0,\"ticks\":\"\"},\"colorscale\":[[0.0,\"#0d0887\"],[0.1111111111111111,\"#46039f\"],[0.2222222222222222,\"#7201a8\"],[0.3333333333333333,\"#9c179e\"],[0.4444444444444444,\"#bd3786\"],[0.5555555555555556,\"#d8576b\"],[0.6666666666666666,\"#ed7953\"],[0.7777777777777778,\"#fb9f3a\"],[0.8888888888888888,\"#fdca26\"],[1.0,\"#f0f921\"]],\"type\":\"heatmapgl\"}],\"histogram\":[{\"marker\":{\"pattern\":{\"fillmode\":\"overlay\",\"size\":10,\"solidity\":0.2}},\"type\":\"histogram\"}],\"histogram2d\":[{\"colorbar\":{\"outlinewidth\":0,\"ticks\":\"\"},\"colorscale\":[[0.0,\"#0d0887\"],[0.1111111111111111,\"#46039f\"],[0.2222222222222222,\"#7201a8\"],[0.3333333333333333,\"#9c179e\"],[0.4444444444444444,\"#bd3786\"],[0.5555555555555556,\"#d8576b\"],[0.6666666666666666,\"#ed7953\"],[0.7777777777777778,\"#fb9f3a\"],[0.8888888888888888,\"#fdca26\"],[1.0,\"#f0f921\"]],\"type\":\"histogram2d\"}],\"histogram2dcontour\":[{\"colorbar\":{\"outlinewidth\":0,\"ticks\":\"\"},\"colorscale\":[[0.0,\"#0d0887\"],[0.1111111111111111,\"#46039f\"],[0.2222222222222222,\"#7201a8\"],[0.3333333333333333,\"#9c179e\"],[0.4444444444444444,\"#bd3786\"],[0.5555555555555556,\"#d8576b\"],[0.6666666666666666,\"#ed7953\"],[0.7777777777777778,\"#fb9f3a\"],[0.8888888888888888,\"#fdca26\"],[1.0,\"#f0f921\"]],\"type\":\"histogram2dcontour\"}],\"mesh3d\":[{\"colorbar\":{\"outlinewidth\":0,\"ticks\":\"\"},\"type\":\"mesh3d\"}],\"parcoords\":[{\"line\":{\"colorbar\":{\"outlinewidth\":0,\"ticks\":\"\"}},\"type\":\"parcoords\"}],\"pie\":[{\"automargin\":true,\"type\":\"pie\"}],\"scatter\":[{\"marker\":{\"line\":{\"color\":\"#283442\"}},\"type\":\"scatter\"}],\"scatter3d\":[{\"line\":{\"colorbar\":{\"outlinewidth\":0,\"ticks\":\"\"}},\"marker\":{\"colorbar\":{\"outlinewidth\":0,\"ticks\":\"\"}},\"type\":\"scatter3d\"}],\"scattercarpet\":[{\"marker\":{\"colorbar\":{\"outlinewidth\":0,\"ticks\":\"\"}},\"type\":\"scattercarpet\"}],\"scattergeo\":[{\"marker\":{\"colorbar\":{\"outlinewidth\":0,\"ticks\":\"\"}},\"type\":\"scattergeo\"}],\"scattergl\":[{\"marker\":{\"line\":{\"color\":\"#283442\"}},\"type\":\"scattergl\"}],\"scattermapbox\":[{\"marker\":{\"colorbar\":{\"outlinewidth\":0,\"ticks\":\"\"}},\"type\":\"scattermapbox\"}],\"scatterpolar\":[{\"marker\":{\"colorbar\":{\"outlinewidth\":0,\"ticks\":\"\"}},\"type\":\"scatterpolar\"}],\"scatterpolargl\":[{\"marker\":{\"colorbar\":{\"outlinewidth\":0,\"ticks\":\"\"}},\"type\":\"scatterpolargl\"}],\"scatterternary\":[{\"marker\":{\"colorbar\":{\"outlinewidth\":0,\"ticks\":\"\"}},\"type\":\"scatterternary\"}],\"surface\":[{\"colorbar\":{\"outlinewidth\":0,\"ticks\":\"\"},\"colorscale\":[[0.0,\"#0d0887\"],[0.1111111111111111,\"#46039f\"],[0.2222222222222222,\"#7201a8\"],[0.3333333333333333,\"#9c179e\"],[0.4444444444444444,\"#bd3786\"],[0.5555555555555556,\"#d8576b\"],[0.6666666666666666,\"#ed7953\"],[0.7777777777777778,\"#fb9f3a\"],[0.8888888888888888,\"#fdca26\"],[1.0,\"#f0f921\"]],\"type\":\"surface\"}],\"table\":[{\"cells\":{\"fill\":{\"color\":\"#506784\"},\"line\":{\"color\":\"rgb(17,17,17)\"}},\"header\":{\"fill\":{\"color\":\"#2a3f5f\"},\"line\":{\"color\":\"rgb(17,17,17)\"}},\"type\":\"table\"}]},\"layout\":{\"annotationdefaults\":{\"arrowcolor\":\"#f2f5fa\",\"arrowhead\":0,\"arrowwidth\":1},\"autotypenumbers\":\"strict\",\"coloraxis\":{\"colorbar\":{\"outlinewidth\":0,\"ticks\":\"\"}},\"colorscale\":{\"diverging\":[[0,\"#8e0152\"],[0.1,\"#c51b7d\"],[0.2,\"#de77ae\"],[0.3,\"#f1b6da\"],[0.4,\"#fde0ef\"],[0.5,\"#f7f7f7\"],[0.6,\"#e6f5d0\"],[0.7,\"#b8e186\"],[0.8,\"#7fbc41\"],[0.9,\"#4d9221\"],[1,\"#276419\"]],\"sequential\":[[0.0,\"#0d0887\"],[0.1111111111111111,\"#46039f\"],[0.2222222222222222,\"#7201a8\"],[0.3333333333333333,\"#9c179e\"],[0.4444444444444444,\"#bd3786\"],[0.5555555555555556,\"#d8576b\"],[0.6666666666666666,\"#ed7953\"],[0.7777777777777778,\"#fb9f3a\"],[0.8888888888888888,\"#fdca26\"],[1.0,\"#f0f921\"]],\"sequentialminus\":[[0.0,\"#0d0887\"],[0.1111111111111111,\"#46039f\"],[0.2222222222222222,\"#7201a8\"],[0.3333333333333333,\"#9c179e\"],[0.4444444444444444,\"#bd3786\"],[0.5555555555555556,\"#d8576b\"],[0.6666666666666666,\"#ed7953\"],[0.7777777777777778,\"#fb9f3a\"],[0.8888888888888888,\"#fdca26\"],[1.0,\"#f0f921\"]]},\"colorway\":[\"#636efa\",\"#EF553B\",\"#00cc96\",\"#ab63fa\",\"#FFA15A\",\"#19d3f3\",\"#FF6692\",\"#B6E880\",\"#FF97FF\",\"#FECB52\"],\"font\":{\"color\":\"#f2f5fa\"},\"geo\":{\"bgcolor\":\"rgb(17,17,17)\",\"lakecolor\":\"rgb(17,17,17)\",\"landcolor\":\"rgb(17,17,17)\",\"showlakes\":true,\"showland\":true,\"subunitcolor\":\"#506784\"},\"hoverlabel\":{\"align\":\"left\"},\"hovermode\":\"closest\",\"mapbox\":{\"style\":\"dark\"},\"paper_bgcolor\":\"rgb(17,17,17)\",\"plot_bgcolor\":\"rgb(17,17,17)\",\"polar\":{\"angularaxis\":{\"gridcolor\":\"#506784\",\"linecolor\":\"#506784\",\"ticks\":\"\"},\"bgcolor\":\"rgb(17,17,17)\",\"radialaxis\":{\"gridcolor\":\"#506784\",\"linecolor\":\"#506784\",\"ticks\":\"\"}},\"scene\":{\"xaxis\":{\"backgroundcolor\":\"rgb(17,17,17)\",\"gridcolor\":\"#506784\",\"gridwidth\":2,\"linecolor\":\"#506784\",\"showbackground\":true,\"ticks\":\"\",\"zerolinecolor\":\"#C8D4E3\"},\"yaxis\":{\"backgroundcolor\":\"rgb(17,17,17)\",\"gridcolor\":\"#506784\",\"gridwidth\":2,\"linecolor\":\"#506784\",\"showbackground\":true,\"ticks\":\"\",\"zerolinecolor\":\"#C8D4E3\"},\"zaxis\":{\"backgroundcolor\":\"rgb(17,17,17)\",\"gridcolor\":\"#506784\",\"gridwidth\":2,\"linecolor\":\"#506784\",\"showbackground\":true,\"ticks\":\"\",\"zerolinecolor\":\"#C8D4E3\"}},\"shapedefaults\":{\"line\":{\"color\":\"#f2f5fa\"}},\"sliderdefaults\":{\"bgcolor\":\"#C8D4E3\",\"bordercolor\":\"rgb(17,17,17)\",\"borderwidth\":1,\"tickwidth\":0},\"ternary\":{\"aaxis\":{\"gridcolor\":\"#506784\",\"linecolor\":\"#506784\",\"ticks\":\"\"},\"baxis\":{\"gridcolor\":\"#506784\",\"linecolor\":\"#506784\",\"ticks\":\"\"},\"bgcolor\":\"rgb(17,17,17)\",\"caxis\":{\"gridcolor\":\"#506784\",\"linecolor\":\"#506784\",\"ticks\":\"\"}},\"title\":{\"x\":0.05},\"updatemenudefaults\":{\"bgcolor\":\"#506784\",\"borderwidth\":0},\"xaxis\":{\"automargin\":true,\"gridcolor\":\"#283442\",\"linecolor\":\"#506784\",\"ticks\":\"\",\"title\":{\"standoff\":15},\"zerolinecolor\":\"#283442\",\"zerolinewidth\":2},\"yaxis\":{\"automargin\":true,\"gridcolor\":\"#283442\",\"linecolor\":\"#506784\",\"ticks\":\"\",\"title\":{\"standoff\":15},\"zerolinecolor\":\"#283442\",\"zerolinewidth\":2}}},\"title\":{\"text\":\"KAYO (MESA PRIME)\"},\"xaxis\":{\"anchor\":\"y\",\"domain\":[0.0,1.0],\"title\":{\"text\":\"Volatilidade(%)\"},\"type\":\"log\"},\"yaxis\":{\"anchor\":\"x\",\"domain\":[0.0,1.0],\"title\":{\"text\":\"Lucro ou Preju\\u00edzo (%)\"}}},                        {\"responsive\": true}                    ).then(function(){\n",
       "                            \n",
       "var gd = document.getElementById('4e6013c8-aa59-48f7-a3d9-8723a501e654');\n",
       "var x = new MutationObserver(function (mutations, observer) {{\n",
       "        var display = window.getComputedStyle(gd).display;\n",
       "        if (!display || display === 'none') {{\n",
       "            console.log([gd, 'removed!']);\n",
       "            Plotly.purge(gd);\n",
       "            observer.disconnect();\n",
       "        }}\n",
       "}});\n",
       "\n",
       "// Listen for the removal of the full notebook cells\n",
       "var notebookContainer = gd.closest('#notebook-container');\n",
       "if (notebookContainer) {{\n",
       "    x.observe(notebookContainer, {childList: true});\n",
       "}}\n",
       "\n",
       "// Listen for the clearing of the current output cell\n",
       "var outputEl = gd.closest('.output');\n",
       "if (outputEl) {{\n",
       "    x.observe(outputEl, {childList: true});\n",
       "}}\n",
       "\n",
       "                        })                };                });            </script>        </div>"
      ]
     },
     "metadata": {},
     "output_type": "display_data"
    },
    {
     "ename": "KeyError",
     "evalue": "'Ticker_path_copy'",
     "output_type": "error",
     "traceback": [
      "\u001b[1;31m---------------------------------------------------------------------------\u001b[0m",
      "\u001b[1;31mKeyError\u001b[0m                                  Traceback (most recent call last)",
      "\u001b[1;32m~\\Anaconda3\\lib\\site-packages\\pandas\\core\\indexes\\base.py\u001b[0m in \u001b[0;36mget_loc\u001b[1;34m(self, key, method, tolerance)\u001b[0m\n\u001b[0;32m   3079\u001b[0m             \u001b[1;32mtry\u001b[0m\u001b[1;33m:\u001b[0m\u001b[1;33m\u001b[0m\u001b[1;33m\u001b[0m\u001b[0m\n\u001b[1;32m-> 3080\u001b[1;33m                 \u001b[1;32mreturn\u001b[0m \u001b[0mself\u001b[0m\u001b[1;33m.\u001b[0m\u001b[0m_engine\u001b[0m\u001b[1;33m.\u001b[0m\u001b[0mget_loc\u001b[0m\u001b[1;33m(\u001b[0m\u001b[0mcasted_key\u001b[0m\u001b[1;33m)\u001b[0m\u001b[1;33m\u001b[0m\u001b[1;33m\u001b[0m\u001b[0m\n\u001b[0m\u001b[0;32m   3081\u001b[0m             \u001b[1;32mexcept\u001b[0m \u001b[0mKeyError\u001b[0m \u001b[1;32mas\u001b[0m \u001b[0merr\u001b[0m\u001b[1;33m:\u001b[0m\u001b[1;33m\u001b[0m\u001b[1;33m\u001b[0m\u001b[0m\n",
      "\u001b[1;32mpandas\\_libs\\index.pyx\u001b[0m in \u001b[0;36mpandas._libs.index.IndexEngine.get_loc\u001b[1;34m()\u001b[0m\n",
      "\u001b[1;32mpandas\\_libs\\index.pyx\u001b[0m in \u001b[0;36mpandas._libs.index.IndexEngine.get_loc\u001b[1;34m()\u001b[0m\n",
      "\u001b[1;32mpandas\\_libs\\hashtable_class_helper.pxi\u001b[0m in \u001b[0;36mpandas._libs.hashtable.PyObjectHashTable.get_item\u001b[1;34m()\u001b[0m\n",
      "\u001b[1;32mpandas\\_libs\\hashtable_class_helper.pxi\u001b[0m in \u001b[0;36mpandas._libs.hashtable.PyObjectHashTable.get_item\u001b[1;34m()\u001b[0m\n",
      "\u001b[1;31mKeyError\u001b[0m: 'Ticker_path_copy'",
      "\nThe above exception was the direct cause of the following exception:\n",
      "\u001b[1;31mKeyError\u001b[0m                                  Traceback (most recent call last)",
      "\u001b[1;32m<ipython-input-33-1d95584671db>\u001b[0m in \u001b[0;36m<module>\u001b[1;34m\u001b[0m\n\u001b[0;32m      8\u001b[0m     \u001b[0mfig\u001b[0m\u001b[1;33m.\u001b[0m\u001b[0mshow\u001b[0m\u001b[1;33m(\u001b[0m\u001b[1;33m)\u001b[0m\u001b[1;33m\u001b[0m\u001b[1;33m\u001b[0m\u001b[0m\n\u001b[0;32m      9\u001b[0m \u001b[1;33m\u001b[0m\u001b[0m\n\u001b[1;32m---> 10\u001b[1;33m     \u001b[0mfig\u001b[0m \u001b[1;33m=\u001b[0m \u001b[0mpx\u001b[0m\u001b[1;33m.\u001b[0m\u001b[0msunburst\u001b[0m\u001b[1;33m(\u001b[0m\u001b[0mdf\u001b[0m\u001b[1;33m[\u001b[0m\u001b[0mdf\u001b[0m\u001b[1;33m[\u001b[0m\u001b[1;34m'Situação'\u001b[0m\u001b[1;33m]\u001b[0m\u001b[1;33m==\u001b[0m\u001b[1;34m'Vale a Pena Zerar'\u001b[0m\u001b[1;33m]\u001b[0m\u001b[1;33m,\u001b[0m \u001b[0mpath\u001b[0m\u001b[1;33m=\u001b[0m\u001b[1;33m[\u001b[0m\u001b[1;34m'Situação'\u001b[0m\u001b[1;33m,\u001b[0m\u001b[1;34m'Ticker'\u001b[0m\u001b[1;33m]\u001b[0m\u001b[1;33m,\u001b[0m \u001b[0mvalues\u001b[0m\u001b[1;33m=\u001b[0m\u001b[1;34m'Exposição Financeira'\u001b[0m\u001b[1;33m)\u001b[0m\u001b[1;33m\u001b[0m\u001b[1;33m\u001b[0m\u001b[0m\n\u001b[0m\u001b[0;32m     11\u001b[0m     \u001b[0mfig\u001b[0m\u001b[1;33m.\u001b[0m\u001b[0mshow\u001b[0m\u001b[1;33m(\u001b[0m\u001b[1;33m)\u001b[0m\u001b[1;33m\u001b[0m\u001b[1;33m\u001b[0m\u001b[0m\n",
      "\u001b[1;32m~\\Anaconda3\\lib\\site-packages\\plotly\\express\\_chart_types.py\u001b[0m in \u001b[0;36msunburst\u001b[1;34m(data_frame, names, values, parents, path, ids, color, color_continuous_scale, range_color, color_continuous_midpoint, color_discrete_sequence, color_discrete_map, hover_name, hover_data, custom_data, labels, title, template, width, height, branchvalues, maxdepth)\u001b[0m\n\u001b[0;32m   1515\u001b[0m     \u001b[1;32mif\u001b[0m \u001b[0mpath\u001b[0m \u001b[1;32mis\u001b[0m \u001b[1;32mnot\u001b[0m \u001b[1;32mNone\u001b[0m \u001b[1;32mand\u001b[0m \u001b[0mbranchvalues\u001b[0m \u001b[1;32mis\u001b[0m \u001b[1;32mNone\u001b[0m\u001b[1;33m:\u001b[0m\u001b[1;33m\u001b[0m\u001b[1;33m\u001b[0m\u001b[0m\n\u001b[0;32m   1516\u001b[0m         \u001b[0mbranchvalues\u001b[0m \u001b[1;33m=\u001b[0m \u001b[1;34m\"total\"\u001b[0m\u001b[1;33m\u001b[0m\u001b[1;33m\u001b[0m\u001b[0m\n\u001b[1;32m-> 1517\u001b[1;33m     return make_figure(\n\u001b[0m\u001b[0;32m   1518\u001b[0m         \u001b[0margs\u001b[0m\u001b[1;33m=\u001b[0m\u001b[0mlocals\u001b[0m\u001b[1;33m(\u001b[0m\u001b[1;33m)\u001b[0m\u001b[1;33m,\u001b[0m\u001b[1;33m\u001b[0m\u001b[1;33m\u001b[0m\u001b[0m\n\u001b[0;32m   1519\u001b[0m         \u001b[0mconstructor\u001b[0m\u001b[1;33m=\u001b[0m\u001b[0mgo\u001b[0m\u001b[1;33m.\u001b[0m\u001b[0mSunburst\u001b[0m\u001b[1;33m,\u001b[0m\u001b[1;33m\u001b[0m\u001b[1;33m\u001b[0m\u001b[0m\n",
      "\u001b[1;32m~\\Anaconda3\\lib\\site-packages\\plotly\\express\\_core.py\u001b[0m in \u001b[0;36mmake_figure\u001b[1;34m(args, constructor, trace_patch, layout_patch)\u001b[0m\n\u001b[0;32m   1933\u001b[0m     \u001b[0margs\u001b[0m \u001b[1;33m=\u001b[0m \u001b[0mbuild_dataframe\u001b[0m\u001b[1;33m(\u001b[0m\u001b[0margs\u001b[0m\u001b[1;33m,\u001b[0m \u001b[0mconstructor\u001b[0m\u001b[1;33m)\u001b[0m\u001b[1;33m\u001b[0m\u001b[1;33m\u001b[0m\u001b[0m\n\u001b[0;32m   1934\u001b[0m     \u001b[1;32mif\u001b[0m \u001b[0mconstructor\u001b[0m \u001b[1;32min\u001b[0m \u001b[1;33m[\u001b[0m\u001b[0mgo\u001b[0m\u001b[1;33m.\u001b[0m\u001b[0mTreemap\u001b[0m\u001b[1;33m,\u001b[0m \u001b[0mgo\u001b[0m\u001b[1;33m.\u001b[0m\u001b[0mSunburst\u001b[0m\u001b[1;33m,\u001b[0m \u001b[0mgo\u001b[0m\u001b[1;33m.\u001b[0m\u001b[0mIcicle\u001b[0m\u001b[1;33m]\u001b[0m \u001b[1;32mand\u001b[0m \u001b[0margs\u001b[0m\u001b[1;33m[\u001b[0m\u001b[1;34m\"path\"\u001b[0m\u001b[1;33m]\u001b[0m \u001b[1;32mis\u001b[0m \u001b[1;32mnot\u001b[0m \u001b[1;32mNone\u001b[0m\u001b[1;33m:\u001b[0m\u001b[1;33m\u001b[0m\u001b[1;33m\u001b[0m\u001b[0m\n\u001b[1;32m-> 1935\u001b[1;33m         \u001b[0margs\u001b[0m \u001b[1;33m=\u001b[0m \u001b[0mprocess_dataframe_hierarchy\u001b[0m\u001b[1;33m(\u001b[0m\u001b[0margs\u001b[0m\u001b[1;33m)\u001b[0m\u001b[1;33m\u001b[0m\u001b[1;33m\u001b[0m\u001b[0m\n\u001b[0m\u001b[0;32m   1936\u001b[0m     \u001b[1;32mif\u001b[0m \u001b[0mconstructor\u001b[0m \u001b[1;33m==\u001b[0m \u001b[1;34m\"timeline\"\u001b[0m\u001b[1;33m:\u001b[0m\u001b[1;33m\u001b[0m\u001b[1;33m\u001b[0m\u001b[0m\n\u001b[0;32m   1937\u001b[0m         \u001b[0mconstructor\u001b[0m \u001b[1;33m=\u001b[0m \u001b[0mgo\u001b[0m\u001b[1;33m.\u001b[0m\u001b[0mBar\u001b[0m\u001b[1;33m\u001b[0m\u001b[1;33m\u001b[0m\u001b[0m\n",
      "\u001b[1;32m~\\Anaconda3\\lib\\site-packages\\plotly\\express\\_core.py\u001b[0m in \u001b[0;36mprocess_dataframe_hierarchy\u001b[1;34m(args)\u001b[0m\n\u001b[0;32m   1620\u001b[0m         \u001b[0mdfg\u001b[0m \u001b[1;33m=\u001b[0m \u001b[0mdfg\u001b[0m\u001b[1;33m.\u001b[0m\u001b[0mreset_index\u001b[0m\u001b[1;33m(\u001b[0m\u001b[1;33m)\u001b[0m\u001b[1;33m\u001b[0m\u001b[1;33m\u001b[0m\u001b[0m\n\u001b[0;32m   1621\u001b[0m         \u001b[1;31m# Path label massaging\u001b[0m\u001b[1;33m\u001b[0m\u001b[1;33m\u001b[0m\u001b[1;33m\u001b[0m\u001b[0m\n\u001b[1;32m-> 1622\u001b[1;33m         \u001b[0mdf_tree\u001b[0m\u001b[1;33m[\u001b[0m\u001b[1;34m\"labels\"\u001b[0m\u001b[1;33m]\u001b[0m \u001b[1;33m=\u001b[0m \u001b[0mdfg\u001b[0m\u001b[1;33m[\u001b[0m\u001b[0mlevel\u001b[0m\u001b[1;33m]\u001b[0m\u001b[1;33m.\u001b[0m\u001b[0mcopy\u001b[0m\u001b[1;33m(\u001b[0m\u001b[1;33m)\u001b[0m\u001b[1;33m.\u001b[0m\u001b[0mastype\u001b[0m\u001b[1;33m(\u001b[0m\u001b[0mstr\u001b[0m\u001b[1;33m)\u001b[0m\u001b[1;33m\u001b[0m\u001b[1;33m\u001b[0m\u001b[0m\n\u001b[0m\u001b[0;32m   1623\u001b[0m         \u001b[0mdf_tree\u001b[0m\u001b[1;33m[\u001b[0m\u001b[1;34m\"parent\"\u001b[0m\u001b[1;33m]\u001b[0m \u001b[1;33m=\u001b[0m \u001b[1;34m\"\"\u001b[0m\u001b[1;33m\u001b[0m\u001b[1;33m\u001b[0m\u001b[0m\n\u001b[0;32m   1624\u001b[0m         \u001b[0mdf_tree\u001b[0m\u001b[1;33m[\u001b[0m\u001b[1;34m\"id\"\u001b[0m\u001b[1;33m]\u001b[0m \u001b[1;33m=\u001b[0m \u001b[0mdfg\u001b[0m\u001b[1;33m[\u001b[0m\u001b[0mlevel\u001b[0m\u001b[1;33m]\u001b[0m\u001b[1;33m.\u001b[0m\u001b[0mcopy\u001b[0m\u001b[1;33m(\u001b[0m\u001b[1;33m)\u001b[0m\u001b[1;33m.\u001b[0m\u001b[0mastype\u001b[0m\u001b[1;33m(\u001b[0m\u001b[0mstr\u001b[0m\u001b[1;33m)\u001b[0m\u001b[1;33m\u001b[0m\u001b[1;33m\u001b[0m\u001b[0m\n",
      "\u001b[1;32m~\\Anaconda3\\lib\\site-packages\\pandas\\core\\frame.py\u001b[0m in \u001b[0;36m__getitem__\u001b[1;34m(self, key)\u001b[0m\n\u001b[0;32m   3022\u001b[0m             \u001b[1;32mif\u001b[0m \u001b[0mself\u001b[0m\u001b[1;33m.\u001b[0m\u001b[0mcolumns\u001b[0m\u001b[1;33m.\u001b[0m\u001b[0mnlevels\u001b[0m \u001b[1;33m>\u001b[0m \u001b[1;36m1\u001b[0m\u001b[1;33m:\u001b[0m\u001b[1;33m\u001b[0m\u001b[1;33m\u001b[0m\u001b[0m\n\u001b[0;32m   3023\u001b[0m                 \u001b[1;32mreturn\u001b[0m \u001b[0mself\u001b[0m\u001b[1;33m.\u001b[0m\u001b[0m_getitem_multilevel\u001b[0m\u001b[1;33m(\u001b[0m\u001b[0mkey\u001b[0m\u001b[1;33m)\u001b[0m\u001b[1;33m\u001b[0m\u001b[1;33m\u001b[0m\u001b[0m\n\u001b[1;32m-> 3024\u001b[1;33m             \u001b[0mindexer\u001b[0m \u001b[1;33m=\u001b[0m \u001b[0mself\u001b[0m\u001b[1;33m.\u001b[0m\u001b[0mcolumns\u001b[0m\u001b[1;33m.\u001b[0m\u001b[0mget_loc\u001b[0m\u001b[1;33m(\u001b[0m\u001b[0mkey\u001b[0m\u001b[1;33m)\u001b[0m\u001b[1;33m\u001b[0m\u001b[1;33m\u001b[0m\u001b[0m\n\u001b[0m\u001b[0;32m   3025\u001b[0m             \u001b[1;32mif\u001b[0m \u001b[0mis_integer\u001b[0m\u001b[1;33m(\u001b[0m\u001b[0mindexer\u001b[0m\u001b[1;33m)\u001b[0m\u001b[1;33m:\u001b[0m\u001b[1;33m\u001b[0m\u001b[1;33m\u001b[0m\u001b[0m\n\u001b[0;32m   3026\u001b[0m                 \u001b[0mindexer\u001b[0m \u001b[1;33m=\u001b[0m \u001b[1;33m[\u001b[0m\u001b[0mindexer\u001b[0m\u001b[1;33m]\u001b[0m\u001b[1;33m\u001b[0m\u001b[1;33m\u001b[0m\u001b[0m\n",
      "\u001b[1;32m~\\Anaconda3\\lib\\site-packages\\pandas\\core\\indexes\\base.py\u001b[0m in \u001b[0;36mget_loc\u001b[1;34m(self, key, method, tolerance)\u001b[0m\n\u001b[0;32m   3080\u001b[0m                 \u001b[1;32mreturn\u001b[0m \u001b[0mself\u001b[0m\u001b[1;33m.\u001b[0m\u001b[0m_engine\u001b[0m\u001b[1;33m.\u001b[0m\u001b[0mget_loc\u001b[0m\u001b[1;33m(\u001b[0m\u001b[0mcasted_key\u001b[0m\u001b[1;33m)\u001b[0m\u001b[1;33m\u001b[0m\u001b[1;33m\u001b[0m\u001b[0m\n\u001b[0;32m   3081\u001b[0m             \u001b[1;32mexcept\u001b[0m \u001b[0mKeyError\u001b[0m \u001b[1;32mas\u001b[0m \u001b[0merr\u001b[0m\u001b[1;33m:\u001b[0m\u001b[1;33m\u001b[0m\u001b[1;33m\u001b[0m\u001b[0m\n\u001b[1;32m-> 3082\u001b[1;33m                 \u001b[1;32mraise\u001b[0m \u001b[0mKeyError\u001b[0m\u001b[1;33m(\u001b[0m\u001b[0mkey\u001b[0m\u001b[1;33m)\u001b[0m \u001b[1;32mfrom\u001b[0m \u001b[0merr\u001b[0m\u001b[1;33m\u001b[0m\u001b[1;33m\u001b[0m\u001b[0m\n\u001b[0m\u001b[0;32m   3083\u001b[0m \u001b[1;33m\u001b[0m\u001b[0m\n\u001b[0;32m   3084\u001b[0m         \u001b[1;32mif\u001b[0m \u001b[0mtolerance\u001b[0m \u001b[1;32mis\u001b[0m \u001b[1;32mnot\u001b[0m \u001b[1;32mNone\u001b[0m\u001b[1;33m:\u001b[0m\u001b[1;33m\u001b[0m\u001b[1;33m\u001b[0m\u001b[0m\n",
      "\u001b[1;31mKeyError\u001b[0m: 'Ticker_path_copy'"
     ]
    }
   ],
   "source": [
    "for x in assessor:\n",
    "    \n",
    "    df=p[p['AAI']==x]\n",
    "    fig = px.scatter(df,\n",
    "                     x=\"Volatilidade(%)\", y=\"Lucro ou Prejuízo (%)\", size=\"Exposição Financeira\", color=\"Ticker Ação\",\n",
    "                     log_x=True, size_max=40,\n",
    "                     template='plotly_dark', title=x,hover_name='Ticker',text='Ticker')\n",
    "    fig.show()\n",
    "\n",
    "    fig = px.sunburst(df[df['Situação']=='Vale a Pena Zerar'], path=['Situação','Ticker'], values='Exposição Financeira')\n",
    "    fig.show()"
   ]
  },
  {
   "cell_type": "code",
   "execution_count": 31,
   "metadata": {},
   "outputs": [],
   "source": [
    "tp=[]\n",
    "for x in opcoes:\n",
    "    \n",
    "    Df[Df['Ticker Opção']==x]['Tipo de Ação'].apply(lambda i:tp.append(i)) \n",
    "DF['Tipo de Ação']=tp\n",
    "DF['Tipo de Ação']=DF['Tipo de Ação'].apply(lambda x:x.replace(' ',''))"
   ]
  },
  {
   "cell_type": "code",
   "execution_count": 49,
   "metadata": {},
   "outputs": [],
   "source": [
    "num=[]\n",
    "\n",
    "for x in DF.index:\n",
    "    if DF['Tipo de Ação'][x][0:3]=='PNN':\n",
    "        num.append('3')\n",
    "    elif DF['Tipo de Ação'][x][0:3]=='PNA':\n",
    "        num.append('5')\n",
    "    elif DF['Tipo de Ação'][x][0:3]=='UNT':\n",
    "        num.append('11')\n",
    "    elif DF['Tipo de Ação'][x][0:2]=='ON':\n",
    "        num.append('3')\n",
    "DF['TP Opção']=num        "
   ]
  },
  {
   "cell_type": "code",
   "execution_count": 59,
   "metadata": {},
   "outputs": [
    {
     "name": "stderr",
     "output_type": "stream",
     "text": [
      "<ipython-input-59-87c4293315b5>:2: SettingWithCopyWarning: \n",
      "A value is trying to be set on a copy of a slice from a DataFrame\n",
      "\n",
      "See the caveats in the documentation: https://pandas.pydata.org/pandas-docs/stable/user_guide/indexing.html#returning-a-view-versus-a-copy\n",
      "  DF['Ticker Ação'][x]=str(DF['Ticker'][0:4])+DF['TP Opção'][x]\n"
     ]
    }
   ],
   "source": [
    "for x in DF.index:\n",
    "    DF['Ticker Ação'][x]=str(DF['Ticker'][x][0:4])+DF['TP Opção'][x]"
   ]
  },
  {
   "cell_type": "code",
   "execution_count": null,
   "metadata": {},
   "outputs": [],
   "source": []
  }
 ],
 "metadata": {
  "kernelspec": {
   "display_name": "Python 3",
   "language": "python",
   "name": "python3"
  },
  "language_info": {
   "codemirror_mode": {
    "name": "ipython",
    "version": 3
   },
   "file_extension": ".py",
   "mimetype": "text/x-python",
   "name": "python",
   "nbconvert_exporter": "python",
   "pygments_lexer": "ipython3",
   "version": "3.8.3"
  }
 },
 "nbformat": 4,
 "nbformat_minor": 5
}
